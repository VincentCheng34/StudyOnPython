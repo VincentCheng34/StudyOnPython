{
 "cells": [
  {
   "cell_type": "markdown",
   "metadata": {},
   "source": [
    "# 讀出所有方志階層檔，並存於 Book obj 中"
   ]
  },
  {
   "cell_type": "code",
   "execution_count": 1,
   "metadata": {},
   "outputs": [],
   "source": [
    "filepath = '/Volumes/backup_128G/z_repository/PTC_data/DADH_2019/0_方志/TOC'"
   ]
  },
  {
   "cell_type": "code",
   "execution_count": 2,
   "metadata": {},
   "outputs": [
    {
     "name": "stdout",
     "output_type": "stream",
     "text": [
      "3998\n",
      "['/Volumes/backup_128G/z_repository/PTC_data/DADH_2019/0_方志/TOC/35392.xml', '/Volumes/backup_128G/z_repository/PTC_data/DADH_2019/0_方志/TOC/97486.xml', '/Volumes/backup_128G/z_repository/PTC_data/DADH_2019/0_方志/TOC/35386.xml', '/Volumes/backup_128G/z_repository/PTC_data/DADH_2019/0_方志/TOC/92850.xml', '/Volumes/backup_128G/z_repository/PTC_data/DADH_2019/0_方志/TOC/36842.xml']\n"
     ]
    }
   ],
   "source": [
    "import os\n",
    "\n",
    "files = []\n",
    "# r=root, d=directories, f = files\n",
    "for r, d, f in os.walk(filepath):\n",
    "    for file in f:\n",
    "        if '._' not in file and '.xml' in file and file != 'bookId.xml':\n",
    "            files.append(os.path.join(r, file))\n",
    "\n",
    "print(len(files))\n",
    "print(files[0:5])"
   ]
  },
  {
   "cell_type": "code",
   "execution_count": 3,
   "metadata": {},
   "outputs": [],
   "source": [
    "import xmltodict, json\n",
    "\n",
    "Books = {}\n",
    "\n",
    "def singleChapter(INchapter, INparent, chapterTitles):\n",
    "    _title = INchapter['title']\n",
    "    \n",
    "    _from = \"\"\n",
    "    if '@from' in INchapter:\n",
    "        _from = INchapter['@from']\n",
    "    \n",
    "    _to = \"\"\n",
    "    if '@to' in INchapter:\n",
    "        _to = INchapter['@to']\n",
    "        \n",
    "    _level = \"\"\n",
    "    if '@level' in INchapter:\n",
    "        _level = INchapter['@level']\n",
    "        \n",
    "    _n = \"\"\n",
    "    if '@n' in INchapter:\n",
    "        _n = INchapter['@n']\n",
    "\n",
    "    # 'parent' = [sub]\n",
    "#     print(INparent, _title)\n",
    "    if INparent not in chapterTitles:\n",
    "        chapterTitles[INparent] = [_title]\n",
    "    elif _title not in chapterTitles[INparent]:\n",
    "        chapterTitles[INparent].append(_title)\n",
    "        \n",
    "    # [sub] = [parent]\n",
    "#     if _title not in chapterTitles:\n",
    "#         chapterTitles[_title] = [INparent]\n",
    "#     elif INparent not in chapterTitles[_title]:\n",
    "#         chapterTitles[_title].append(INparent)\n",
    "    \n",
    "def section(INarray, INtitle, chapterTitles):\n",
    "#     print(\"section::\", INtitle, type(INarray), INarray)\n",
    "    if type(INarray) == dict:\n",
    "        singleChapter(INarray, INtitle, chapterTitles)\n",
    "        if 'section' in INarray:\n",
    "            section(INarray['section'], INarray['title'], chapterTitles) \n",
    "        \n",
    "    elif type(INarray) == list:    \n",
    "        for ch in INarray:\n",
    "            section(ch, INtitle, chapterTitles)\n",
    "            if 'section' in ch:\n",
    "                section(ch['section'], ch['title'], chapterTitles)\n",
    "                \n",
    "    else:\n",
    "        print(INarray)\n",
    "        print(\"ERROR:\", type(INarray))\n",
    "        \n",
    "    return chapterTitles\n",
    "\n",
    "# file: [35393].xml\n",
    "def recursiveSection(INdata):\n",
    "    chapterTitles = {}\n",
    "    book = INdata['title']\n",
    "\n",
    "    if 'section' in INdata:\n",
    "        titleObj = section(INdata['section'], book, chapterTitles)\n",
    "    return titleObj\n",
    "\n",
    "def parseFile(file):\n",
    "    with open(file) as fp:\n",
    "        xmlStr = fp.read()\n",
    "        convertedDict = xmltodict.parse(xmlStr);\n",
    "        jsonStr = json.dumps(convertedDict, ensure_ascii=False)\n",
    "        jsonObj = json.loads(jsonStr)\n",
    "\n",
    "#         print(jsonObj)\n",
    "        book = jsonObj['book']\n",
    "\n",
    "        titleObj = recursiveSection(book)\n",
    "#         print(titleObj)\n",
    "    \n",
    "        rstart = file.rfind('/')\n",
    "        rend = file.rfind('.')\n",
    "        # file: [35393].xml\n",
    "        bid = file[rstart+1:rend]\n",
    "        \n",
    "        bname = list(titleObj.keys())[0]         \n",
    "        Books[bid] = {'book': bname, 'data': titleObj}\n",
    "    \n",
    "# print(files[0])\n",
    "# parseFile(files[0])\n",
    "# print(Books)\n",
    "# parseFile(\"/Volumes/backup_128G/z_repository/PTC_data/DADH_2019/0_方志/TOC/97725.xml\")"
   ]
  },
  {
   "cell_type": "code",
   "execution_count": 4,
   "metadata": {},
   "outputs": [
    {
     "name": "stdout",
     "output_type": "stream",
     "text": [
      "3998\n"
     ]
    }
   ],
   "source": [
    "# root = AnyNode(id=\"root\")\n",
    "for file in files:\n",
    "    parseFile(file)\n",
    "print(len(Books))\n",
    "# parseFile(files[0])"
   ]
  },
  {
   "cell_type": "code",
   "execution_count": 5,
   "metadata": {},
   "outputs": [
    {
     "name": "stdout",
     "output_type": "stream",
     "text": [
      "{'book': '涇縣續志', 'data': {'涇縣續志': ['山澤附（闕）', '節婦（闕）', '涇縣續志序', '涇縣續志纂修姓氏', '涇縣續志目錄', '卷一', '卷二', '卷三', '卷四', '卷五', '卷六', '卷七', '卷八', '卷九'], '卷一': ['學校', '書院', '壇廟', '公館', '橋梁', '津渡', '古蹟', '寺觀'], '書院': ['學田'], '古蹟': ['冡墓'], '卷二': ['食貨', '職官表', '選舉表'], '食貨': ['蠲賑', '恩賚', '户口', '積貯'], '選舉表': ['例仕', '吏仕', '武選舉', '武職', '贈封', '歷襲'], '卷三': ['人物'], '人物': ['名臣', '宦業', '忠節', '孝友', '儒林', '文苑', '武功', '懿行', '尚義', '五世同堂', '百歳', '隱逸', '藝術', '寓賢'], '卷四': ['人物'], '卷五': ['人物'], '卷六': ['人物'], '卷七': ['列女'], '列女': ['已旌', '烈婦：已旌', '貞女', '壽婦', '節婦：已故待旌', '烈婦', '孝女', '現年節婦'], '卷八': ['列女'], '卷九': ['藝文', '災祥', '附刻煙石嶺禁碑并\\uedce字']}}\n"
     ]
    }
   ],
   "source": [
    "# the first \n",
    "# print(Books[list(Books.keys())[0]])\n",
    "# print(Books['17106'])\n",
    "# print(Books['97725'])\n",
    "print(Books['35282'])\n"
   ]
  },
  {
   "cell_type": "markdown",
   "metadata": {},
   "source": [
    "# 哪幾本方志階層不用修正 "
   ]
  },
  {
   "cell_type": "code",
   "execution_count": 6,
   "metadata": {},
   "outputs": [
    {
     "name": "stdout",
     "output_type": "stream",
     "text": [
      "涇縣續志\n",
      "=== 山澤附（闕）\n",
      "=== 節婦（闕）\n",
      "=== 涇縣續志序\n",
      "=== 涇縣續志纂修姓氏\n",
      "=== 涇縣續志目錄\n",
      "=== 卷一\n",
      "====== 學校\n",
      "====== 書院\n",
      "========= 學田\n",
      "====== 壇廟\n",
      "====== 公館\n",
      "====== 橋梁\n",
      "====== 津渡\n",
      "====== 古蹟\n",
      "========= 冡墓\n",
      "====== 寺觀\n",
      "=== 卷二\n",
      "====== 食貨\n",
      "========= 蠲賑\n",
      "========= 恩賚\n",
      "========= 户口\n",
      "========= 積貯\n",
      "====== 職官表\n",
      "====== 選舉表\n",
      "========= 例仕\n",
      "========= 吏仕\n",
      "========= 武選舉\n",
      "========= 武職\n",
      "========= 贈封\n",
      "========= 歷襲\n",
      "=== 卷三\n",
      "====== 人物\n",
      "========= 名臣\n",
      "========= 宦業\n",
      "========= 忠節\n",
      "========= 孝友\n",
      "========= 儒林\n",
      "========= 文苑\n",
      "========= 武功\n",
      "========= 懿行\n",
      "========= 尚義\n",
      "========= 五世同堂\n",
      "========= 百歳\n",
      "========= 隱逸\n",
      "========= 藝術\n",
      "========= 寓賢\n",
      "=== 卷四\n",
      "====== 人物\n",
      "========= 名臣\n",
      "========= 宦業\n",
      "========= 忠節\n",
      "========= 孝友\n",
      "========= 儒林\n",
      "========= 文苑\n",
      "========= 武功\n",
      "========= 懿行\n",
      "========= 尚義\n",
      "========= 五世同堂\n",
      "========= 百歳\n",
      "========= 隱逸\n",
      "========= 藝術\n",
      "========= 寓賢\n",
      "=== 卷五\n",
      "====== 人物\n",
      "========= 名臣\n",
      "========= 宦業\n",
      "========= 忠節\n",
      "========= 孝友\n",
      "========= 儒林\n",
      "========= 文苑\n",
      "========= 武功\n",
      "========= 懿行\n",
      "========= 尚義\n",
      "========= 五世同堂\n",
      "========= 百歳\n",
      "========= 隱逸\n",
      "========= 藝術\n",
      "========= 寓賢\n",
      "=== 卷六\n",
      "====== 人物\n",
      "========= 名臣\n",
      "========= 宦業\n",
      "========= 忠節\n",
      "========= 孝友\n",
      "========= 儒林\n",
      "========= 文苑\n",
      "========= 武功\n",
      "========= 懿行\n",
      "========= 尚義\n",
      "========= 五世同堂\n",
      "========= 百歳\n",
      "========= 隱逸\n",
      "========= 藝術\n",
      "========= 寓賢\n",
      "=== 卷七\n",
      "====== 列女\n",
      "========= 已旌\n",
      "========= 烈婦：已旌\n",
      "========= 貞女\n",
      "========= 壽婦\n",
      "========= 節婦：已故待旌\n",
      "========= 烈婦\n",
      "========= 孝女\n",
      "========= 現年節婦\n",
      "=== 卷八\n",
      "====== 列女\n",
      "========= 已旌\n",
      "========= 烈婦：已旌\n",
      "========= 貞女\n",
      "========= 壽婦\n",
      "========= 節婦：已故待旌\n",
      "========= 烈婦\n",
      "========= 孝女\n",
      "========= 現年節婦\n",
      "=== 卷九\n",
      "====== 藝文\n",
      "====== 災祥\n",
      "====== 附刻煙石嶺禁碑并字\n"
     ]
    }
   ],
   "source": [
    "import sys\n",
    "\n",
    "def showLevelGap(level):\n",
    "    x = \"\"\n",
    "    for idx in range(0, level):\n",
    "        x += \"===\"\n",
    "    return x\n",
    "    \n",
    "def showSubChapter(subs, data, level, uppers):\n",
    "    if level > 10:\n",
    "        sys.exit()\n",
    "\n",
    "    for s in subs:\n",
    "        prefix = showLevelGap(level)\n",
    "        print(prefix, s)\n",
    "        if s not in data:\n",
    "            continue\n",
    "\n",
    "        if level == 1:\n",
    "#             print(\"LEVEL 1::\", uppers)\n",
    "            uppers = []\n",
    "        else:\n",
    "            if s in uppers:\n",
    "                continue\n",
    "            else:\n",
    "                uppers.append(s)\n",
    "            \n",
    "        nxtSubs = data[s]\n",
    "        showSubChapter(nxtSubs, data, level+1, uppers)\n",
    "    \n",
    "# read one gazetters\n",
    "def showGazetter(bid):\n",
    "    if bid not in Books:\n",
    "        print(\"ERROR!!\", bid)\n",
    "        return\n",
    "    gazetteer = Books[bid]\n",
    "    title = gazetteer['book']\n",
    "    print(title)\n",
    "\n",
    "    data = gazetteer['data']\n",
    "#     print(data)\n",
    "    \n",
    "    firstLevels = data[title]\n",
    "    uppers = []\n",
    "    showSubChapter(firstLevels, data, 1, uppers)\n",
    "            \n",
    "# showGazetter('35392')\n",
    "# showGazetter('17106')\n",
    "# showGazetter('97725')\n",
    "showGazetter('35282')\n"
   ]
  },
  {
   "cell_type": "code",
   "execution_count": 7,
   "metadata": {},
   "outputs": [
    {
     "data": {
      "text/plain": [
       "False"
      ]
     },
     "execution_count": 7,
     "metadata": {},
     "output_type": "execute_result"
    }
   ],
   "source": [
    "import sys\n",
    "    \n",
    "def checkSubChapter(subs, data, level, uppers):\n",
    "    if level > 10:\n",
    "        sys.exit()\n",
    "\n",
    "    for s in subs:\n",
    "        if type(s) != str:\n",
    "            continue\n",
    "        if len(s) > 3:\n",
    "            return False\n",
    "        if s not in data:\n",
    "            continue\n",
    "            \n",
    "        if level == 1:\n",
    "            uppers = []\n",
    "        else:\n",
    "            if s in uppers:\n",
    "                continue\n",
    "            else:\n",
    "                uppers.append(s)\n",
    "\n",
    "        nxtSubs = data[s]\n",
    "        if checkSubChapter(nxtSubs, data, level+1, uppers) == False:\n",
    "            return False\n",
    "    return True\n",
    "\n",
    "# check gazetter's chapter categories are correct or not\n",
    "def checkGazetter(bid):\n",
    "    if bid not in Books:\n",
    "        print(\"ERROR!!\", bid)\n",
    "        return False\n",
    "    gazetteer = Books[bid]\n",
    "    title = gazetteer['book']\n",
    "\n",
    "    data = gazetteer['data']\n",
    "    firstLevels = data[title]\n",
    "    return checkSubChapter(firstLevels, data, 1, [])\n",
    "\n",
    "# checkGazetter('36789')\n",
    "# checkGazetter('98012')\n",
    "checkGazetter('97725')\n"
   ]
  },
  {
   "cell_type": "code",
   "execution_count": 8,
   "metadata": {},
   "outputs": [
    {
     "name": "stdout",
     "output_type": "stream",
     "text": [
      "17\n",
      "['98145', '97953', '97622', '94355', '97017', '93658', '93659', '94291', '92903', '37039', '71417', '93555', '98144', '93051', '16649', '93602', '97806']\n"
     ]
    }
   ],
   "source": [
    "easyGazetters = []\n",
    "for b in Books:\n",
    "    if checkGazetter(b):\n",
    "        easyGazetters.append(b)\n",
    "print(len(easyGazetters))\n",
    "print(easyGazetters)"
   ]
  },
  {
   "cell_type": "code",
   "execution_count": 9,
   "metadata": {},
   "outputs": [
    {
     "name": "stdout",
     "output_type": "stream",
     "text": [
      "南川縣志\n",
      "=== 沿革\n",
      "=== 星野\n",
      "=== 形勝\n",
      "=== 城池\n",
      "=== 公署\n",
      "=== 學校\n",
      "=== 風俗\n",
      "=== 戶口\n",
      "=== 田賦\n",
      "=== 山川\n",
      "=== 橋樑\n",
      "=== 祠觀\n",
      "=== 古蹟\n",
      "=== 秩官\n",
      "=== 節烈\n",
      "=== 名宦\n",
      "=== 鄉賢\n",
      "=== 人物\n"
     ]
    }
   ],
   "source": [
    "showGazetter('97806')"
   ]
  },
  {
   "cell_type": "markdown",
   "metadata": {},
   "source": [
    "# Write chapters to file"
   ]
  },
  {
   "cell_type": "code",
   "execution_count": 10,
   "metadata": {},
   "outputs": [],
   "source": [
    "# allChapters = []\n",
    "\n",
    "# for key in chapterTitles:\n",
    "#     if key not in allChapters:\n",
    "#         allChapters.append(key)\n",
    "#     for c in chapterTitles[key]:\n",
    "#         if c not in allChapters:\n",
    "#             allChapters.append(c)\n",
    "\n",
    "# print(len(allChapters))"
   ]
  },
  {
   "cell_type": "code",
   "execution_count": 11,
   "metadata": {},
   "outputs": [],
   "source": [
    "# import pandas as pd\n",
    "\n",
    "# resDf = pd.DataFrame.from_dict(allChapters)\n",
    "# # print(resDf)\n",
    "# resDf.sort_values(by=[0],inplace=True)\n",
    "# resDf.head()"
   ]
  },
  {
   "cell_type": "code",
   "execution_count": 12,
   "metadata": {},
   "outputs": [],
   "source": [
    "# outputPath = '/Volumes/backup_128G/z_repository/PTC_data/DADH_2019/0_方志'\n",
    "# write_file_to = '{0}/{1}'.format(outputPath, 'allchapters_20190819_v2.xlsx')\n",
    "# resDf.to_excel(write_file_to, index=True)"
   ]
  },
  {
   "cell_type": "markdown",
   "metadata": {},
   "source": [
    "# test"
   ]
  },
  {
   "cell_type": "code",
   "execution_count": 13,
   "metadata": {},
   "outputs": [],
   "source": [
    "# dupbooks = {}\n",
    "# for key in bookTitles:\n",
    "# #     print(bookTitles[key])\n",
    "#     if len(bookTitles[key]) > 1:\n",
    "# #         print(key, bookTitles[key])\n",
    "#         dupbooks[key] = bookTitles[key]\n",
    "# print(len(dupbooks))"
   ]
  },
  {
   "cell_type": "code",
   "execution_count": 14,
   "metadata": {},
   "outputs": [],
   "source": [
    "# import pandas as pd\n",
    "\n",
    "# resDf = pd.DataFrame.from_dict(dupbooks, orient='index')\n",
    "# # print(resDf)\n",
    "# resDf.sort_index(inplace=True)\n",
    "# resDf.head()\n",
    "\n",
    "# print(len(resDf))"
   ]
  },
  {
   "cell_type": "code",
   "execution_count": 15,
   "metadata": {},
   "outputs": [],
   "source": [
    "# outputPath = '/Volumes/backup_128G/z_repository/PTC_data/DADH_2019/0_方志'\n",
    "# write_file_to = '{0}/{1}'.format(outputPath, 'gazetteers_20190811_v2.xlsx')\n",
    "# resDf.to_excel(write_file_to, index=True)"
   ]
  },
  {
   "cell_type": "code",
   "execution_count": 16,
   "metadata": {},
   "outputs": [],
   "source": [
    "# import pandas as pd\n",
    "\n",
    "# resDf = pd.DataFrame(chapterTitles, columns=['section'])\n",
    "# resDf.sort_values(by=['section'], inplace=True)\n",
    "# resDf.head()\n",
    "\n",
    "# print(len(resDf))"
   ]
  },
  {
   "cell_type": "code",
   "execution_count": 17,
   "metadata": {},
   "outputs": [],
   "source": [
    "# outputPath = '/Volumes/backup_128G/z_repository/PTC_data/DADH_2019/0_方志'\n",
    "# write_file_to = '{0}/{1}'.format(outputPath, 'gazetteers_20190811_v1.xlsx')\n",
    "# resDf.to_excel(write_file_to, index=False)"
   ]
  },
  {
   "cell_type": "code",
   "execution_count": 18,
   "metadata": {},
   "outputs": [],
   "source": [
    "# count = 0\n",
    "# for key in chapterTitles:\n",
    "#     print(key, chapterTitles[key])\n",
    "#     count += 1\n",
    "#     if count > 5:\n",
    "#         break"
   ]
  },
  {
   "cell_type": "code",
   "execution_count": 19,
   "metadata": {},
   "outputs": [],
   "source": [
    "# # Remove bookname\n",
    "# booknamecnt = 0\n",
    "# for sec in chapterTitles:\n",
    "# #     print(type(sec))\n",
    "#     if sec == None:\n",
    "#         continue\n",
    "#     titles = chapterTitles[sec]\n",
    "    \n",
    "#     for tit in titles:\n",
    "#         if tit == None:\n",
    "#             continue\n",
    "# #         print(sec)\n",
    "#         if sec.startswith(tit):\n",
    "#             if tit not in bookTitles:\n",
    "#                 # remove the same section names in parent and sub section both\n",
    "#                 if sec == tit:\n",
    "#                     chapterTitles[sec].remove(tit)\n",
    "#                     print(sec, tit)\n",
    "#             else:\n",
    "# #                 print(tit)\n",
    "#                 chapterTitles[sec].remove(tit)\n",
    "\n",
    "#             booknamecnt += 1\n",
    "        \n",
    "#         # remove parent section is book\n",
    "# #         if tit in bookTitles:\n",
    "# #             chapterTitles[sec].remove(tit)\n",
    "# #             booknamecnt += 1\n",
    "# #             print(sec, tit)\n",
    "            \n",
    "# print(booknamecnt)\n",
    "# # print(len(chapterTitles))"
   ]
  },
  {
   "cell_type": "code",
   "execution_count": 20,
   "metadata": {},
   "outputs": [],
   "source": [
    "# bookTitles['成安縣志']"
   ]
  },
  {
   "cell_type": "code",
   "execution_count": 21,
   "metadata": {},
   "outputs": [],
   "source": [
    "# remove parent section is book\n",
    "# for sec in chapterTitles:\n",
    "# #     print(type(sec))\n",
    "#     if sec == None:\n",
    "#         continue\n",
    "#     titles = chapterTitles[sec]\n",
    "    \n",
    "#     for tit in titles:\n",
    "#         if tit == None:\n",
    "#             continue\n",
    "\n",
    "#         if tit in bookTitles:\n",
    "#             # remove the parent section name which is the same as bookname\n",
    "#             chapterTitles[sec].remove(tit)\n",
    "            \n",
    "# print(len(chapterTitles))"
   ]
  },
  {
   "cell_type": "code",
   "execution_count": 22,
   "metadata": {},
   "outputs": [],
   "source": [
    "# 僊居水卷之一\n",
    "# type(chapterTitles)"
   ]
  },
  {
   "cell_type": "code",
   "execution_count": 23,
   "metadata": {},
   "outputs": [],
   "source": [
    "# import re\n",
    "\n",
    "# for key in chapterTitles:\n",
    "#     titles = chapterTitles[key]\n",
    "#     for t in titles:\n",
    "#         x = re.search(\".*卷[首之上下一二三四五六七八九十]*\", t)\n",
    "#         if x != None:\n",
    "#             print(t, x)\n",
    "#             chapterTitles[key].remove(t)"
   ]
  },
  {
   "cell_type": "code",
   "execution_count": 24,
   "metadata": {},
   "outputs": [],
   "source": [
    "# chapterTitles"
   ]
  },
  {
   "cell_type": "code",
   "execution_count": null,
   "metadata": {},
   "outputs": [],
   "source": []
  }
 ],
 "metadata": {
  "kernelspec": {
   "display_name": "Python 3",
   "language": "python",
   "name": "python3"
  },
  "language_info": {
   "codemirror_mode": {
    "name": "ipython",
    "version": 3
   },
   "file_extension": ".py",
   "mimetype": "text/x-python",
   "name": "python",
   "nbconvert_exporter": "python",
   "pygments_lexer": "ipython3",
   "version": "3.7.0"
  }
 },
 "nbformat": 4,
 "nbformat_minor": 2
}
