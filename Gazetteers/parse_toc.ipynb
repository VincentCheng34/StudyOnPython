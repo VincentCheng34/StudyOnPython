{
 "cells": [
  {
   "cell_type": "code",
   "execution_count": 1,
   "metadata": {},
   "outputs": [],
   "source": [
    "filepath = '/Volumes/backup_128G/z_repository/PTC_data/DADH_2019/0_方志/TOC'"
   ]
  },
  {
   "cell_type": "code",
   "execution_count": 2,
   "metadata": {},
   "outputs": [
    {
     "name": "stdout",
     "output_type": "stream",
     "text": [
      "3998\n",
      "['/Volumes/backup_128G/z_repository/PTC_data/DADH_2019/0_方志/TOC/35392.xml', '/Volumes/backup_128G/z_repository/PTC_data/DADH_2019/0_方志/TOC/97486.xml', '/Volumes/backup_128G/z_repository/PTC_data/DADH_2019/0_方志/TOC/35386.xml', '/Volumes/backup_128G/z_repository/PTC_data/DADH_2019/0_方志/TOC/92850.xml', '/Volumes/backup_128G/z_repository/PTC_data/DADH_2019/0_方志/TOC/36842.xml']\n"
     ]
    }
   ],
   "source": [
    "import os\n",
    "\n",
    "files = []\n",
    "# r=root, d=directories, f = files\n",
    "for r, d, f in os.walk(filepath):\n",
    "    for file in f:\n",
    "        if '._' not in file and '.xml' in file and file != 'bookId.xml':\n",
    "            files.append(os.path.join(r, file))\n",
    "\n",
    "print(len(files))\n",
    "print(files[0:5])"
   ]
  },
  {
   "cell_type": "code",
   "execution_count": 3,
   "metadata": {},
   "outputs": [],
   "source": [
    "import xmltodict, json\n",
    "\n",
    "# from anytree import AnyNode, RenderTree\n",
    "bookTitles = {}\n",
    "chapterTitles = {}\n",
    "\n",
    "def chapterWithBook(INchapter):\n",
    "    for book in bookTitles:\n",
    "        if INchapter in book:\n",
    "            return True\n",
    "    return False\n",
    "    \n",
    "def singleChapter(INchapter, INparent):\n",
    "    _title = INchapter['title']\n",
    "#     if type(_title) == str and _title.startswith(INparent):\n",
    "# #         print(INparent, _title)\n",
    "#         _title = _title[len(INparent):]\n",
    "#         print(INparent, _title)\n",
    "#         replaceCount = replaceCount + 1\n",
    "    \n",
    "    _from = \"\"\n",
    "    if '@from' in INchapter:\n",
    "        _from = INchapter['@from']\n",
    "    \n",
    "    _to = \"\"\n",
    "    if '@to' in INchapter:\n",
    "        _to = INchapter['@to']\n",
    "        \n",
    "    _level = \"\"\n",
    "    if '@level' in INchapter:\n",
    "        _level = INchapter['@level']\n",
    "        \n",
    "    _n = \"\"\n",
    "    if '@n' in INchapter:\n",
    "        _n = INchapter['@n']\n",
    "        \n",
    "#     if INparent not in chapterTitles:\n",
    "#         chapterTitles[INparent] = \n",
    "\n",
    "    if _title not in chapterTitles:\n",
    "#         chapterTitles.append(_title:INparent)\n",
    "        if INparent not in bookTitles:\n",
    "            chapterTitles[_title] = [INparent]\n",
    "#             AnyNode(id=_title, parent=AnyNode(id=INparent))\n",
    "    elif INparent not in chapterTitles[_title]:\n",
    "        if INparent not in bookTitles:\n",
    "            chapterTitles[_title].append(INparent)\n",
    "#             AnyNode(id=_title, parent=AnyNode(id=INparent))\n",
    "\n",
    "#     print(INparent, title, _from, _to, _level, _n)\n",
    "#     return {title, _from, _to, _level, _n}\n",
    "    \n",
    "def section(INarray, INtitle):\n",
    "    if type(INarray) == dict:\n",
    "        singleChapter(INarray, INtitle)\n",
    "        \n",
    "    elif type(INarray) == list:    \n",
    "        for ch in INarray:\n",
    "            section(ch, INtitle)\n",
    "            if 'section' in ch:\n",
    "                section(ch['section'], ch['title'])\n",
    "                \n",
    "    else:\n",
    "        print(INarray)\n",
    "        print(\"ERROR:\", type(INarray))\n",
    "\n",
    "        \n",
    "def recursiveSection(INdata, fid):\n",
    "    book = INdata['title']\n",
    "    \n",
    "    if book in bookTitles:\n",
    "#         print(bookTitles)\n",
    "#         print(\"ERROR!\", book)\n",
    "        bookTitles[book].append(fid)\n",
    "    else:\n",
    "        bookTitles[book] = [fid]\n",
    "\n",
    "#     print(\"BOOK:\", title, file)\n",
    "#     subSection = {}\n",
    "    if 'section' in INdata:\n",
    "        section(INdata['section'], book)\n",
    "        \n",
    "#     broot = {}\n",
    "#     broot[fid] = {'hasBookName': title, 'hasSubSection': subSection}\n",
    "#     return broot\n",
    "\n",
    "def parseFile(file):\n",
    "    with open(file) as fp:\n",
    "        xmlStr = fp.read()\n",
    "        convertedDict = xmltodict.parse(xmlStr);\n",
    "        jsonStr = json.dumps(convertedDict, ensure_ascii=False)\n",
    "        jsonObj = json.loads(jsonStr)\n",
    "\n",
    "#         print(jsonObj)\n",
    "        book = jsonObj['book']\n",
    "    \n",
    "        rstart = file.rfind('/')\n",
    "        rend = file.rfind('.')\n",
    "        recursiveSection(book, file[rstart+1:rend])\n",
    "#         print(bookTree)\n",
    "        \n",
    "# parseFile(files[0])"
   ]
  },
  {
   "cell_type": "code",
   "execution_count": 4,
   "metadata": {},
   "outputs": [],
   "source": [
    "# root = AnyNode(id=\"root\")\n",
    "for file in files:\n",
    "    parseFile(file)\n",
    "# parseFile(files[0])"
   ]
  },
  {
   "cell_type": "code",
   "execution_count": 5,
   "metadata": {},
   "outputs": [],
   "source": [
    "# # Remove bookname\n",
    "# booknamecnt = 0\n",
    "# for sec in chapterTitles:\n",
    "# #     print(type(sec))\n",
    "#     if sec == None:\n",
    "#         continue\n",
    "#     titles = chapterTitles[sec]\n",
    "    \n",
    "#     for tit in titles:\n",
    "#         if tit == None:\n",
    "#             continue\n",
    "# #         print(sec)\n",
    "#         if sec.startswith(tit):\n",
    "#             if tit not in bookTitles:\n",
    "#                 # remove the same section names in parent and sub section both\n",
    "#                 if sec == tit:\n",
    "#                     chapterTitles[sec].remove(tit)\n",
    "#                     print(sec, tit)\n",
    "#             else:\n",
    "# #                 print(tit)\n",
    "#                 chapterTitles[sec].remove(tit)\n",
    "\n",
    "#             booknamecnt += 1\n",
    "        \n",
    "#         # remove parent section is book\n",
    "# #         if tit in bookTitles:\n",
    "# #             chapterTitles[sec].remove(tit)\n",
    "# #             booknamecnt += 1\n",
    "# #             print(sec, tit)\n",
    "            \n",
    "# print(booknamecnt)\n",
    "# # print(len(chapterTitles))"
   ]
  },
  {
   "cell_type": "markdown",
   "metadata": {},
   "source": [
    "# Write chapters to file"
   ]
  },
  {
   "cell_type": "code",
   "execution_count": 6,
   "metadata": {},
   "outputs": [
    {
     "name": "stdout",
     "output_type": "stream",
     "text": [
      "77425\n"
     ]
    }
   ],
   "source": [
    "allChapters = []\n",
    "\n",
    "for key in chapterTitles:\n",
    "    if key not in allChapters:\n",
    "        allChapters.append(key)\n",
    "    for c in chapterTitles[key]:\n",
    "        if c not in allChapters:\n",
    "            allChapters.append(c)\n",
    "\n",
    "print(len(allChapters))"
   ]
  },
  {
   "cell_type": "code",
   "execution_count": 7,
   "metadata": {},
   "outputs": [
    {
     "data": {
      "text/html": [
       "<div>\n",
       "<style scoped>\n",
       "    .dataframe tbody tr th:only-of-type {\n",
       "        vertical-align: middle;\n",
       "    }\n",
       "\n",
       "    .dataframe tbody tr th {\n",
       "        vertical-align: top;\n",
       "    }\n",
       "\n",
       "    .dataframe thead th {\n",
       "        text-align: right;\n",
       "    }\n",
       "</style>\n",
       "<table border=\"1\" class=\"dataframe\">\n",
       "  <thead>\n",
       "    <tr style=\"text-align: right;\">\n",
       "      <th></th>\n",
       "      <th>0</th>\n",
       "    </tr>\n",
       "  </thead>\n",
       "  <tbody>\n",
       "    <tr>\n",
       "      <th>33834</th>\n",
       "      <td>(二)河流</td>\n",
       "    </tr>\n",
       "    <tr>\n",
       "      <th>58589</th>\n",
       "      <td>□制</td>\n",
       "    </tr>\n",
       "    <tr>\n",
       "      <th>53167</th>\n",
       "      <td>□陵墓志</td>\n",
       "    </tr>\n",
       "    <tr>\n",
       "      <th>51844</th>\n",
       "      <td>○丘墓</td>\n",
       "    </tr>\n",
       "    <tr>\n",
       "      <th>51875</th>\n",
       "      <td>○事紀</td>\n",
       "    </tr>\n",
       "  </tbody>\n",
       "</table>\n",
       "</div>"
      ],
      "text/plain": [
       "           0\n",
       "33834  (二)河流\n",
       "58589     □制\n",
       "53167   □陵墓志\n",
       "51844    ○丘墓\n",
       "51875    ○事紀"
      ]
     },
     "execution_count": 7,
     "metadata": {},
     "output_type": "execute_result"
    }
   ],
   "source": [
    "import pandas as pd\n",
    "\n",
    "resDf = pd.DataFrame.from_dict(allChapters)\n",
    "# print(resDf)\n",
    "resDf.sort_values(by=[0],inplace=True)\n",
    "resDf.head()"
   ]
  },
  {
   "cell_type": "code",
   "execution_count": 8,
   "metadata": {},
   "outputs": [],
   "source": [
    "outputPath = '/Volumes/backup_128G/z_repository/PTC_data/DADH_2019/0_方志'\n",
    "write_file_to = '{0}/{1}'.format(outputPath, 'allchapters_20190819_v2.xlsx')\n",
    "resDf.to_excel(write_file_to, index=True)"
   ]
  },
  {
   "cell_type": "markdown",
   "metadata": {},
   "source": [
    "# test"
   ]
  },
  {
   "cell_type": "code",
   "execution_count": 9,
   "metadata": {},
   "outputs": [
    {
     "name": "stdout",
     "output_type": "stream",
     "text": [
      "861\n"
     ]
    }
   ],
   "source": [
    "dupbooks = {}\n",
    "for key in bookTitles:\n",
    "#     print(bookTitles[key])\n",
    "    if len(bookTitles[key]) > 1:\n",
    "#         print(key, bookTitles[key])\n",
    "        dupbooks[key] = bookTitles[key]\n",
    "print(len(dupbooks))"
   ]
  },
  {
   "cell_type": "code",
   "execution_count": 10,
   "metadata": {},
   "outputs": [
    {
     "name": "stdout",
     "output_type": "stream",
     "text": [
      "861\n"
     ]
    }
   ],
   "source": [
    "import pandas as pd\n",
    "\n",
    "resDf = pd.DataFrame.from_dict(dupbooks, orient='index')\n",
    "# print(resDf)\n",
    "resDf.sort_index(inplace=True)\n",
    "resDf.head()\n",
    "\n",
    "print(len(resDf))"
   ]
  },
  {
   "cell_type": "code",
   "execution_count": 11,
   "metadata": {},
   "outputs": [],
   "source": [
    "outputPath = '/Volumes/backup_128G/z_repository/PTC_data/DADH_2019/0_方志'\n",
    "write_file_to = '{0}/{1}'.format(outputPath, 'gazetteers_20190811_v2.xlsx')\n",
    "resDf.to_excel(write_file_to, index=True)"
   ]
  },
  {
   "cell_type": "code",
   "execution_count": 12,
   "metadata": {},
   "outputs": [],
   "source": [
    "# import pandas as pd\n",
    "\n",
    "# resDf = pd.DataFrame(chapterTitles, columns=['section'])\n",
    "# resDf.sort_values(by=['section'], inplace=True)\n",
    "# resDf.head()\n",
    "\n",
    "# print(len(resDf))"
   ]
  },
  {
   "cell_type": "code",
   "execution_count": 13,
   "metadata": {},
   "outputs": [],
   "source": [
    "# outputPath = '/Volumes/backup_128G/z_repository/PTC_data/DADH_2019/0_方志'\n",
    "# write_file_to = '{0}/{1}'.format(outputPath, 'gazetteers_20190811_v1.xlsx')\n",
    "# resDf.to_excel(write_file_to, index=False)"
   ]
  },
  {
   "cell_type": "code",
   "execution_count": 14,
   "metadata": {},
   "outputs": [
    {
     "name": "stdout",
     "output_type": "stream",
     "text": [
      "園蔬植物（闕） ['鑛物（闕）']\n",
      "攝影 ['卷首', '畫']\n",
      "重修開原縣志序 ['卷首']\n",
      "章邑侯原序 ['卷首']\n",
      "明邑侯原序 ['卷首']\n",
      "胡廣文原序 ['卷首']\n"
     ]
    }
   ],
   "source": [
    "count = 0\n",
    "for key in chapterTitles:\n",
    "    print(key, chapterTitles[key])\n",
    "    count += 1\n",
    "    if count > 5:\n",
    "        break"
   ]
  },
  {
   "cell_type": "code",
   "execution_count": 15,
   "metadata": {},
   "outputs": [
    {
     "name": "stdout",
     "output_type": "stream",
     "text": [
      "詩 詩\n",
      "序 序\n",
      "藝文 藝文\n",
      "凡例 凡例\n",
      "武備志 武備志\n",
      "學校 學校\n",
      "兵制 兵制\n",
      "水利 水利\n",
      "兵衛 兵衛\n",
      "官師 官師\n",
      "進士 進士\n",
      "目錄 目錄\n",
      "秩官 秩官\n",
      "舊序 舊序\n",
      "教育志 教育志\n",
      "科舉 科舉\n",
      "郵舍 郵舍\n",
      "祭 祭\n",
      "祀事志 祀事志\n",
      "舊跋 舊跋\n",
      "重修邵武縣志序 重修邵武縣志序\n",
      "沛縣志目次 沛縣志目次\n",
      "城隍 城隍\n",
      "都隅 都隅\n",
      "市巷 市巷\n",
      "正志校堪記 正志校堪記\n",
      "南漳縣志集鈔卷之二十二 南漳縣志集鈔卷之二十二\n",
      "南漳縣志集鈔卷之二十三 南漳縣志集鈔卷之二十三\n",
      "南漳縣志集鈔卷之二十四 南漳縣志集鈔卷之二十四\n",
      "襄陽沿革略 襄陽沿革略\n",
      "息縣志卷之五 息縣志卷之五\n",
      "366\n"
     ]
    }
   ],
   "source": [
    "# Remove bookname\n",
    "booknamecnt = 0\n",
    "for sec in chapterTitles:\n",
    "#     print(type(sec))\n",
    "    if sec == None:\n",
    "        continue\n",
    "    titles = chapterTitles[sec]\n",
    "    \n",
    "    for tit in titles:\n",
    "        if tit == None:\n",
    "            continue\n",
    "#         print(sec)\n",
    "        if sec.startswith(tit):\n",
    "            if tit not in bookTitles:\n",
    "                # remove the same section names in parent and sub section both\n",
    "                if sec == tit:\n",
    "                    chapterTitles[sec].remove(tit)\n",
    "                    print(sec, tit)\n",
    "            else:\n",
    "#                 print(tit)\n",
    "                chapterTitles[sec].remove(tit)\n",
    "\n",
    "            booknamecnt += 1\n",
    "        \n",
    "        # remove parent section is book\n",
    "#         if tit in bookTitles:\n",
    "#             chapterTitles[sec].remove(tit)\n",
    "#             booknamecnt += 1\n",
    "#             print(sec, tit)\n",
    "            \n",
    "print(booknamecnt)\n",
    "# print(len(chapterTitles))"
   ]
  },
  {
   "cell_type": "code",
   "execution_count": 16,
   "metadata": {},
   "outputs": [
    {
     "data": {
      "text/plain": [
       "['94377', '97288']"
      ]
     },
     "execution_count": 16,
     "metadata": {},
     "output_type": "execute_result"
    }
   ],
   "source": [
    "bookTitles['成安縣志']"
   ]
  },
  {
   "cell_type": "code",
   "execution_count": 17,
   "metadata": {},
   "outputs": [
    {
     "name": "stdout",
     "output_type": "stream",
     "text": [
      "39049\n"
     ]
    }
   ],
   "source": [
    "# remove parent section is book\n",
    "for sec in chapterTitles:\n",
    "#     print(type(sec))\n",
    "    if sec == None:\n",
    "        continue\n",
    "    titles = chapterTitles[sec]\n",
    "    \n",
    "    for tit in titles:\n",
    "        if tit == None:\n",
    "            continue\n",
    "\n",
    "        if tit in bookTitles:\n",
    "            # remove the parent section name which is the same as bookname\n",
    "            chapterTitles[sec].remove(tit)\n",
    "            \n",
    "print(len(chapterTitles))"
   ]
  },
  {
   "cell_type": "code",
   "execution_count": 19,
   "metadata": {},
   "outputs": [
    {
     "data": {
      "text/plain": [
       "dict"
      ]
     },
     "execution_count": 19,
     "metadata": {},
     "output_type": "execute_result"
    }
   ],
   "source": [
    "# 僊居水卷之一\n",
    "type(chapterTitles)"
   ]
  },
  {
   "cell_type": "code",
   "execution_count": null,
   "metadata": {},
   "outputs": [],
   "source": [
    "import re\n",
    "\n",
    "for key in chapterTitles:\n",
    "    titles = chapterTitles[key]\n",
    "    for t in titles:\n",
    "        x = re.search(\".*卷[首之上下一二三四五六七八九十]*\", t)\n",
    "        if x != None:\n",
    "            print(t, x)\n",
    "            chapterTitles[key].remove(t)"
   ]
  },
  {
   "cell_type": "code",
   "execution_count": null,
   "metadata": {},
   "outputs": [],
   "source": [
    "chapterTitles"
   ]
  },
  {
   "cell_type": "code",
   "execution_count": null,
   "metadata": {},
   "outputs": [],
   "source": []
  }
 ],
 "metadata": {
  "kernelspec": {
   "display_name": "Python 3",
   "language": "python",
   "name": "python3"
  },
  "language_info": {
   "codemirror_mode": {
    "name": "ipython",
    "version": 3
   },
   "file_extension": ".py",
   "mimetype": "text/x-python",
   "name": "python",
   "nbconvert_exporter": "python",
   "pygments_lexer": "ipython3",
   "version": "3.7.0"
  }
 },
 "nbformat": 4,
 "nbformat_minor": 2
}
