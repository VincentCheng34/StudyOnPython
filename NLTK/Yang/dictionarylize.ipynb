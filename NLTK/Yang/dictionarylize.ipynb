{
 "cells": [
  {
   "cell_type": "code",
   "execution_count": 1,
   "metadata": {},
   "outputs": [],
   "source": [
    "import pandas as pd"
   ]
  },
  {
   "cell_type": "code",
   "execution_count": 2,
   "metadata": {},
   "outputs": [],
   "source": [
    "filepath = '/Volumes/backup_128G/z_repository/Yang_data'\n",
    "file_dic = '7000單詞彙分級表A-Z_Vincent.xlsx'\n",
    "to_dic = '7000Words_20190512_v2.xlsx'\n",
    "\n",
    "read_dic = '{0}/{1}'.format(filepath, file_dic)\n",
    "write_dic = '{0}/{1}'.format(filepath, to_dic)"
   ]
  },
  {
   "cell_type": "code",
   "execution_count": 3,
   "metadata": {
    "scrolled": false
   },
   "outputs": [],
   "source": [
    "def Df2WordList(INdf):\n",
    "    wordList = []\n",
    "    for idx in range(0, len(INdf)):\n",
    "        row = INdf.loc[idx]\n",
    "\n",
    "        word = str(row[0])\n",
    "        lemma = str(row[1])\n",
    "        level = str(row[2])\n",
    "    \n",
    "        wordList.append(wordRow(word, lemma, level))\n",
    "        \n",
    "    return wordList"
   ]
  },
  {
   "cell_type": "code",
   "execution_count": 4,
   "metadata": {
    "scrolled": false
   },
   "outputs": [],
   "source": [
    "def wordRow(word, lemma, level):\n",
    "    return {0:word, 1:lemma, 2:level}\n",
    "\n",
    "def runParsing(wordList):\n",
    "    newWordList = []\n",
    "    for theWord in wordList:\n",
    "        word = theWord[0]\n",
    "        lemma = theWord[1]\n",
    "        level = theWord[2]\n",
    "\n",
    "        if '/' in word:\n",
    "            wordArr = word.split('/')\n",
    "            for sword in wordArr:\n",
    "                if sword != '':\n",
    "                    newWordList.append(wordRow(sword, lemma, level))\n",
    "            continue\n",
    "\n",
    "        if '(' in word:\n",
    "            wordArr = word.split('(')\n",
    "\n",
    "            for widx in range(0, len(wordArr)):\n",
    "                sword = wordArr[widx].replace(')', '').replace(' ', '')\n",
    "                if widx == 0:\n",
    "                    newWordList.append(wordRow(sword, lemma, level))\n",
    "                elif sword.isalpha() == True:\n",
    "                    oriWord = wordArr[0][0:len(wordArr[0])-1]\n",
    "                    if sword.startswith(oriWord):\n",
    "                        newWordList.append(wordRow(sword, lemma, level))\n",
    "                    else:\n",
    "                        completeWord = '{0}{1}'.format(wordArr[0], sword)\n",
    "                        newWordList.append(wordRow(completeWord, lemma, level))\n",
    "\n",
    "            continue\n",
    "\n",
    "        newWordList.append(wordRow(word, lemma, level))\n",
    "    \n",
    "    return newWordList"
   ]
  },
  {
   "cell_type": "code",
   "execution_count": 5,
   "metadata": {},
   "outputs": [],
   "source": [
    "# xls = pd.ExcelFile(read_dic)\n",
    "\n",
    "# dicDf = pd.read_excel(xls, 'F', header=None)\n",
    "\n",
    "# wordList = Df2WordList(dicDf)\n",
    "# newWordList = runParsing(wordList)\n",
    "# newWordList = runParsing(newWordList)\n",
    "\n",
    "# outDf = pd.DataFrame(newWordList)\n",
    "# outDf.head()"
   ]
  },
  {
   "cell_type": "code",
   "execution_count": 6,
   "metadata": {},
   "outputs": [],
   "source": [
    "# from pandas import ExcelWriter\n",
    "\n",
    "# writer = ExcelWriter(write_dic)\n",
    "# outDf[2] = pd.to_numeric(outDf[2])\n",
    "# outDf.to_excel(writer, 'F', index=False, header=False)\n",
    "# writer.save()"
   ]
  },
  {
   "cell_type": "code",
   "execution_count": 7,
   "metadata": {},
   "outputs": [
    {
     "name": "stdout",
     "output_type": "stream",
     "text": [
      "A\n",
      "B\n",
      "C\n",
      "D\n",
      "E\n",
      "F\n",
      "G\n",
      "H\n",
      "I\n",
      "J\n",
      "K\n",
      "L\n",
      "M\n",
      "N\n",
      "O\n",
      "P\n",
      "Q\n",
      "R\n",
      "S\n",
      "T\n",
      "U\n",
      "V\n",
      "W\n",
      "X\n",
      "Y\n",
      "Z\n"
     ]
    }
   ],
   "source": [
    "with pd.ExcelFile(read_dic) as reader:\n",
    "    with pd.ExcelWriter(write_dic) as writer:\n",
    "        # read sheet by sheet\n",
    "        for sheet in reader.sheet_names:\n",
    "            print(sheet)\n",
    "            dicDf = pd.read_excel(reader, sheet, header=None)\n",
    "            dicDf = dicDf.fillna(0)\n",
    "\n",
    "            wordList = Df2WordList(dicDf)\n",
    "            newWordList = runParsing(wordList)\n",
    "            newWordList = runParsing(newWordList)\n",
    "\n",
    "            outDf = pd.DataFrame(newWordList)\n",
    "            outDf[2] = pd.to_numeric(outDf[2])\n",
    "            outDf.to_excel(writer, sheet, index=False, header=False)\n",
    "            writer.save()\n"
   ]
  },
  {
   "cell_type": "code",
   "execution_count": null,
   "metadata": {},
   "outputs": [],
   "source": []
  }
 ],
 "metadata": {
  "kernelspec": {
   "display_name": "Python 3",
   "language": "python",
   "name": "python3"
  },
  "language_info": {
   "codemirror_mode": {
    "name": "ipython",
    "version": 3
   },
   "file_extension": ".py",
   "mimetype": "text/x-python",
   "name": "python",
   "nbconvert_exporter": "python",
   "pygments_lexer": "ipython3",
   "version": "3.7.0"
  }
 },
 "nbformat": 4,
 "nbformat_minor": 2
}
