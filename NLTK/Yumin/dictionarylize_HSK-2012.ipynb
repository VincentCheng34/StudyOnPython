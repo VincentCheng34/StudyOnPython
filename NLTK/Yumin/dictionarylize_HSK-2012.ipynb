{
 "cells": [
  {
   "cell_type": "code",
   "execution_count": 1,
   "metadata": {},
   "outputs": [],
   "source": [
    "import pandas as pd"
   ]
  },
  {
   "cell_type": "code",
   "execution_count": 2,
   "metadata": {},
   "outputs": [],
   "source": [
    "filepath = '/Volumes/backup_128G/z_repository/Yumin_data/玉敏_俄羅斯課本的研究'\n",
    "file_dic = 'HSK-2012.xls'\n",
    "to_dic = 'HSK-2012_5000W_20190517_v1.xlsx'\n",
    "\n",
    "read_dic = '{0}/{1}'.format(filepath, file_dic)\n",
    "write_dic = '{0}/{1}'.format(filepath, to_dic)"
   ]
  },
  {
   "cell_type": "code",
   "execution_count": 3,
   "metadata": {},
   "outputs": [],
   "source": [
    "def wordRow(wordCn, wordTw, level):\n",
    "    return {'WordCn':wordCn, 'WordTw':wordTw, 'Level':level}"
   ]
  },
  {
   "cell_type": "code",
   "execution_count": 4,
   "metadata": {},
   "outputs": [],
   "source": [
    "# 繁簡轉換器, https://pypi.org/project/hanziconv/0.2.1/\n",
    "# from hanziconv import HanziConv\n",
    "# HanziConv 轉得不是很好，例如：巧克力=>巧剋力\n",
    "import opencc\n",
    "\n",
    "levelMap = {'一级':1, '二级':2, '三级':3, '四级':4, '五级':5, '六级':6}\n",
    "def Df2WordList(INdf):\n",
    "    wordList = []\n",
    "    for idx in range(0, len(INdf)):\n",
    "        row = INdf.loc[idx]\n",
    "        words = str(row[0]).replace('）', '').split('（')\n",
    "        \n",
    "#         word = HanziConv.toTraditional(words[0])\n",
    "        word = opencc.convert(words[0], config='s2tw.json')\n",
    "        level = 9\n",
    "        if len(words) == 2:\n",
    "            if words[1] in levelMap:\n",
    "                level = levelMap[words[1]]\n",
    "            else:\n",
    "                print(\"WRONG LEVEL 1:\", row)\n",
    "                continue\n",
    "        elif len(words) == 3:\n",
    "            if words[2] in levelMap:\n",
    "                level = levelMap[words[2]]\n",
    "            else:\n",
    "                print(\"WRONG LEVEL 2:\", row)\n",
    "                continue\n",
    "        else:\n",
    "            print(\"WRONG LEVEL 3:\", row)\n",
    "            continue\n",
    "\n",
    "        if idx % 100 == 0:\n",
    "            print(\"parsed:\", idx)\n",
    "\n",
    "        wordList.append(wordRow(words[0], word, level))\n",
    "        \n",
    "    return wordList"
   ]
  },
  {
   "cell_type": "code",
   "execution_count": 5,
   "metadata": {},
   "outputs": [],
   "source": [
    "def runParsing(wordList):\n",
    "    newWordList = []\n",
    "    for theWord in wordList:\n",
    "        word = theWord[0]\n",
    "        level = theWord[1]\n",
    "\n",
    "        if '/' in word:\n",
    "            wordArr = word.split('/')\n",
    "            for sword in wordArr:\n",
    "                if sword != '':\n",
    "                    newWordList.append(wordRow(sword, level))\n",
    "            continue\n",
    "\n",
    "        if '(' in word:\n",
    "            wordArr = word.split('(')\n",
    "\n",
    "            for widx in range(0, len(wordArr)):\n",
    "                sword = wordArr[widx].replace(')', '').replace(' ', '')\n",
    "                if widx == 0:\n",
    "                    newWordList.append(wordRow(sword, level))\n",
    "                elif sword.isalpha() == True:\n",
    "                    oriWord = wordArr[0][0:len(wordArr[0])-1]\n",
    "                    if sword.startswith(oriWord):\n",
    "                        newWordList.append(wordRow(sword, level))\n",
    "                    else:\n",
    "                        completeWord = '{0}{1}'.format(wordArr[0], sword)\n",
    "                        newWordList.append(wordRow(completeWord, level))\n",
    "\n",
    "            continue\n",
    "\n",
    "        newWordList.append(wordRow(word, level))\n",
    "    \n",
    "    return newWordList"
   ]
  },
  {
   "cell_type": "code",
   "execution_count": 6,
   "metadata": {},
   "outputs": [
    {
     "name": "stdout",
     "output_type": "stream",
     "text": [
      "parsed: 0\n",
      "parsed: 100\n",
      "parsed: 200\n",
      "parsed: 300\n",
      "parsed: 400\n",
      "parsed: 500\n",
      "parsed: 600\n",
      "parsed: 700\n",
      "parsed: 800\n",
      "parsed: 900\n",
      "parsed: 1000\n",
      "parsed: 1100\n",
      "parsed: 1200\n",
      "parsed: 1300\n",
      "parsed: 1400\n",
      "parsed: 1500\n",
      "parsed: 1600\n",
      "parsed: 1700\n",
      "parsed: 1800\n",
      "parsed: 1900\n",
      "parsed: 2000\n",
      "parsed: 2100\n",
      "parsed: 2200\n",
      "parsed: 2300\n",
      "parsed: 2400\n",
      "parsed: 2500\n",
      "parsed: 2600\n",
      "parsed: 2700\n",
      "parsed: 2800\n",
      "parsed: 2900\n",
      "parsed: 3000\n",
      "parsed: 3100\n",
      "parsed: 3200\n",
      "parsed: 3300\n",
      "parsed: 3400\n",
      "parsed: 3500\n",
      "parsed: 3600\n",
      "parsed: 3700\n",
      "parsed: 3800\n",
      "parsed: 3900\n",
      "parsed: 4000\n",
      "parsed: 4100\n",
      "parsed: 4200\n",
      "parsed: 4300\n",
      "parsed: 4400\n",
      "parsed: 4500\n",
      "parsed: 4600\n",
      "parsed: 4700\n",
      "parsed: 4800\n",
      "parsed: 4900\n"
     ]
    }
   ],
   "source": [
    "# sheet2Level = {'準備級一級':1,'準備級二級':2,'入門級':3,'基礎級':4,'進階級':5,'高階級':6,'流利級':7}\n",
    "# sheet2Level = {'準備級一級':1}\n",
    "with pd.ExcelFile(read_dic) as reader:\n",
    "    with pd.ExcelWriter(write_dic) as writer:\n",
    "        dicDf = pd.read_excel(reader, \"新HSK5000词\", header=None)\n",
    "#         print(dicDf)\n",
    "\n",
    "        wordList = Df2WordList(dicDf)\n",
    "\n",
    "        outDf = pd.DataFrame(wordList)\n",
    "        outDf.to_excel(writer, \"HSK5000\", index=False)\n",
    "        \n",
    "        writer.save()"
   ]
  },
  {
   "cell_type": "code",
   "execution_count": null,
   "metadata": {},
   "outputs": [],
   "source": []
  }
 ],
 "metadata": {
  "kernelspec": {
   "display_name": "Python 3",
   "language": "python",
   "name": "python3"
  },
  "language_info": {
   "codemirror_mode": {
    "name": "ipython",
    "version": 3
   },
   "file_extension": ".py",
   "mimetype": "text/x-python",
   "name": "python",
   "nbconvert_exporter": "python",
   "pygments_lexer": "ipython3",
   "version": "3.7.0"
  }
 },
 "nbformat": 4,
 "nbformat_minor": 2
}
