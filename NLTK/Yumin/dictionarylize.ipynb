{
 "cells": [
  {
   "cell_type": "code",
   "execution_count": 1,
   "metadata": {},
   "outputs": [],
   "source": [
    "import pandas as pd"
   ]
  },
  {
   "cell_type": "code",
   "execution_count": 7,
   "metadata": {},
   "outputs": [],
   "source": [
    "filepath = '/Volumes/backup_128G/z_repository/Yumin_data/玉敏_俄羅斯課本的研究/華語八千詞(內含注音字型檔)'\n",
    "file_dic = '華語八千詞表20180419_modified.xlsx'\n",
    "to_dic = 'Chinese_8000W_20190515_v1.xlsx'\n",
    "\n",
    "read_dic = '{0}/{1}'.format(filepath, file_dic)\n",
    "write_dic = '{0}/{1}'.format(filepath, to_dic)"
   ]
  },
  {
   "cell_type": "code",
   "execution_count": 16,
   "metadata": {},
   "outputs": [],
   "source": [
    "def wordRow(word, level):\n",
    "    return {0:word, 1:level}"
   ]
  },
  {
   "cell_type": "code",
   "execution_count": 17,
   "metadata": {},
   "outputs": [],
   "source": [
    "def Df2WordList(INdf, level):\n",
    "    wordList = []\n",
    "    for idx in range(0, len(INdf)):\n",
    "        row = INdf.loc[idx]\n",
    "        word = str(row['詞彙'])\n",
    "    \n",
    "        wordList.append(wordRow(word, level))\n",
    "        \n",
    "    return wordList"
   ]
  },
  {
   "cell_type": "code",
   "execution_count": 21,
   "metadata": {},
   "outputs": [],
   "source": [
    "def runParsing(wordList):\n",
    "    newWordList = []\n",
    "    for theWord in wordList:\n",
    "        word = theWord[0]\n",
    "        level = theWord[1]\n",
    "\n",
    "        if '/' in word:\n",
    "            wordArr = word.split('/')\n",
    "            for sword in wordArr:\n",
    "                if sword != '':\n",
    "                    newWordList.append(wordRow(sword, level))\n",
    "            continue\n",
    "\n",
    "        if '(' in word:\n",
    "            wordArr = word.split('(')\n",
    "\n",
    "            for widx in range(0, len(wordArr)):\n",
    "                sword = wordArr[widx].replace(')', '').replace(' ', '')\n",
    "                if widx == 0:\n",
    "                    newWordList.append(wordRow(sword, level))\n",
    "                elif sword.isalpha() == True:\n",
    "                    oriWord = wordArr[0][0:len(wordArr[0])-1]\n",
    "                    if sword.startswith(oriWord):\n",
    "                        newWordList.append(wordRow(sword, level))\n",
    "                    else:\n",
    "                        completeWord = '{0}{1}'.format(wordArr[0], sword)\n",
    "                        newWordList.append(wordRow(completeWord, level))\n",
    "\n",
    "            continue\n",
    "\n",
    "        newWordList.append(wordRow(word, level))\n",
    "    \n",
    "    return newWordList"
   ]
  },
  {
   "cell_type": "code",
   "execution_count": 25,
   "metadata": {},
   "outputs": [
    {
     "name": "stdout",
     "output_type": "stream",
     "text": [
      "準備級一級\n",
      "準備級二級\n",
      "入門級\n",
      "基礎級\n",
      "進階級\n",
      "高階級\n",
      "流利級\n"
     ]
    }
   ],
   "source": [
    "sheet2Level = {'準備級一級':1,'準備級二級':2,'入門級':3,'基礎級':4,'進階級':5,'高階級':6,'流利級':7}\n",
    "# sheet2Level = {'準備級一級':1}\n",
    "with pd.ExcelFile(read_dic) as reader:\n",
    "    with pd.ExcelWriter(write_dic) as writer:\n",
    "        # read sheet by sheet\n",
    "        for sheet in reader.sheet_names:\n",
    "            if sheet not in sheet2Level:\n",
    "                continue\n",
    "\n",
    "            print(sheet)\n",
    "            dicDf = pd.read_excel(reader, sheet)\n",
    "#             dicDf = dicDf.fillna(0)\n",
    "\n",
    "            level = sheet2Level[sheet]\n",
    "            wordList = Df2WordList(dicDf, level)\n",
    "#             print(wordList)\n",
    "\n",
    "            newWordList = runParsing(wordList)\n",
    "            newWordList = runParsing(newWordList)\n",
    "#             print(newWordList)\n",
    "\n",
    "            outDf = pd.DataFrame(newWordList)\n",
    "            outDf[1] = pd.to_numeric(outDf[1])\n",
    "            outDf.to_excel(writer, sheet, index=False, header=False)\n",
    "            writer.save()\n"
   ]
  },
  {
   "cell_type": "code",
   "execution_count": null,
   "metadata": {},
   "outputs": [],
   "source": []
  }
 ],
 "metadata": {
  "kernelspec": {
   "display_name": "Python 3",
   "language": "python",
   "name": "python3"
  },
  "language_info": {
   "codemirror_mode": {
    "name": "ipython",
    "version": 3
   },
   "file_extension": ".py",
   "mimetype": "text/x-python",
   "name": "python",
   "nbconvert_exporter": "python",
   "pygments_lexer": "ipython3",
   "version": "3.7.0"
  }
 },
 "nbformat": 4,
 "nbformat_minor": 2
}
