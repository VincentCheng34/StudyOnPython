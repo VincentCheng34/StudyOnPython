{
 "cells": [
  {
   "cell_type": "markdown",
   "metadata": {},
   "source": [
    "# 讀取字典"
   ]
  },
  {
   "cell_type": "code",
   "execution_count": 1,
   "metadata": {},
   "outputs": [],
   "source": [
    "import pandas as pd\n",
    "import os"
   ]
  },
  {
   "cell_type": "code",
   "execution_count": 2,
   "metadata": {},
   "outputs": [],
   "source": [
    "filepath = '/Volumes/backup_128G/z_repository/Yumin_data/玉敏_俄羅斯課本的研究'\n",
    "\n",
    "file_dic = '華語八千詞(內含注音字型檔)/Chinese_8000W_20190515_v1.xlsx'\n",
    "book_file = '實用漢語教科書2010_生詞表.xlsx'\n",
    "to_file = 'processed/chinese_8000Words.xlsx'\n",
    "\n",
    "# write_level_doc = '{0}/{1}'.format(filepath, to_level_doc)\n",
    "read_dic = '{0}/{1}'.format(filepath, file_dic)\n",
    "read_book = '{0}/{1}'.format(filepath, book_file)\n",
    "write_file = '{0}/{1}'.format(filepath, to_file)"
   ]
  },
  {
   "cell_type": "code",
   "execution_count": 3,
   "metadata": {},
   "outputs": [
    {
     "data": {
      "text/plain": [
       "8099"
      ]
     },
     "execution_count": 3,
     "metadata": {},
     "output_type": "execute_result"
    }
   ],
   "source": [
    "dicDf = pd.DataFrame()\n",
    "\n",
    "with pd.ExcelFile(read_dic) as reader:\n",
    "    # read sheet by sheet\n",
    "    for sheet in reader.sheet_names:\n",
    "#         print(sheet)\n",
    "        sheetDf = pd.read_excel(reader, sheet, header=None)\n",
    "        sheetDf = sheetDf.fillna(0)\n",
    "\n",
    "        dicDf = dicDf.append(sheetDf, ignore_index=True)\n",
    "\n",
    "# change to lowercase\n",
    "len(dicDf.index)"
   ]
  },
  {
   "cell_type": "code",
   "execution_count": 4,
   "metadata": {},
   "outputs": [
    {
     "data": {
      "text/html": [
       "<div>\n",
       "<style scoped>\n",
       "    .dataframe tbody tr th:only-of-type {\n",
       "        vertical-align: middle;\n",
       "    }\n",
       "\n",
       "    .dataframe tbody tr th {\n",
       "        vertical-align: top;\n",
       "    }\n",
       "\n",
       "    .dataframe thead th {\n",
       "        text-align: right;\n",
       "    }\n",
       "</style>\n",
       "<table border=\"1\" class=\"dataframe\">\n",
       "  <thead>\n",
       "    <tr style=\"text-align: right;\">\n",
       "      <th></th>\n",
       "      <th>0</th>\n",
       "      <th>1</th>\n",
       "    </tr>\n",
       "  </thead>\n",
       "  <tbody>\n",
       "    <tr>\n",
       "      <th>0</th>\n",
       "      <td>我</td>\n",
       "      <td>1</td>\n",
       "    </tr>\n",
       "    <tr>\n",
       "      <th>1</th>\n",
       "      <td>你</td>\n",
       "      <td>1</td>\n",
       "    </tr>\n",
       "    <tr>\n",
       "      <th>2</th>\n",
       "      <td>妳</td>\n",
       "      <td>1</td>\n",
       "    </tr>\n",
       "    <tr>\n",
       "      <th>3</th>\n",
       "      <td>他</td>\n",
       "      <td>1</td>\n",
       "    </tr>\n",
       "    <tr>\n",
       "      <th>4</th>\n",
       "      <td>她</td>\n",
       "      <td>1</td>\n",
       "    </tr>\n",
       "  </tbody>\n",
       "</table>\n",
       "</div>"
      ],
      "text/plain": [
       "   0  1\n",
       "0  我  1\n",
       "1  你  1\n",
       "2  妳  1\n",
       "3  他  1\n",
       "4  她  1"
      ]
     },
     "execution_count": 4,
     "metadata": {},
     "output_type": "execute_result"
    }
   ],
   "source": [
    "dicDf.head()"
   ]
  },
  {
   "cell_type": "code",
   "execution_count": 5,
   "metadata": {},
   "outputs": [],
   "source": [
    "dicList = {}\n",
    "for idx in range(0, len(dicDf)):\n",
    "    row = dicDf.loc[idx]\n",
    "    \n",
    "    dicWord = row[0]\n",
    "    dicLevel = row[1]\n",
    "\n",
    "    if dicWord not in dicList:\n",
    "        dicList[dicWord] = [dicLevel]\n",
    "    else:\n",
    "#         print(dicWord, dicLevel)\n",
    "        dicList[dicWord].append(dicLevel)\n",
    "# dicList"
   ]
  },
  {
   "cell_type": "markdown",
   "metadata": {},
   "source": [
    "# 讀取待分析檔"
   ]
  },
  {
   "cell_type": "code",
   "execution_count": 6,
   "metadata": {},
   "outputs": [],
   "source": [
    "bookDf = pd.read_excel(read_book)"
   ]
  },
  {
   "cell_type": "code",
   "execution_count": 7,
   "metadata": {},
   "outputs": [
    {
     "data": {
      "text/html": [
       "<div>\n",
       "<style scoped>\n",
       "    .dataframe tbody tr th:only-of-type {\n",
       "        vertical-align: middle;\n",
       "    }\n",
       "\n",
       "    .dataframe tbody tr th {\n",
       "        vertical-align: top;\n",
       "    }\n",
       "\n",
       "    .dataframe thead th {\n",
       "        text-align: right;\n",
       "    }\n",
       "</style>\n",
       "<table border=\"1\" class=\"dataframe\">\n",
       "  <thead>\n",
       "    <tr style=\"text-align: right;\">\n",
       "      <th></th>\n",
       "      <th>課別</th>\n",
       "      <th>A:主要詞彙B:補充詞彙</th>\n",
       "      <th>每課生詞排序</th>\n",
       "      <th>生詞</th>\n",
       "      <th>Unnamed: 4</th>\n",
       "      <th>解釋</th>\n",
       "      <th>Russian Explain</th>\n",
       "      <th>wordtc</th>\n",
       "      <th>wordsc</th>\n",
       "      <th>engexample</th>\n",
       "      <th>rusexample</th>\n",
       "    </tr>\n",
       "  </thead>\n",
       "  <tbody>\n",
       "    <tr>\n",
       "      <th>0</th>\n",
       "      <td>1</td>\n",
       "      <td>A</td>\n",
       "      <td>2</td>\n",
       "      <td>好</td>\n",
       "      <td>NaN</td>\n",
       "      <td>good, well, easy to, very</td>\n",
       "      <td>хороший; хорошо</td>\n",
       "      <td>NaN</td>\n",
       "      <td>NaN</td>\n",
       "      <td>NaN</td>\n",
       "      <td>NaN</td>\n",
       "    </tr>\n",
       "    <tr>\n",
       "      <th>1</th>\n",
       "      <td>1</td>\n",
       "      <td>A</td>\n",
       "      <td>1</td>\n",
       "      <td>你</td>\n",
       "      <td>NaN</td>\n",
       "      <td>you</td>\n",
       "      <td>ты</td>\n",
       "      <td>NaN</td>\n",
       "      <td>NaN</td>\n",
       "      <td>NaN</td>\n",
       "      <td>NaN</td>\n",
       "    </tr>\n",
       "    <tr>\n",
       "      <th>2</th>\n",
       "      <td>2</td>\n",
       "      <td>A</td>\n",
       "      <td>3</td>\n",
       "      <td>很</td>\n",
       "      <td>NaN</td>\n",
       "      <td>very</td>\n",
       "      <td>очень</td>\n",
       "      <td>NaN</td>\n",
       "      <td>NaN</td>\n",
       "      <td>NaN</td>\n",
       "      <td>NaN</td>\n",
       "    </tr>\n",
       "    <tr>\n",
       "      <th>3</th>\n",
       "      <td>2</td>\n",
       "      <td>A</td>\n",
       "      <td>1</td>\n",
       "      <td>嗎</td>\n",
       "      <td>NaN</td>\n",
       "      <td>(question particle for \"yes-no\" question</td>\n",
       "      <td>вопросительная частица</td>\n",
       "      <td>NaN</td>\n",
       "      <td>NaN</td>\n",
       "      <td>NaN</td>\n",
       "      <td>NaN</td>\n",
       "    </tr>\n",
       "    <tr>\n",
       "      <th>4</th>\n",
       "      <td>2</td>\n",
       "      <td>A</td>\n",
       "      <td>4</td>\n",
       "      <td>呢</td>\n",
       "      <td>NaN</td>\n",
       "      <td>particle indicating that a previously asked qu...</td>\n",
       "      <td>модальная частица</td>\n",
       "      <td>NaN</td>\n",
       "      <td>NaN</td>\n",
       "      <td>NaN</td>\n",
       "      <td>NaN</td>\n",
       "    </tr>\n",
       "  </tbody>\n",
       "</table>\n",
       "</div>"
      ],
      "text/plain": [
       "   課別 A:主要詞彙B:補充詞彙 每課生詞排序 生詞 Unnamed: 4  \\\n",
       "0   1            A      2  好        NaN   \n",
       "1   1            A      1  你        NaN   \n",
       "2   2            A      3  很        NaN   \n",
       "3   2            A      1  嗎        NaN   \n",
       "4   2            A      4  呢        NaN   \n",
       "\n",
       "                                                  解釋         Russian Explain  \\\n",
       "0                          good, well, easy to, very         хороший; хорошо   \n",
       "1                                                you                      ты   \n",
       "2                                               very                   очень   \n",
       "3           (question particle for \"yes-no\" question  вопросительная частица   \n",
       "4  particle indicating that a previously asked qu...       модальная частица   \n",
       "\n",
       "   wordtc  wordsc  engexample rusexample  \n",
       "0     NaN     NaN         NaN        NaN  \n",
       "1     NaN     NaN         NaN        NaN  \n",
       "2     NaN     NaN         NaN        NaN  \n",
       "3     NaN     NaN         NaN        NaN  \n",
       "4     NaN     NaN         NaN        NaN  "
      ]
     },
     "execution_count": 7,
     "metadata": {},
     "output_type": "execute_result"
    }
   ],
   "source": [
    "bookDf.head()"
   ]
  },
  {
   "cell_type": "code",
   "execution_count": 8,
   "metadata": {},
   "outputs": [],
   "source": [
    "wordDifferentLevel = []\n",
    "\n",
    "def wordLevel(word):\n",
    "    foundLevel = 9\n",
    "    if word in dicList:\n",
    "        foundLevel = dicList[word][0]\n",
    "        \n",
    "    return foundLevel"
   ]
  },
  {
   "cell_type": "code",
   "execution_count": 9,
   "metadata": {
    "scrolled": false
   },
   "outputs": [],
   "source": [
    "levelList = []\n",
    "\n",
    "for idx in range(0, len(bookDf)):\n",
    "    row = bookDf.loc[idx]\n",
    "    \n",
    "    chapter = row[0]\n",
    "    wtype = row[1]\n",
    "    word = row[3]\n",
    "    \n",
    "    level = wordLevel(word)\n",
    "    levelList.append([word, level, wtype, chapter])\n",
    "#     print(chapter, wtype, word)"
   ]
  },
  {
   "cell_type": "code",
   "execution_count": 10,
   "metadata": {},
   "outputs": [
    {
     "data": {
      "text/html": [
       "<div>\n",
       "<style scoped>\n",
       "    .dataframe tbody tr th:only-of-type {\n",
       "        vertical-align: middle;\n",
       "    }\n",
       "\n",
       "    .dataframe tbody tr th {\n",
       "        vertical-align: top;\n",
       "    }\n",
       "\n",
       "    .dataframe thead th {\n",
       "        text-align: right;\n",
       "    }\n",
       "</style>\n",
       "<table border=\"1\" class=\"dataframe\">\n",
       "  <thead>\n",
       "    <tr style=\"text-align: right;\">\n",
       "      <th></th>\n",
       "      <th>0</th>\n",
       "      <th>1</th>\n",
       "      <th>2</th>\n",
       "      <th>3</th>\n",
       "    </tr>\n",
       "  </thead>\n",
       "  <tbody>\n",
       "    <tr>\n",
       "      <th>1</th>\n",
       "      <td>你</td>\n",
       "      <td>1</td>\n",
       "      <td>A</td>\n",
       "      <td>1</td>\n",
       "    </tr>\n",
       "    <tr>\n",
       "      <th>0</th>\n",
       "      <td>好</td>\n",
       "      <td>1</td>\n",
       "      <td>A</td>\n",
       "      <td>1</td>\n",
       "    </tr>\n",
       "    <tr>\n",
       "      <th>6</th>\n",
       "      <td>也</td>\n",
       "      <td>1</td>\n",
       "      <td>A</td>\n",
       "      <td>2</td>\n",
       "    </tr>\n",
       "    <tr>\n",
       "      <th>4</th>\n",
       "      <td>呢</td>\n",
       "      <td>1</td>\n",
       "      <td>A</td>\n",
       "      <td>2</td>\n",
       "    </tr>\n",
       "    <tr>\n",
       "      <th>3</th>\n",
       "      <td>嗎</td>\n",
       "      <td>1</td>\n",
       "      <td>A</td>\n",
       "      <td>2</td>\n",
       "    </tr>\n",
       "  </tbody>\n",
       "</table>\n",
       "</div>"
      ],
      "text/plain": [
       "   0  1  2  3\n",
       "1  你  1  A  1\n",
       "0  好  1  A  1\n",
       "6  也  1  A  2\n",
       "4  呢  1  A  2\n",
       "3  嗎  1  A  2"
      ]
     },
     "execution_count": 10,
     "metadata": {},
     "output_type": "execute_result"
    }
   ],
   "source": [
    "levelDf = pd.DataFrame(levelList)\n",
    "levelDf = levelDf.sort_values(by=[1, 3, 2, 0])\n",
    "levelDf.head()"
   ]
  },
  {
   "cell_type": "code",
   "execution_count": 11,
   "metadata": {},
   "outputs": [],
   "source": [
    "# levelDf.loc[levelDf[2] == 'A']"
   ]
  },
  {
   "cell_type": "code",
   "execution_count": 12,
   "metadata": {},
   "outputs": [],
   "source": [
    "# levelDf.loc[levelDf[2] == 'B']"
   ]
  },
  {
   "cell_type": "code",
   "execution_count": 13,
   "metadata": {},
   "outputs": [
    {
     "data": {
      "text/html": [
       "<div>\n",
       "<style scoped>\n",
       "    .dataframe tbody tr th:only-of-type {\n",
       "        vertical-align: middle;\n",
       "    }\n",
       "\n",
       "    .dataframe tbody tr th {\n",
       "        vertical-align: top;\n",
       "    }\n",
       "\n",
       "    .dataframe thead th {\n",
       "        text-align: right;\n",
       "    }\n",
       "</style>\n",
       "<table border=\"1\" class=\"dataframe\">\n",
       "  <thead>\n",
       "    <tr style=\"text-align: right;\">\n",
       "      <th></th>\n",
       "      <th>0</th>\n",
       "      <th>1</th>\n",
       "      <th>2</th>\n",
       "      <th>3</th>\n",
       "    </tr>\n",
       "  </thead>\n",
       "  <tbody>\n",
       "  </tbody>\n",
       "</table>\n",
       "</div>"
      ],
      "text/plain": [
       "Empty DataFrame\n",
       "Columns: [0, 1, 2, 3]\n",
       "Index: []"
      ]
     },
     "execution_count": 13,
     "metadata": {},
     "output_type": "execute_result"
    }
   ],
   "source": [
    "levelDf[~levelDf[2].isin(['A', 'B'])]"
   ]
  },
  {
   "cell_type": "code",
   "execution_count": 14,
   "metadata": {},
   "outputs": [],
   "source": [
    "def statsLevel(INdf):\n",
    "    levelCountList = []\n",
    "    for level in range(1, 10):\n",
    "        levelCount = INdf[1].loc[INdf[1] == level].count()\n",
    "        levelCountList.append(levelCount)\n",
    "\n",
    "    levelCountDf = pd.DataFrame(levelCountList)\n",
    "    return levelCountDf\n",
    "\n",
    "headers = ['Word', 'Level', 'A/B', 'Lesson']\n",
    "with pd.ExcelWriter(write_file) as writer:\n",
    "    # 1.列出每一個詞的等級\n",
    "    levelDf.to_excel(writer, 'All', index=False, header=headers)\n",
    "\n",
    "    # 2.統計每一個等級共有多少字\n",
    "    levels = list(range(1, 10))\n",
    "    levelCountDf = pd.DataFrame(levels)\n",
    "    ##   A.主要詞彙的統計\n",
    "    major = levelDf.loc[levelDf[2] == 'A']\n",
    "    levelCountDf['A'] = statsLevel(major)\n",
    "    ##   B.補充詞彙的統計\n",
    "    minor = levelDf.loc[levelDf[2] == 'B']\n",
    "    levelCountDf['B'] = statsLevel(minor)\n",
    "    ##   C.主要詞彙+補充詞彙的統計\n",
    "    levelCountDf['A/B'] = statsLevel(levelDf)\n",
    "    \n",
    "    levelCountDf.to_excel(writer, 'Stats', index=False, header=['Level', 'A', 'B', 'A/B'])\n",
    "\n",
    "    # 3.列出不在8000詞的生詞有哪些\n",
    "    wordsNotIn = levelDf.loc[levelDf[1] == 9]\n",
    "    wordsNotInDf = pd.DataFrame(wordsNotIn)\n",
    "    \n",
    "    wordsNotInDf.to_excel(writer, 'WordsNotIn', index=False, header=headers)\n",
    "\n",
    "    writer.save()"
   ]
  },
  {
   "cell_type": "code",
   "execution_count": null,
   "metadata": {},
   "outputs": [],
   "source": []
  }
 ],
 "metadata": {
  "kernelspec": {
   "display_name": "Python 3",
   "language": "python",
   "name": "python3"
  },
  "language_info": {
   "codemirror_mode": {
    "name": "ipython",
    "version": 3
   },
   "file_extension": ".py",
   "mimetype": "text/x-python",
   "name": "python",
   "nbconvert_exporter": "python",
   "pygments_lexer": "ipython3",
   "version": "3.7.0"
  }
 },
 "nbformat": 4,
 "nbformat_minor": 2
}
