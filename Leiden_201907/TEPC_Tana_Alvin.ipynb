{
 "cells": [
  {
   "cell_type": "markdown",
   "metadata": {},
   "source": [
    "# 讀檔"
   ]
  },
  {
   "cell_type": "code",
   "execution_count": 1,
   "metadata": {},
   "outputs": [],
   "source": [
    "import pandas as pd\n",
    "import os\n",
    "import csv"
   ]
  },
  {
   "cell_type": "code",
   "execution_count": 2,
   "metadata": {},
   "outputs": [],
   "source": [
    "filepath = '/Volumes/backup_128G/z_repository/TBIO_data/TEPC'\n",
    "\n",
    "read_file_doc = 'keyword_by_author_cluster_%s.csv'\n",
    "\n",
    "write_file_to = '{0}/{1}'.format(filepath, 'tepc_20190711_v3.xlsx')"
   ]
  },
  {
   "cell_type": "code",
   "execution_count": 3,
   "metadata": {},
   "outputs": [],
   "source": [
    "clusters = {1:[], 2:[], 3:[], 4:[], 5:[]}\n",
    "for n in range(1, 6):\n",
    "    fileToRead = read_file_doc % (n)\n",
    "    readFile = '{0}/{1}'.format(filepath, fileToRead)\n",
    "#     print(readFile)\n",
    "    with open(readFile) as csvfile:\n",
    "        readCSV = csv.reader(csvfile, delimiter=',')\n",
    "        for row in readCSV:\n",
    "            if row[1] == 'AUTHOR':\n",
    "                continue\n",
    "            clusters[n].append(row[1])\n",
    "        \n",
    "# print(clusters)"
   ]
  },
  {
   "cell_type": "markdown",
   "metadata": {},
   "source": [
    "# Query the Organization and Societal sector"
   ]
  },
  {
   "cell_type": "code",
   "execution_count": 4,
   "metadata": {},
   "outputs": [],
   "source": [
    "filepath = '/Volumes/backup_128G/z_repository/TBIO_data/RequestsFromTana/all_org_classes'\n",
    "\n",
    "v10_tana = 'output_class_to_orgs_20190501_v10_tana.xlsx'\n",
    "\n",
    "read_v10_tana = '{0}/{1}'.format(filepath, v10_tana)"
   ]
  },
  {
   "cell_type": "code",
   "execution_count": 5,
   "metadata": {},
   "outputs": [
    {
     "data": {
      "text/plain": [
       "((19439, 5),\n",
       "      Graph   Organization        SocietalSector                        Period  \\\n",
       " 0  chrj_pr  _台灣青年_刊物任發行編輯             MassMedia      EarlyPostWarOrganization   \n",
       " 1  chrj_pr         艋舺保良分局  PublicAdministration     UnknownPeriodOrganization   \n",
       " 2  chrj_pr         鹿港保良總局  PublicAdministration     UnknownPeriodOrganization   \n",
       " 3  chrj_pr         林本源製糖社       PrivateBusiness  JapaneseColonialOrganization   \n",
       " 4  chrj_pr            阿緱廳  PublicAdministration  JapaneseColonialOrganization   \n",
       " \n",
       "   Correct name  \n",
       " 0      台灣青年雜誌社  \n",
       " 1            0  \n",
       " 2            0  \n",
       " 3            0  \n",
       " 4            0  )"
      ]
     },
     "execution_count": 5,
     "metadata": {},
     "output_type": "execute_result"
    }
   ],
   "source": [
    "workDf = pd.read_excel(read_v10_tana)\n",
    "workDf = workDf.fillna(0)\n",
    "workDf.shape, workDf.head()"
   ]
  },
  {
   "cell_type": "markdown",
   "metadata": {},
   "source": [
    "# SPARQL"
   ]
  },
  {
   "cell_type": "code",
   "execution_count": 6,
   "metadata": {},
   "outputs": [],
   "source": [
    "import stardog\n",
    "import json\n",
    "\n",
    "adminFile = '/Users/vincent/Projects/TBIO/tbio-conn-admin-local.json'\n",
    "conn_details = {}\n",
    "with open(adminFile, 'r') as readFile:\n",
    "    conn_details = json.loads(readFile.read())"
   ]
  },
  {
   "cell_type": "code",
   "execution_count": 7,
   "metadata": {},
   "outputs": [
    {
     "name": "stdout",
     "output_type": "stream",
     "text": [
      "287\n"
     ]
    }
   ],
   "source": [
    "def sparqlQryOrg(name):\n",
    "    return \"\"\"\n",
    "SELECT DISTINCT ?nameVal ?orgVal ?yearVal ?graphVal WHERE {\n",
    "    ?name ?p ?orgEvt .\n",
    "    GRAPH ?graph {\n",
    "        ?orgEvt ?orgp ?org .\n",
    "    }\n",
    "    ?org a tbio:Organization .\n",
    "    FILTER(sameterm(?name, <http://tbio.orient.cas.cz#%s>)) .\n",
    "    OPTIONAL{?orgEvt <http://tbio.orient.cas.cz#occursInTime> ?year}\n",
    "    \n",
    "    BIND(STR(?name) AS ?nameStr) .\n",
    "    BIND(REPLACE(?nameStr, \"http://tbio.orient.cas.cz#\", \"\") AS ?nameVal) .\n",
    "    BIND(STR(?org) AS ?orgStr) .\n",
    "    BIND(REPLACE(?orgStr, \"http://tbio.orient.cas.cz#\", \"\") AS ?orgVal) .\n",
    "    BIND(STR(?year) AS ?yearStr) .\n",
    "    BIND(REPLACE(?yearStr, \"http://tbio.orient.cas.cz#\", \"\") AS ?yearVal) .\n",
    "    BIND(STR(?graph) AS ?graphStr) .\n",
    "    BIND(REPLACE(?graphStr, \"http://tbio.orient.cas.cz/\", \"\") AS ?graphVal) .\n",
    "} ORDER BY (?yearVal)\n",
    "    \"\"\" % (name)\n",
    "\n",
    "orgList=[]\n",
    "def getOrg(queryRes, name, n):\n",
    "    for nameVal in queryRes['results']['bindings']:\n",
    "        name = nameVal['nameVal']['value'] if 'nameVal' in nameVal else \"\"\n",
    "        org = nameVal['orgVal']['value'] if 'orgVal' in nameVal else \"\"\n",
    "        year = nameVal['yearVal']['value'] if 'yearVal' in nameVal else \"\"\n",
    "        graph = nameVal['graphVal']['value'] if 'graphVal' in nameVal else \"\"\n",
    "        \n",
    "        if len(org) == 0:\n",
    "            continue\n",
    "        \n",
    "        match = workDf.loc[workDf['Organization'] == org]\n",
    "        if match.empty == False:\n",
    "            SocietalSector = match.iloc[0]['SocietalSector']\n",
    "        else:\n",
    "            SocietalSector = 'None'\n",
    "            \n",
    "        if SocietalSector == 0:\n",
    "            SocietalSector = 'None'\n",
    "        \n",
    "        row = [n, name, org, SocietalSector, year, graph]\n",
    "#         print(row)\n",
    "        \n",
    "        if row not in orgList:\n",
    "            orgList.append(row)\n",
    "\n",
    "with stardog.Connection('tbio', **conn_details) as conn:\n",
    "    for n in range(1, 6):\n",
    "        for name in clusters[n]:\n",
    "#             print(name)\n",
    "            query = sparqlQryOrg(name)\n",
    "            results = conn.select(query)\n",
    "            getOrg(results, name, n)\n",
    "\n",
    "orgList[0:1]\n",
    "print(len(orgList))"
   ]
  },
  {
   "cell_type": "markdown",
   "metadata": {},
   "source": [
    "# Output data"
   ]
  },
  {
   "cell_type": "code",
   "execution_count": 8,
   "metadata": {},
   "outputs": [
    {
     "data": {
      "text/html": [
       "<div>\n",
       "<style scoped>\n",
       "    .dataframe tbody tr th:only-of-type {\n",
       "        vertical-align: middle;\n",
       "    }\n",
       "\n",
       "    .dataframe tbody tr th {\n",
       "        vertical-align: top;\n",
       "    }\n",
       "\n",
       "    .dataframe thead th {\n",
       "        text-align: right;\n",
       "    }\n",
       "</style>\n",
       "<table border=\"1\" class=\"dataframe\">\n",
       "  <thead>\n",
       "    <tr style=\"text-align: right;\">\n",
       "      <th></th>\n",
       "      <th>Cluster</th>\n",
       "      <th>Name</th>\n",
       "      <th>Organization</th>\n",
       "      <th>Societal sector</th>\n",
       "      <th>Year</th>\n",
       "      <th>Graph</th>\n",
       "    </tr>\n",
       "  </thead>\n",
       "  <tbody>\n",
       "    <tr>\n",
       "      <th>0</th>\n",
       "      <td>1</td>\n",
       "      <td>吳瀛濤</td>\n",
       "      <td>臺灣藝術社</td>\n",
       "      <td>VoluntaryAssociation</td>\n",
       "      <td></td>\n",
       "      <td>tww</td>\n",
       "    </tr>\n",
       "    <tr>\n",
       "      <th>1</th>\n",
       "      <td>1</td>\n",
       "      <td>吳瀛濤</td>\n",
       "      <td>臺灣藝術社</td>\n",
       "      <td>VoluntaryAssociation</td>\n",
       "      <td></td>\n",
       "      <td>tww2</td>\n",
       "    </tr>\n",
       "    <tr>\n",
       "      <th>2</th>\n",
       "      <td>1</td>\n",
       "      <td>吳瀛濤</td>\n",
       "      <td>臺北帝國大學圖書館</td>\n",
       "      <td>Academia_Education</td>\n",
       "      <td></td>\n",
       "      <td>tww</td>\n",
       "    </tr>\n",
       "    <tr>\n",
       "      <th>3</th>\n",
       "      <td>1</td>\n",
       "      <td>吳瀛濤</td>\n",
       "      <td>臺北帝國大學圖書館</td>\n",
       "      <td>Academia_Education</td>\n",
       "      <td></td>\n",
       "      <td>tww2</td>\n",
       "    </tr>\n",
       "    <tr>\n",
       "      <th>4</th>\n",
       "      <td>1</td>\n",
       "      <td>吳瀛濤</td>\n",
       "      <td>職員</td>\n",
       "      <td>None</td>\n",
       "      <td></td>\n",
       "      <td>tww2</td>\n",
       "    </tr>\n",
       "  </tbody>\n",
       "</table>\n",
       "</div>"
      ],
      "text/plain": [
       "   Cluster Name Organization       Societal sector Year Graph\n",
       "0        1  吳瀛濤        臺灣藝術社  VoluntaryAssociation        tww\n",
       "1        1  吳瀛濤        臺灣藝術社  VoluntaryAssociation       tww2\n",
       "2        1  吳瀛濤    臺北帝國大學圖書館    Academia_Education        tww\n",
       "3        1  吳瀛濤    臺北帝國大學圖書館    Academia_Education       tww2\n",
       "4        1  吳瀛濤           職員                  None       tww2"
      ]
     },
     "execution_count": 8,
     "metadata": {},
     "output_type": "execute_result"
    }
   ],
   "source": [
    "outDf = pd.DataFrame(orgList, columns=['Cluster', 'Name', 'Organization', 'Societal sector', 'Year', 'Graph'])\n",
    "outDf.head()"
   ]
  },
  {
   "cell_type": "markdown",
   "metadata": {},
   "source": [
    "# Write file"
   ]
  },
  {
   "cell_type": "code",
   "execution_count": 9,
   "metadata": {},
   "outputs": [],
   "source": [
    "with pd.ExcelWriter(write_file_to) as writer:\n",
    "    # write file\n",
    "    outDf.to_excel(writer, \"TEPC\", index=False)\n",
    "    \n",
    "    writer.save()"
   ]
  },
  {
   "cell_type": "code",
   "execution_count": null,
   "metadata": {},
   "outputs": [],
   "source": []
  }
 ],
 "metadata": {
  "kernelspec": {
   "display_name": "Python 3",
   "language": "python",
   "name": "python3"
  },
  "language_info": {
   "codemirror_mode": {
    "name": "ipython",
    "version": 3
   },
   "file_extension": ".py",
   "mimetype": "text/x-python",
   "name": "python",
   "nbconvert_exporter": "python",
   "pygments_lexer": "ipython3",
   "version": "3.7.0"
  }
 },
 "nbformat": 4,
 "nbformat_minor": 2
}
