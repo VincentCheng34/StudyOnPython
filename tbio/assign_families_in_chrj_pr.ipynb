{
 "cells": [
  {
   "cell_type": "code",
   "execution_count": 1,
   "metadata": {},
   "outputs": [],
   "source": [
    "import pandas as pd"
   ]
  },
  {
   "cell_type": "code",
   "execution_count": 2,
   "metadata": {},
   "outputs": [],
   "source": [
    "filepath = '/Volumes/backup_128G/z_repository/TBIO_data/RequestsFromTana/all_org_classes/chrj_pr_families'\n",
    "\n",
    "chrj_families = 'family_members_20190510_v1.xls'\n",
    "\n",
    "read_chrj_families = '{0}/{1}'.format(filepath, chrj_families)"
   ]
  },
  {
   "cell_type": "code",
   "execution_count": 3,
   "metadata": {},
   "outputs": [
    {
     "data": {
      "text/plain": [
       "((88, 1),   name\n",
       " 0  吳三連\n",
       " 1  吳三連\n",
       " 2  吳秋微\n",
       " 3  孫景華\n",
       " 4  宋進英)"
      ]
     },
     "execution_count": 3,
     "metadata": {},
     "output_type": "execute_result"
    }
   ],
   "source": [
    "xls = pd.ExcelFile(read_chrj_families)\n",
    "chrjDf = pd.read_excel(xls, 'chrj_pr')\n",
    "chrjDf = chrjDf.fillna(0)\n",
    "chrjDf.shape, chrjDf.head()"
   ]
  },
  {
   "cell_type": "code",
   "execution_count": 4,
   "metadata": {},
   "outputs": [],
   "source": [
    "families = chrjDf['name'].unique()"
   ]
  },
  {
   "cell_type": "code",
   "execution_count": 5,
   "metadata": {},
   "outputs": [
    {
     "data": {
      "text/plain": [
       "array(['吳三連', '吳秋微', '孫景華', '宋進英', '廖文毅', '彭孟緝', '戴炎輝', '方雲祥', '施雨鄉',\n",
       "       '曾浴沂', '朱應三', '李仲義', '李兆偉', '李南', '李春生', '李枝盈', '杜聰明', '林伯奏',\n",
       "       '林坤鐘', '林政雄', '林木土', '林木桂', '林秋江', '楊子培', '楊晏然', '沈葆禎', '洪水龍',\n",
       "       '洪蘭友', '溫應星', '潘貫', '白崇禧', '秦汾', '羅萬俥', '翁瑞春', '蔡得一', '蔡法平', '蘇紹文',\n",
       "       '許子秋', '謝喆兟', '郭天恩', '郭廷俊', '郭金塔', '陳星恆', '陳望曾', '陳查某', '陳炘',\n",
       "       '陳贊治', '顏岫峰', '馮明雄', '黃炎生', '黃玉麟', '黃聯登', '翁淑治'], dtype=object)"
      ]
     },
     "execution_count": 5,
     "metadata": {},
     "output_type": "execute_result"
    }
   ],
   "source": [
    "families"
   ]
  },
  {
   "cell_type": "code",
   "execution_count": 6,
   "metadata": {},
   "outputs": [
    {
     "data": {
      "text/plain": [
       "53"
      ]
     },
     "execution_count": 6,
     "metadata": {},
     "output_type": "execute_result"
    }
   ],
   "source": [
    "len(families)"
   ]
  },
  {
   "cell_type": "code",
   "execution_count": 8,
   "metadata": {},
   "outputs": [],
   "source": [
    "import stardog\n",
    "import json\n",
    "\n",
    "adminFile = '/Users/vincent/Projects/TBIO/tbio-conn-admin.json'\n",
    "conn_details = {}\n",
    "with open(adminFile, 'r') as readFile:\n",
    "    conn_details = json.loads(readFile.read())\n"
   ]
  },
  {
   "cell_type": "markdown",
   "metadata": {},
   "source": [
    "# Create Family and assign the leader to the Family"
   ]
  },
  {
   "cell_type": "code",
   "execution_count": 8,
   "metadata": {},
   "outputs": [],
   "source": [
    "def insertFamilyQry(name):\n",
    "    return \"\"\"INSERT DATA {\n",
    "    GRAPH <http://tbio.orient.cas.cz/chrj_pr> {\n",
    "        <http://tbio.orient.cas.cz#%s家族> a <http://www.w3.org/2002/07/owl#Class> ;\n",
    "        <http://www.w3.org/2000/01/rdf-schema#subClassOf> <http://tbio.orient.cas.cz#Family> .\n",
    "        \n",
    "        <http://tbio.orient.cas.cz#%s家族__%s> a <http://tbio.orient.cas.cz#Family> ;\n",
    "            <http://tbio.orient.cas.cz#hasFamily> <http://tbio.orient.cas.cz#%s家族> .\n",
    "        <http://tbio.orient.cas.cz#%s> tbio:isMemberOfFamily <http://tbio.orient.cas.cz#%s家族__%s> .\n",
    "    }\n",
    "}\"\"\" % (name, name, name, name, name, name, name)"
   ]
  },
  {
   "cell_type": "code",
   "execution_count": 9,
   "metadata": {},
   "outputs": [
    {
     "name": "stdout",
     "output_type": "stream",
     "text": [
      "0 吳三連 None\n",
      "1 吳秋微 None\n",
      "2 孫景華 None\n",
      "3 宋進英 None\n",
      "4 廖文毅 None\n",
      "5 彭孟緝 None\n",
      "6 戴炎輝 None\n",
      "7 方雲祥 None\n",
      "8 施雨鄉 None\n",
      "9 曾浴沂 None\n",
      "10 朱應三 None\n",
      "11 李仲義 None\n",
      "12 李兆偉 None\n",
      "13 李南 None\n",
      "14 李春生 None\n",
      "15 李枝盈 None\n",
      "16 杜聰明 None\n",
      "17 林伯奏 None\n",
      "18 林坤鐘 None\n",
      "19 林政雄 None\n",
      "20 林木土 None\n",
      "21 林木桂 None\n",
      "22 林秋江 None\n",
      "23 楊子培 None\n",
      "24 楊晏然 None\n",
      "25 沈葆禎 None\n",
      "26 洪水龍 None\n",
      "27 洪蘭友 None\n",
      "28 溫應星 None\n",
      "29 潘貫 None\n",
      "30 白崇禧 None\n",
      "31 秦汾 None\n",
      "32 羅萬俥 None\n",
      "33 翁瑞春 None\n",
      "34 蔡得一 None\n",
      "35 蔡法平 None\n",
      "36 蘇紹文 None\n",
      "37 許子秋 None\n",
      "38 謝喆兟 None\n",
      "39 郭天恩 None\n",
      "40 郭廷俊 None\n",
      "41 郭金塔 None\n",
      "42 陳星恆 None\n",
      "43 陳望曾 None\n",
      "44 陳查某 None\n",
      "45 陳炘 None\n",
      "46 陳贊治 None\n",
      "47 顏岫峰 None\n",
      "48 馮明雄 None\n",
      "49 黃炎生 None\n",
      "50 黃玉麟 None\n",
      "51 黃聯登 None\n",
      "52 翁淑治 None\n"
     ]
    }
   ],
   "source": [
    "with stardog.Connection('tbio', **conn_details) as conn:\n",
    "    idx = 0\n",
    "    for family in families:\n",
    "        query = insertFamilyQry(family)\n",
    "\n",
    "        results = conn.update(query)\n",
    "\n",
    "        print(idx, family, results)\n",
    "#         print(results)\n",
    "        idx += 1\n",
    "#         break"
   ]
  },
  {
   "cell_type": "markdown",
   "metadata": {},
   "source": [
    "# insert son to the family"
   ]
  },
  {
   "cell_type": "code",
   "execution_count": 10,
   "metadata": {},
   "outputs": [],
   "source": [
    "def insertSonQry(name):\n",
    "    return \"\"\"INSERT {\n",
    "    GRAPH <http://tbio.orient.cas.cz/chrj_pr> {\n",
    "        ?familyEvt a <http://tbio.orient.cas.cz#Family> ;\n",
    "            <http://tbio.orient.cas.cz#hasFamily> <http://tbio.orient.cas.cz#%s家族> .\n",
    "        ?son tbio:isMemberOfFamily ?familyEvt .\n",
    "    }\n",
    "}\n",
    "WHERE { \n",
    "    GRAPH <http://tbio.orient.cas.cz/chrj_pr> {\n",
    "        <http://tbio.orient.cas.cz#%s> tbio:hasSon ?son .\n",
    "        BIND(STR(?son) AS ?sonStr) .\n",
    "        BIND(REPLACE(?sonStr, \"http://tbio.orient.cas.cz#\", \"\") AS ?sonName) .\n",
    "        BIND(CONCAT(\"http://tbio.orient.cas.cz#%s家族__\", ?sonName) AS ?familyStr) .\n",
    "        BIND(IRI(?familyStr) AS ?familyEvt) .\n",
    "    }\n",
    "}\"\"\" % (name, name, name)"
   ]
  },
  {
   "cell_type": "code",
   "execution_count": 11,
   "metadata": {},
   "outputs": [
    {
     "name": "stdout",
     "output_type": "stream",
     "text": [
      "0 吳三連 None\n",
      "1 吳秋微 None\n",
      "2 孫景華 None\n",
      "3 宋進英 None\n",
      "4 廖文毅 None\n",
      "5 彭孟緝 None\n",
      "6 戴炎輝 None\n",
      "7 方雲祥 None\n",
      "8 施雨鄉 None\n",
      "9 曾浴沂 None\n",
      "10 朱應三 None\n",
      "11 李仲義 None\n",
      "12 李兆偉 None\n",
      "13 李南 None\n",
      "14 李春生 None\n",
      "15 李枝盈 None\n",
      "16 杜聰明 None\n",
      "17 林伯奏 None\n",
      "18 林坤鐘 None\n",
      "19 林政雄 None\n",
      "20 林木土 None\n",
      "21 林木桂 None\n",
      "22 林秋江 None\n",
      "23 楊子培 None\n",
      "24 楊晏然 None\n",
      "25 沈葆禎 None\n",
      "26 洪水龍 None\n",
      "27 洪蘭友 None\n",
      "28 溫應星 None\n",
      "29 潘貫 None\n",
      "30 白崇禧 None\n",
      "31 秦汾 None\n",
      "32 羅萬俥 None\n",
      "33 翁瑞春 None\n",
      "34 蔡得一 None\n",
      "35 蔡法平 None\n",
      "36 蘇紹文 None\n",
      "37 許子秋 None\n",
      "38 謝喆兟 None\n",
      "39 郭天恩 None\n",
      "40 郭廷俊 None\n",
      "41 郭金塔 None\n",
      "42 陳星恆 None\n",
      "43 陳望曾 None\n",
      "44 陳查某 None\n",
      "45 陳炘 None\n",
      "46 陳贊治 None\n",
      "47 顏岫峰 None\n",
      "48 馮明雄 None\n",
      "49 黃炎生 None\n",
      "50 黃玉麟 None\n",
      "51 黃聯登 None\n",
      "52 翁淑治 None\n"
     ]
    }
   ],
   "source": [
    "with stardog.Connection('tbio', **conn_details) as conn:\n",
    "    idx = 0\n",
    "    for family in families:\n",
    "        query = insertSonQry(family)\n",
    "\n",
    "        results = conn.update(query)\n",
    "\n",
    "        print(idx, family, results)\n",
    "#         print(results)\n",
    "        idx += 1\n",
    "#         break"
   ]
  },
  {
   "cell_type": "markdown",
   "metadata": {},
   "source": [
    "# insert daughter to the family"
   ]
  },
  {
   "cell_type": "code",
   "execution_count": 12,
   "metadata": {},
   "outputs": [],
   "source": [
    "def insertDauQry(name):\n",
    "    return \"\"\"INSERT {\n",
    "    GRAPH <http://tbio.orient.cas.cz/chrj_pr> {\n",
    "        ?familyEvt a <http://tbio.orient.cas.cz#Family> ;\n",
    "            <http://tbio.orient.cas.cz#hasFamily> <http://tbio.orient.cas.cz#%s家族> .\n",
    "        ?daughter tbio:isMemberOfFamily ?familyEvt .\n",
    "    }\n",
    "}\n",
    "WHERE { \n",
    "    GRAPH <http://tbio.orient.cas.cz/chrj_pr> {\n",
    "        <http://tbio.orient.cas.cz#%s> tbio:hasDaughter ?daughter .\n",
    "        BIND(STR(?daughter) AS ?dauStr) .\n",
    "        BIND(REPLACE(?dauStr, \"http://tbio.orient.cas.cz#\", \"\") AS ?name) .\n",
    "        BIND(CONCAT(\"http://tbio.orient.cas.cz#%s家族__\", ?name) AS ?familyStr) .\n",
    "        BIND(IRI(?familyStr) AS ?familyEvt) .\n",
    "    }\n",
    "}\"\"\" % (name, name, name)"
   ]
  },
  {
   "cell_type": "code",
   "execution_count": 13,
   "metadata": {},
   "outputs": [
    {
     "name": "stdout",
     "output_type": "stream",
     "text": [
      "0 吳三連 None\n",
      "1 吳秋微 None\n",
      "2 孫景華 None\n",
      "3 宋進英 None\n",
      "4 廖文毅 None\n",
      "5 彭孟緝 None\n",
      "6 戴炎輝 None\n",
      "7 方雲祥 None\n",
      "8 施雨鄉 None\n",
      "9 曾浴沂 None\n",
      "10 朱應三 None\n",
      "11 李仲義 None\n",
      "12 李兆偉 None\n",
      "13 李南 None\n",
      "14 李春生 None\n",
      "15 李枝盈 None\n",
      "16 杜聰明 None\n",
      "17 林伯奏 None\n",
      "18 林坤鐘 None\n",
      "19 林政雄 None\n",
      "20 林木土 None\n",
      "21 林木桂 None\n",
      "22 林秋江 None\n",
      "23 楊子培 None\n",
      "24 楊晏然 None\n",
      "25 沈葆禎 None\n",
      "26 洪水龍 None\n",
      "27 洪蘭友 None\n",
      "28 溫應星 None\n",
      "29 潘貫 None\n",
      "30 白崇禧 None\n",
      "31 秦汾 None\n",
      "32 羅萬俥 None\n",
      "33 翁瑞春 None\n",
      "34 蔡得一 None\n",
      "35 蔡法平 None\n",
      "36 蘇紹文 None\n",
      "37 許子秋 None\n",
      "38 謝喆兟 None\n",
      "39 郭天恩 None\n",
      "40 郭廷俊 None\n",
      "41 郭金塔 None\n",
      "42 陳星恆 None\n",
      "43 陳望曾 None\n",
      "44 陳查某 None\n",
      "45 陳炘 None\n",
      "46 陳贊治 None\n",
      "47 顏岫峰 None\n",
      "48 馮明雄 None\n",
      "49 黃炎生 None\n",
      "50 黃玉麟 None\n",
      "51 黃聯登 None\n",
      "52 翁淑治 None\n"
     ]
    }
   ],
   "source": [
    "with stardog.Connection('tbio', **conn_details) as conn:\n",
    "    idx = 0\n",
    "    for family in families:\n",
    "        query = insertDauQry(family)\n",
    "\n",
    "        results = conn.update(query)\n",
    "\n",
    "        print(idx, family, results)\n",
    "#         print(results)\n",
    "        idx += 1\n",
    "#         break"
   ]
  },
  {
   "cell_type": "markdown",
   "metadata": {},
   "source": [
    "# insert grandson into family"
   ]
  },
  {
   "cell_type": "code",
   "execution_count": 14,
   "metadata": {},
   "outputs": [],
   "source": [
    "def insertGrandsonQry(name):\n",
    "    return \"\"\"INSERT {\n",
    "    GRAPH <http://tbio.orient.cas.cz/chrj_pr> {\n",
    "        ?familyEvt a <http://tbio.orient.cas.cz#Family> ;\n",
    "            <http://tbio.orient.cas.cz#hasFamily> <http://tbio.orient.cas.cz#%s家族> .\n",
    "        ?grandChild tbio:isMemberOfFamily ?familyEvt .\n",
    "    }\n",
    "}\n",
    "WHERE { \n",
    "    GRAPH <http://tbio.orient.cas.cz/chrj_pr> {\n",
    "        <http://tbio.orient.cas.cz#%s> tbio:hasSon ?son .\n",
    "        GRAPH ?g {\n",
    "            ?son tbio:hasSon ?grandChild .\n",
    "        }\n",
    "        BIND(STR(?grandChild) AS ?grandStr) .\n",
    "        BIND(REPLACE(?grandStr, \"http://tbio.orient.cas.cz#\", \"\") AS ?grandName) .\n",
    "        BIND(CONCAT(\"http://tbio.orient.cas.cz#%s家族__\", ?grandName) AS ?familyStr) .\n",
    "        BIND(IRI(?familyStr) AS ?familyEvt) .\n",
    "    }\n",
    "}\"\"\" % (name, name, name)"
   ]
  },
  {
   "cell_type": "code",
   "execution_count": 15,
   "metadata": {},
   "outputs": [
    {
     "name": "stdout",
     "output_type": "stream",
     "text": [
      "0 吳三連 None\n",
      "1 吳秋微 None\n",
      "2 孫景華 None\n",
      "3 宋進英 None\n",
      "4 廖文毅 None\n",
      "5 彭孟緝 None\n",
      "6 戴炎輝 None\n",
      "7 方雲祥 None\n",
      "8 施雨鄉 None\n",
      "9 曾浴沂 None\n",
      "10 朱應三 None\n",
      "11 李仲義 None\n",
      "12 李兆偉 None\n",
      "13 李南 None\n",
      "14 李春生 None\n",
      "15 李枝盈 None\n",
      "16 杜聰明 None\n",
      "17 林伯奏 None\n",
      "18 林坤鐘 None\n",
      "19 林政雄 None\n",
      "20 林木土 None\n",
      "21 林木桂 None\n",
      "22 林秋江 None\n",
      "23 楊子培 None\n",
      "24 楊晏然 None\n",
      "25 沈葆禎 None\n",
      "26 洪水龍 None\n",
      "27 洪蘭友 None\n",
      "28 溫應星 None\n",
      "29 潘貫 None\n",
      "30 白崇禧 None\n",
      "31 秦汾 None\n",
      "32 羅萬俥 None\n",
      "33 翁瑞春 None\n",
      "34 蔡得一 None\n",
      "35 蔡法平 None\n",
      "36 蘇紹文 None\n",
      "37 許子秋 None\n",
      "38 謝喆兟 None\n",
      "39 郭天恩 None\n",
      "40 郭廷俊 None\n",
      "41 郭金塔 None\n",
      "42 陳星恆 None\n",
      "43 陳望曾 None\n",
      "44 陳查某 None\n",
      "45 陳炘 None\n",
      "46 陳贊治 None\n",
      "47 顏岫峰 None\n",
      "48 馮明雄 None\n",
      "49 黃炎生 None\n",
      "50 黃玉麟 None\n",
      "51 黃聯登 None\n",
      "52 翁淑治 None\n"
     ]
    }
   ],
   "source": [
    "with stardog.Connection('tbio', **conn_details) as conn:\n",
    "    idx = 0\n",
    "    for family in families:\n",
    "        query = insertGrandsonQry(family)\n",
    "\n",
    "        results = conn.update(query)\n",
    "\n",
    "        print(idx, family, results)\n",
    "#         print(results)\n",
    "        idx += 1\n",
    "#         break"
   ]
  },
  {
   "cell_type": "markdown",
   "metadata": {},
   "source": [
    "# insert grand daughter into family"
   ]
  },
  {
   "cell_type": "code",
   "execution_count": 16,
   "metadata": {},
   "outputs": [],
   "source": [
    "def insertGranddauQry(name):\n",
    "    return \"\"\"INSERT {\n",
    "    GRAPH <http://tbio.orient.cas.cz/chrj_pr> {\n",
    "        ?familyEvt a <http://tbio.orient.cas.cz#Family> ;\n",
    "            <http://tbio.orient.cas.cz#hasFamily> <http://tbio.orient.cas.cz#%s家族> .\n",
    "        ?grandChild tbio:isMemberOfFamily ?familyEvt .\n",
    "    }\n",
    "}\n",
    "WHERE { \n",
    "    GRAPH <http://tbio.orient.cas.cz/chrj_pr> {\n",
    "        <http://tbio.orient.cas.cz#%s> tbio:hasSon ?son .\n",
    "        GRAPH ?g {\n",
    "            ?son tbio:hasDaughter ?grandChild .\n",
    "        }\n",
    "        BIND(STR(?grandChild) AS ?grandStr) .\n",
    "        BIND(REPLACE(?grandStr, \"http://tbio.orient.cas.cz#\", \"\") AS ?grandName) .\n",
    "        BIND(CONCAT(\"http://tbio.orient.cas.cz#%s家族__\", ?grandName) AS ?familyStr) .\n",
    "        BIND(IRI(?familyStr) AS ?familyEvt) .\n",
    "    }\n",
    "}\"\"\" % (name, name, name)"
   ]
  },
  {
   "cell_type": "code",
   "execution_count": 17,
   "metadata": {},
   "outputs": [
    {
     "name": "stdout",
     "output_type": "stream",
     "text": [
      "0 吳三連 None\n",
      "1 吳秋微 None\n",
      "2 孫景華 None\n",
      "3 宋進英 None\n",
      "4 廖文毅 None\n",
      "5 彭孟緝 None\n",
      "6 戴炎輝 None\n",
      "7 方雲祥 None\n",
      "8 施雨鄉 None\n",
      "9 曾浴沂 None\n",
      "10 朱應三 None\n",
      "11 李仲義 None\n",
      "12 李兆偉 None\n",
      "13 李南 None\n",
      "14 李春生 None\n",
      "15 李枝盈 None\n",
      "16 杜聰明 None\n",
      "17 林伯奏 None\n",
      "18 林坤鐘 None\n",
      "19 林政雄 None\n",
      "20 林木土 None\n",
      "21 林木桂 None\n",
      "22 林秋江 None\n",
      "23 楊子培 None\n",
      "24 楊晏然 None\n",
      "25 沈葆禎 None\n",
      "26 洪水龍 None\n",
      "27 洪蘭友 None\n",
      "28 溫應星 None\n",
      "29 潘貫 None\n",
      "30 白崇禧 None\n",
      "31 秦汾 None\n",
      "32 羅萬俥 None\n",
      "33 翁瑞春 None\n",
      "34 蔡得一 None\n",
      "35 蔡法平 None\n",
      "36 蘇紹文 None\n",
      "37 許子秋 None\n",
      "38 謝喆兟 None\n",
      "39 郭天恩 None\n",
      "40 郭廷俊 None\n",
      "41 郭金塔 None\n",
      "42 陳星恆 None\n",
      "43 陳望曾 None\n",
      "44 陳查某 None\n",
      "45 陳炘 None\n",
      "46 陳贊治 None\n",
      "47 顏岫峰 None\n",
      "48 馮明雄 None\n",
      "49 黃炎生 None\n",
      "50 黃玉麟 None\n",
      "51 黃聯登 None\n",
      "52 翁淑治 None\n"
     ]
    }
   ],
   "source": [
    "with stardog.Connection('tbio', **conn_details) as conn:\n",
    "    idx = 0\n",
    "    for family in families:\n",
    "        query = insertGranddauQry(family)\n",
    "\n",
    "        results = conn.update(query)\n",
    "\n",
    "        print(idx, family, results)\n",
    "#         print(results)\n",
    "        idx += 1\n",
    "#         break"
   ]
  },
  {
   "cell_type": "markdown",
   "metadata": {},
   "source": [
    "# Check the leader name is a correct name or not"
   ]
  },
  {
   "cell_type": "code",
   "execution_count": 18,
   "metadata": {},
   "outputs": [],
   "source": [
    "# def sparqlQry(name):\n",
    "#     return \"\"\"SELECT DISTINCT ?p WHERE { \n",
    "#     GRAPH <http://tbio.orient.cas.cz/chrj_pr> {\n",
    "#         tbio:%s ?p ?o .\n",
    "#         # ?p rdfs:subPropertyOf ?familyOP .\n",
    "#     }\n",
    "#     ?p rdfs:subPropertyOf ?familyOP .\n",
    "#     FILTER ( ?familyOP = tbio:hasFamilyRelation )\n",
    "# } ORDER BY (?p)\"\"\" % (name)"
   ]
  },
  {
   "cell_type": "code",
   "execution_count": 19,
   "metadata": {},
   "outputs": [],
   "source": [
    "# import json\n",
    "\n",
    "# with stardog.Connection('tbio', **conn_details) as conn:\n",
    "# #     conn.begin()\n",
    "\n",
    "#     idx = 0\n",
    "#     for family in families:\n",
    "#         query = sparqlQry(family)\n",
    "\n",
    "#         results = conn.select(query)\n",
    "# #         print(results)\n",
    "# #         jsonRes = json.loads(results)\n",
    "# #         results = conn.update(query)\n",
    "#         print(idx, family, results.get('results').get('bindings'))\n",
    "# #         print(results)\n",
    "#         idx += 1\n",
    "# #         break\n"
   ]
  },
  {
   "cell_type": "markdown",
   "metadata": {},
   "source": [
    "# Special Case"
   ]
  },
  {
   "cell_type": "code",
   "execution_count": 20,
   "metadata": {},
   "outputs": [],
   "source": [
    "def insertQry(family, name):\n",
    "    return \"\"\"INSERT DATA {\n",
    "    GRAPH <http://tbio.orient.cas.cz/chrj_pr> {\n",
    "        <http://tbio.orient.cas.cz#%s家族> a <http://www.w3.org/2002/07/owl#Class> ;\n",
    "        <http://www.w3.org/2000/01/rdf-schema#subClassOf> <http://tbio.orient.cas.cz#Family> .\n",
    "        \n",
    "        <http://tbio.orient.cas.cz#%s家族__%s> a <http://tbio.orient.cas.cz#Family> ;\n",
    "            <http://tbio.orient.cas.cz#hasFamily> <http://tbio.orient.cas.cz#%s家族> .\n",
    "        <http://tbio.orient.cas.cz#%s> tbio:isMemberOfFamily <http://tbio.orient.cas.cz#%s家族__%s> .\n",
    "    }\n",
    "}\"\"\" % (family, family, name, family, name, family, name)"
   ]
  },
  {
   "cell_type": "code",
   "execution_count": 21,
   "metadata": {},
   "outputs": [
    {
     "name": "stdout",
     "output_type": "stream",
     "text": [
      "翁淑治 None\n"
     ]
    }
   ],
   "source": [
    "with stardog.Connection('tbio', **conn_details) as conn:\n",
    "    query = insertQry('翁淑治', '翁淑霞')\n",
    "\n",
    "    results = conn.update(query)\n",
    "\n",
    "    print(family, results)"
   ]
  },
  {
   "cell_type": "code",
   "execution_count": null,
   "metadata": {},
   "outputs": [],
   "source": []
  }
 ],
 "metadata": {
  "kernelspec": {
   "display_name": "Python 3",
   "language": "python",
   "name": "python3"
  },
  "language_info": {
   "codemirror_mode": {
    "name": "ipython",
    "version": 3
   },
   "file_extension": ".py",
   "mimetype": "text/x-python",
   "name": "python",
   "nbconvert_exporter": "python",
   "pygments_lexer": "ipython3",
   "version": "3.7.0"
  }
 },
 "nbformat": 4,
 "nbformat_minor": 2
}
