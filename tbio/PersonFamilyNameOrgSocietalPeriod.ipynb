{
 "cells": [
  {
   "cell_type": "code",
   "execution_count": 1,
   "metadata": {},
   "outputs": [],
   "source": [
    "# SELECT DISTINCT ?personVal ?famVal ?orgVal ?orgOVal WHERE {\n",
    "#     GRAPH <http://tbio.orient.cas.cz/chrj_pr> {\n",
    "#         ?person tbio:isMemberOfFamily ?p .\n",
    "#         ?p tbio:hasFamily ?fam .\n",
    "#         FILTER(!sameterm(?fam, tbio:WufengLinFamily)) .\n",
    "#     }\n",
    "#     OPTIONAL {\n",
    "#         ?person ?orgP ?orgEvt .\n",
    "#         FILTER(sameterm(?orgP, tbio:attendsSchool) || sameterm(?orgP, tbio:hasEmployment) || sameterm(?orgP, tbio:hasMembership))\n",
    "#         ?orgEvt ?orgAt ?org .\n",
    "#         FILTER(sameterm(?orgAt, tbio:educationAt) || sameterm(?orgAt, tbio:employmentAt) || sameterm(?orgAt, tbio:hasMembershipAt))\n",
    "#         ?org rdf:type ?orgO .\n",
    "#     }\n",
    "#     BIND(STR(?person) AS ?personStr) .\n",
    "#     BIND(REPLACE(?personStr, \"http://tbio.orient.cas.cz#\", \"\") AS ?personVal) .\n",
    "#     BIND(STR(?fam) AS ?famStr) .\n",
    "#     BIND(REPLACE(?famStr, \"http://tbio.orient.cas.cz#\", \"\") AS ?famVal) .\n",
    "#     BIND(STR(?org) AS ?orgStr) .\n",
    "#     BIND(REPLACE(?orgStr, \"http://tbio.orient.cas.cz#\", \"\") AS ?orgVal) .\n",
    "#     BIND(STR(?orgO) AS ?orgOStr) .\n",
    "#     BIND(REPLACE(?orgOStr, \"http://tbio.orient.cas.cz#\", \"\") AS ?orgOVal) .\n",
    "# }"
   ]
  },
  {
   "cell_type": "code",
   "execution_count": 2,
   "metadata": {},
   "outputs": [],
   "source": [
    "import pandas as pd"
   ]
  },
  {
   "cell_type": "code",
   "execution_count": 3,
   "metadata": {},
   "outputs": [],
   "source": [
    "filepath = '/Volumes/backup_128G/z_repository/TBIO_data/RequestsFromTana/20190515'\n",
    "\n",
    "filename = 'personFamilyOrgPeriod-20190516.tsv'\n",
    "\n",
    "read_filename = '{0}/{1}'.format(filepath, filename)"
   ]
  },
  {
   "cell_type": "code",
   "execution_count": 4,
   "metadata": {},
   "outputs": [
    {
     "data": {
      "text/plain": [
       "((8461, 4),   ?personVal ?famVal     ?orgVal                      ?orgOVal\n",
       " 0        林熊祥    嚴復家系     林本源製糖會社  JapaneseColonialOrganization\n",
       " 1        林熊祥    嚴復家系     林本源製糖會社               PrivateBusiness\n",
       " 2        林熊祥    嚴復家系  台灣大有物產株式會社  JapaneseColonialOrganization\n",
       " 3        林熊祥    嚴復家系  台灣大有物產株式會社               PrivateBusiness\n",
       " 4        林熊祥    嚴復家系    台北商事株式會社  JapaneseColonialOrganization)"
      ]
     },
     "execution_count": 4,
     "metadata": {},
     "output_type": "execute_result"
    }
   ],
   "source": [
    "workDf = pd.read_csv(read_filename, delimiter='\\t')\n",
    "workDf = workDf.dropna().reset_index(drop=True)\n",
    "workDf.shape, workDf.head()"
   ]
  },
  {
   "cell_type": "code",
   "execution_count": 5,
   "metadata": {},
   "outputs": [],
   "source": [
    "# SELECT DISTINCT ?s WHERE {\n",
    "#     GRAPH ?graph {\n",
    "#         ?s rdfs:subClassOf tbio:Division_Period .\n",
    "#     }\n",
    "# }\n",
    "\n",
    "Division_Period = [\n",
    "    'JapaneseColonialOrganization',\n",
    "    'EarlyPostWarOrganization',\n",
    "    'RepublicanOrganization',\n",
    "    'BothPeriods',\n",
    "    'PreRetrossecionRepublicanOrganization',\n",
    "    'QingPeriodOrganization',\n",
    "    'UnknownPeriodOrganization'\n",
    "]"
   ]
  },
  {
   "cell_type": "code",
   "execution_count": 6,
   "metadata": {},
   "outputs": [],
   "source": [
    "# SELECT DISTINCT ?s WHERE {\n",
    "#     GRAPH ?graph {\n",
    "#         ?s rdfs:subClassOf tbio:SocietalSector .\n",
    "#     }\n",
    "# }\n",
    "\n",
    "SocietalSector = [\n",
    "    'Police',\n",
    "    'ArmedForces',\n",
    "    'Hospital',\n",
    "    'ReligiousOrganization',\n",
    "    'MassMedia',\n",
    "    'PublicAdministration',\n",
    "    'PrivateBusiness',\n",
    "    'VoluntaryAssociation',\n",
    "    'Academia_Education',\n",
    "    'StateBusiness',\n",
    "    'CulturalOrganization',\n",
    "    'Politics',\n",
    "    'UnknownSector'    \n",
    "]"
   ]
  },
  {
   "cell_type": "code",
   "execution_count": 7,
   "metadata": {},
   "outputs": [
    {
     "name": "stdout",
     "output_type": "stream",
     "text": [
      "8461\n"
     ]
    }
   ],
   "source": [
    "workList = []\n",
    "for idx in range(0, len(workDf)):\n",
    "    row = workDf.loc[idx]\n",
    "\n",
    "    person = str(row['?personVal'])\n",
    "    family = str(row['?famVal'])\n",
    "    org = str(row['?orgVal'])\n",
    "    \n",
    "    if org == '':\n",
    "        continue\n",
    "    orgO = str(row['?orgOVal'])\n",
    "\n",
    "    workList.append([person, family, org, orgO])\n",
    "    \n",
    "print(len(workList))"
   ]
  },
  {
   "cell_type": "markdown",
   "metadata": {},
   "source": [
    "# Read person-family map table"
   ]
  },
  {
   "cell_type": "code",
   "execution_count": 8,
   "metadata": {},
   "outputs": [],
   "source": [
    "familymembers = 'Familymembers.xlsx'\n",
    "\n",
    "read_familymembers = '{0}/{1}'.format(filepath, familymembers)"
   ]
  },
  {
   "cell_type": "code",
   "execution_count": 9,
   "metadata": {},
   "outputs": [
    {
     "data": {
      "text/plain": [
       "((4546, 2),   personStr familyStr\n",
       " 0       何佩娟      何傳家系\n",
       " 1       何佩珊      何傳家系\n",
       " 2       何佩珍      何傳家系\n",
       " 3        何傳      何傳家系\n",
       " 4       何培庭      何傳家系)"
      ]
     },
     "execution_count": 9,
     "metadata": {},
     "output_type": "execute_result"
    }
   ],
   "source": [
    "fmDf = pd.read_excel(read_familymembers)\n",
    "fmDf.shape, fmDf.head()"
   ]
  },
  {
   "cell_type": "code",
   "execution_count": 10,
   "metadata": {},
   "outputs": [],
   "source": [
    "fmDic = {}\n",
    "for idx in range(0, len(fmDf)):\n",
    "    row = fmDf.loc[idx]\n",
    "\n",
    "    person = str(row['personStr'])\n",
    "    family = str(row['familyStr'])\n",
    "    \n",
    "    if person not in fmDic:\n",
    "        fmDic[person] = family\n",
    "    elif family != fmDic[person]:\n",
    "        print(\"Dup:\", person, family, fmDic[person])\n",
    "\n",
    "# fmDic"
   ]
  },
  {
   "cell_type": "code",
   "execution_count": 11,
   "metadata": {},
   "outputs": [
    {
     "name": "stdout",
     "output_type": "stream",
     "text": [
      "7174 [['林熊祥', '林維讓家系', '林本源製糖會社', 'PrivateBusiness', 'JapaneseColonialOrganization'], ['林熊祥', '林維讓家系', '林本源製糖會社', 'PrivateBusiness', 'JapaneseColonialOrganization'], ['林熊祥', '林維讓家系', '台灣大有物產株式會社', 'PrivateBusiness', 'JapaneseColonialOrganization'], ['林熊祥', '林維讓家系', '台灣大有物產株式會社', 'PrivateBusiness', 'JapaneseColonialOrganization'], ['林熊祥', '林維讓家系', '台北商事株式會社', 'PrivateBusiness', 'JapaneseColonialOrganization']]\n"
     ]
    }
   ],
   "source": [
    "def getPeriod(INperson, INfamily, INorg):\n",
    "    for row in workList:\n",
    "        person = row[0]\n",
    "        family = row[1]\n",
    "        org = row[2]\n",
    "        orgO = row[3]\n",
    "\n",
    "        if person == INperson and family == INfamily and org == INorg:\n",
    "            if orgO in Division_Period:\n",
    "                return orgO\n",
    "    return ''\n",
    "\n",
    "def getSocietal(INperson, INfamily, INorg):\n",
    "    for row in workList:\n",
    "        person = row[0]\n",
    "        family = row[1]\n",
    "        org = row[2]\n",
    "        orgO = row[3]\n",
    "\n",
    "        if person == INperson and family == INfamily and org == INorg:\n",
    "            if orgO in SocietalSector:\n",
    "                return orgO\n",
    "    return ''\n",
    "\n",
    "def getFamilyName(INperson):\n",
    "    if INperson not in fmDic:\n",
    "        print(INperson, \" Not found!\")\n",
    "        return ''\n",
    "    return fmDic[INperson]\n",
    "\n",
    "resList = []\n",
    "for row in workList:\n",
    "    person = row[0]\n",
    "    family = row[1]\n",
    "    org = row[2]\n",
    "    \n",
    "    period = getPeriod(person, family, org)\n",
    "    if period == '':\n",
    "        continue\n",
    "        \n",
    "    societal = getSocietal(person, family, org)\n",
    "    if societal == '':\n",
    "        continue\n",
    "\n",
    "    familyName = getFamilyName(person)\n",
    "    if familyName == '':\n",
    "        continue\n",
    "        \n",
    "    resList.append([person, familyName, org, societal, period])\n",
    "    \n",
    "print(len(resList), resList[0:5])"
   ]
  },
  {
   "cell_type": "code",
   "execution_count": 12,
   "metadata": {},
   "outputs": [
    {
     "data": {
      "text/html": [
       "<div>\n",
       "<style scoped>\n",
       "    .dataframe tbody tr th:only-of-type {\n",
       "        vertical-align: middle;\n",
       "    }\n",
       "\n",
       "    .dataframe tbody tr th {\n",
       "        vertical-align: top;\n",
       "    }\n",
       "\n",
       "    .dataframe thead th {\n",
       "        text-align: right;\n",
       "    }\n",
       "</style>\n",
       "<table border=\"1\" class=\"dataframe\">\n",
       "  <thead>\n",
       "    <tr style=\"text-align: right;\">\n",
       "      <th></th>\n",
       "      <th>Person</th>\n",
       "      <th>FamilyName</th>\n",
       "      <th>Organization</th>\n",
       "      <th>SocietalSector</th>\n",
       "      <th>OrganizationPeriod</th>\n",
       "    </tr>\n",
       "  </thead>\n",
       "  <tbody>\n",
       "    <tr>\n",
       "      <th>3813</th>\n",
       "      <td>何傳</td>\n",
       "      <td>何傳家系</td>\n",
       "      <td>高雄市</td>\n",
       "      <td>PublicAdministration</td>\n",
       "      <td>BothPeriods</td>\n",
       "    </tr>\n",
       "    <tr>\n",
       "      <th>3815</th>\n",
       "      <td>何傳</td>\n",
       "      <td>何傳家系</td>\n",
       "      <td>高雄州</td>\n",
       "      <td>PublicAdministration</td>\n",
       "      <td>JapaneseColonialOrganization</td>\n",
       "    </tr>\n",
       "    <tr>\n",
       "      <th>3817</th>\n",
       "      <td>何傳</td>\n",
       "      <td>何傳家系</td>\n",
       "      <td>民報商事社</td>\n",
       "      <td>PrivateBusiness</td>\n",
       "      <td>JapaneseColonialOrganization</td>\n",
       "    </tr>\n",
       "    <tr>\n",
       "      <th>3819</th>\n",
       "      <td>何傳</td>\n",
       "      <td>何傳家系</td>\n",
       "      <td>台灣木工株式會社</td>\n",
       "      <td>PrivateBusiness</td>\n",
       "      <td>JapaneseColonialOrganization</td>\n",
       "    </tr>\n",
       "    <tr>\n",
       "      <th>3821</th>\n",
       "      <td>何傳</td>\n",
       "      <td>何傳家系</td>\n",
       "      <td>永豐商店理事會</td>\n",
       "      <td>PrivateBusiness</td>\n",
       "      <td>JapaneseColonialOrganization</td>\n",
       "    </tr>\n",
       "  </tbody>\n",
       "</table>\n",
       "</div>"
      ],
      "text/plain": [
       "     Person FamilyName Organization        SocietalSector  \\\n",
       "3813     何傳       何傳家系          高雄市  PublicAdministration   \n",
       "3815     何傳       何傳家系          高雄州  PublicAdministration   \n",
       "3817     何傳       何傳家系        民報商事社       PrivateBusiness   \n",
       "3819     何傳       何傳家系     台灣木工株式會社       PrivateBusiness   \n",
       "3821     何傳       何傳家系      永豐商店理事會       PrivateBusiness   \n",
       "\n",
       "                OrganizationPeriod  \n",
       "3813                   BothPeriods  \n",
       "3815  JapaneseColonialOrganization  \n",
       "3817  JapaneseColonialOrganization  \n",
       "3819  JapaneseColonialOrganization  \n",
       "3821  JapaneseColonialOrganization  "
      ]
     },
     "execution_count": 12,
     "metadata": {},
     "output_type": "execute_result"
    }
   ],
   "source": [
    "orgDf = pd.DataFrame(resList, columns=['Person', 'FamilyName', 'Organization', 'SocietalSector', 'OrganizationPeriod'])\n",
    "orgDf.drop_duplicates(keep='first', inplace=True)\n",
    "orgDf.sort_values(by=['FamilyName', 'Person'], inplace=True)\n",
    "orgDf.head()"
   ]
  },
  {
   "cell_type": "code",
   "execution_count": 13,
   "metadata": {},
   "outputs": [],
   "source": [
    "write_file_to = '{0}/{1}'.format(filepath, 'personFamilyOrgPeriod_20190516_v2.xlsx')\n",
    "orgDf.to_excel(write_file_to, index=False)"
   ]
  },
  {
   "cell_type": "code",
   "execution_count": null,
   "metadata": {},
   "outputs": [],
   "source": []
  }
 ],
 "metadata": {
  "kernelspec": {
   "display_name": "Python 3",
   "language": "python",
   "name": "python3"
  },
  "language_info": {
   "codemirror_mode": {
    "name": "ipython",
    "version": 3
   },
   "file_extension": ".py",
   "mimetype": "text/x-python",
   "name": "python",
   "nbconvert_exporter": "python",
   "pygments_lexer": "ipython3",
   "version": "3.7.0"
  }
 },
 "nbformat": 4,
 "nbformat_minor": 2
}
