{
 "cells": [
  {
   "cell_type": "code",
   "execution_count": 1,
   "metadata": {},
   "outputs": [],
   "source": [
    "# SELECT DISTINCT ?personVal ?famVal ?orgVal ?orgOVal WHERE {\n",
    "#     GRAPH <http://tbio.orient.cas.cz/chrj_pr> {\n",
    "#         ?person tbio:isMemberOfFamily ?p .\n",
    "#         ?p tbio:hasFamily ?fam .\n",
    "#         FILTER(!sameterm(?fam, tbio:WufengLinFamily)) .\n",
    "#     }\n",
    "#     OPTIONAL {\n",
    "#         ?person ?orgP ?orgEvt .\n",
    "#         FILTER(sameterm(?orgP, tbio:attendsSchool) || sameterm(?orgP, tbio:hasEmployment) || sameterm(?orgP, tbio:hasMembership))\n",
    "#         ?orgEvt ?orgAt ?org .\n",
    "#         FILTER(sameterm(?orgAt, tbio:educationAt) || sameterm(?orgAt, tbio:employmentAt) || sameterm(?orgAt, tbio:hasMembershipAt))\n",
    "#         ?org rdf:type ?orgO .\n",
    "#     }\n",
    "#     BIND(STR(?person) AS ?personStr) .\n",
    "#     BIND(REPLACE(?personStr, \"http://tbio.orient.cas.cz#\", \"\") AS ?personVal) .\n",
    "#     BIND(STR(?fam) AS ?famStr) .\n",
    "#     BIND(REPLACE(?famStr, \"http://tbio.orient.cas.cz#\", \"\") AS ?famVal) .\n",
    "#     BIND(STR(?org) AS ?orgStr) .\n",
    "#     BIND(REPLACE(?orgStr, \"http://tbio.orient.cas.cz#\", \"\") AS ?orgVal) .\n",
    "#     BIND(STR(?orgO) AS ?orgOStr) .\n",
    "#     BIND(REPLACE(?orgOStr, \"http://tbio.orient.cas.cz#\", \"\") AS ?orgOVal) .\n",
    "# }"
   ]
  },
  {
   "cell_type": "code",
   "execution_count": 2,
   "metadata": {},
   "outputs": [],
   "source": [
    "import pandas as pd"
   ]
  },
  {
   "cell_type": "code",
   "execution_count": 3,
   "metadata": {},
   "outputs": [],
   "source": [
    "filepath = '/Volumes/backup_128G/z_repository/TBIO_data/RequestsFromTana/20190521_perFamOrgSocPer'\n",
    "\n",
    "filename = 'personFamilyOrgPeriod-20190516.tsv'\n",
    "\n",
    "read_filename = '{0}/{1}'.format(filepath, filename)"
   ]
  },
  {
   "cell_type": "code",
   "execution_count": 4,
   "metadata": {},
   "outputs": [
    {
     "data": {
      "text/plain": [
       "((8461, 4),   ?personVal ?famVal     ?orgVal                      ?orgOVal\n",
       " 0        林熊祥    嚴復家系     林本源製糖會社  JapaneseColonialOrganization\n",
       " 1        林熊祥    嚴復家系     林本源製糖會社               PrivateBusiness\n",
       " 2        林熊祥    嚴復家系  台灣大有物產株式會社  JapaneseColonialOrganization\n",
       " 3        林熊祥    嚴復家系  台灣大有物產株式會社               PrivateBusiness\n",
       " 4        林熊祥    嚴復家系    台北商事株式會社  JapaneseColonialOrganization)"
      ]
     },
     "execution_count": 4,
     "metadata": {},
     "output_type": "execute_result"
    }
   ],
   "source": [
    "workDf = pd.read_csv(read_filename, delimiter='\\t')\n",
    "workDf = workDf.dropna().reset_index(drop=True)\n",
    "workDf.shape, workDf.head()"
   ]
  },
  {
   "cell_type": "code",
   "execution_count": 5,
   "metadata": {},
   "outputs": [],
   "source": [
    "# SELECT DISTINCT ?s WHERE {\n",
    "#     GRAPH ?graph {\n",
    "#         ?s rdfs:subClassOf tbio:Division_Period .\n",
    "#     }\n",
    "# }\n",
    "\n",
    "Division_Period = [\n",
    "    'JapaneseColonialOrganization',\n",
    "    'EarlyPostWarOrganization',\n",
    "    'RepublicanOrganization',\n",
    "    'BothPeriods',\n",
    "    'PreRetrossecionRepublicanOrganization',\n",
    "    'QingPeriodOrganization',\n",
    "    'UnknownPeriodOrganization'\n",
    "]"
   ]
  },
  {
   "cell_type": "code",
   "execution_count": 6,
   "metadata": {},
   "outputs": [],
   "source": [
    "# SELECT DISTINCT ?s WHERE {\n",
    "#     GRAPH ?graph {\n",
    "#         ?s rdfs:subClassOf tbio:SocietalSector .\n",
    "#     }\n",
    "# }\n",
    "\n",
    "SocietalSector = [\n",
    "    'Police',\n",
    "    'ArmedForces',\n",
    "    'Hospital',\n",
    "    'ReligiousOrganization',\n",
    "    'MassMedia',\n",
    "    'PublicAdministration',\n",
    "    'PrivateBusiness',\n",
    "    'VoluntaryAssociation',\n",
    "    'Academia_Education',\n",
    "    'StateBusiness',\n",
    "    'CulturalOrganization',\n",
    "    'Politics',\n",
    "    'UnknownSector'    \n",
    "]"
   ]
  },
  {
   "cell_type": "code",
   "execution_count": 7,
   "metadata": {},
   "outputs": [
    {
     "name": "stdout",
     "output_type": "stream",
     "text": [
      "8461\n"
     ]
    }
   ],
   "source": [
    "workList = []\n",
    "for idx in range(0, len(workDf)):\n",
    "    row = workDf.loc[idx]\n",
    "\n",
    "    person = str(row['?personVal'])\n",
    "    family = str(row['?famVal'])\n",
    "    org = str(row['?orgVal'])\n",
    "    \n",
    "    if org == '':\n",
    "        continue\n",
    "    orgO = str(row['?orgOVal'])\n",
    "\n",
    "    workList.append([person, family, org, orgO])\n",
    "    \n",
    "print(len(workList))"
   ]
  },
  {
   "cell_type": "code",
   "execution_count": 8,
   "metadata": {},
   "outputs": [
    {
     "data": {
      "text/plain": [
       "[['林熊祥', '嚴復家系', '林本源製糖會社', 'JapaneseColonialOrganization'],\n",
       " ['林熊祥', '嚴復家系', '林本源製糖會社', 'PrivateBusiness'],\n",
       " ['林熊祥', '嚴復家系', '台灣大有物產株式會社', 'JapaneseColonialOrganization'],\n",
       " ['林熊祥', '嚴復家系', '台灣大有物產株式會社', 'PrivateBusiness'],\n",
       " ['林熊祥', '嚴復家系', '台北商事株式會社', 'JapaneseColonialOrganization']]"
      ]
     },
     "execution_count": 8,
     "metadata": {},
     "output_type": "execute_result"
    }
   ],
   "source": [
    "workList[0:5]"
   ]
  },
  {
   "cell_type": "markdown",
   "metadata": {},
   "source": [
    "# 全臺詩社"
   ]
  },
  {
   "cell_type": "code",
   "execution_count": 9,
   "metadata": {},
   "outputs": [],
   "source": [
    "poemOrgs = '全臺詩詩社表格-20180717.xlsx'\n",
    "\n",
    "read_poemOrgs = '{0}/{1}'.format(filepath, poemOrgs)"
   ]
  },
  {
   "cell_type": "code",
   "execution_count": 10,
   "metadata": {},
   "outputs": [
    {
     "data": {
      "text/plain": [
       "((340, 15),\n",
       "    詩社名稱 別名                      創始人               創社時間       結束時間  \\\n",
       " 0    瀛社  無                 謝汝銓\\n林馨蘭  1909.3.7-1909.3.7         迄今   \n",
       " 1    櫟社  無                 林朝崧\\n賴紹堯               1902          ?   \n",
       " 2   崇正社  無                      許南英          1878-1878  1890-1890   \n",
       " 3  浪吟詩社  無  許南英\\n蔡國琳\\n胡殿鵬\\n趙鍾麒\\n謝維巖          1891-1891  1906-1906   \n",
       " 4    南社  無             連橫\\n趙鍾麒\\n謝維巖               1906          ?   \n",
       " \n",
       "                  創社地點                               歷任社長  \\\n",
       " 0    平樂遊（臺灣臺北市萬華區西昌街）  洪以南\\n謝汝銓\\n魏清德\\n李建興\\n杜萬吉\\n黃鷗波\\n林正三   \n",
       " 1        霧峰（臺灣臺中市霧峰區）                 蔡見先\\n賴紹堯\\n傅錫祺\\n林獻堂   \n",
       " 2  竹溪寺（臺灣臺南市南區體育路87號）                                  無   \n",
       " 3                  不詳                                  無   \n",
       " 4          臺南市（臺灣臺南市）                                蔡國琳   \n",
       " \n",
       "                                                   社員  \\\n",
       " 0  洪以南\\n林馨蘭\\n陳宗賦\\n魏清德\\n謝汝銓\\n謝尊五\\n顏笏山\\n黃贊鈞\\n許梓桑\\n黃...   \n",
       " 1  林朝崧\\n賴紹堯\\n林資修\\n蔡見先\\n呂敦禮\\n林資銓\\n陳懷澄\\n陳錫金\\n陳瑚\\n陳貫...   \n",
       " 2  丘逢甲\\n許南英\\n蕭逢源\\n陳望曾\\n陳日翔\\n陳卜五\\n施士洁\\n曾雲峰\\n汪春源\\n王...   \n",
       " 3  連橫\\n李少青\\n胡殿鵬\\n許南英\\n謝維巖\\n趙鍾麒\\n鄒小奇\\n張秋濃\\n陳渭川\\n曾福...   \n",
       " 4                   連橫\\n趙鍾麒\\n謝維巖\\n蔡國琳\\n胡殿鵬\\n陳逢源\\n楊宜綠   \n",
       " \n",
       "                             活動地點  \\\n",
       " 0                      臺北（臺灣臺北市）   \n",
       " 1                             不詳   \n",
       " 2                    竹溪寺（今臺南市南區）   \n",
       " 3                             不詳   \n",
       " 4  開元寺（臺灣臺南市北區北園街89號）\\n固園（臺灣臺南市）   \n",
       " \n",
       "                                                 社團作品  \\\n",
       " 0  《瀛社百五周年紀念專輯》\\n《瀛社題襟集 : 附詩情花意》\\n《瀛社百年紀念集》\\n《瀛社風...   \n",
       " 1                               櫟社第一集\\n櫟社沿革志略\\n櫟社第二集   \n",
       " 2                                                 不詳   \n",
       " 3                                                 不詳   \n",
       " 4                                                 不詳   \n",
       " \n",
       "                                                 創社緣起  \\\n",
       " 0  〈全島詩人大會紬緒〉謝汝銓\\n昭和壬申荷花生日\\n（節錄）…臺島割讓，文人墨客風流雲散，國朝...   \n",
       " 1                                                 不詳   \n",
       " 2                                             崇尚正義之意   \n",
       " 3                                                 不詳   \n",
       " 4                                                 不詳   \n",
       " \n",
       "                                                   沿革  \\\n",
       " 0  日據時代臺灣日日新報社漢文部同人為謀保存國粹並發揚光大遂有籌設瀛社之議，旋於民國前三年己酉花...   \n",
       " 1  〈櫟社三十年間沿革志略序〉\\n櫟社沿革志略傅君鶴亭所著起壬寅訖今茲凡三十年蓋其入社以來所記之...   \n",
       " 2                        許南英於光緒16年（1890）赴北京參加會試劃下句點。   \n",
       " 3                                                 不詳   \n",
       " 4                                                 不詳   \n",
       " \n",
       "                                                 互動詩社  \\\n",
       " 0  桃社\\n竹社\\n瀛東小社\\n星社\\n小鳴吟社\\n櫟社\\n淡社\\n南社\\n天籟吟社\\n萃英吟社...   \n",
       " 1                                                 不詳   \n",
       " 2                                                 不詳   \n",
       " 3                                                 不詳   \n",
       " 4                                                 不詳   \n",
       " \n",
       "                                                 詩社簡介  \\\n",
       " 0  1909年創立於艋舺（今萬華區）。從成立迄1939年間，先後加入過的社員多達二百七十餘位，包...   \n",
       " 1  1902年由林癡仙、賴紹堯等人所創。林幼春〈櫟社二十年間題名碑記〉有云：「櫟社者，吾叔癡仙之...   \n",
       " 2                                                  無   \n",
       " 3                                                  無   \n",
       " 4  1906年由連橫、趙鍾麒、謝石秋等創立於台南。1909年社員漸增，始推舉蔡國琳為社長，社員還...   \n",
       " \n",
       "                                                 資料來源  \n",
       " 0  潘玉蘭，《天籟吟社研究》，國立台灣師範大學國文學系在職進修碩士班碩士論文，2004年，頁69...  \n",
       " 1  林幼春編，《櫟社第一集》，臺中州：博文社，1924年2月。\\n連橫〈臺灣詩社記〉《臺灣詩薈》...  \n",
       " 2  吳毓琪，《臺灣南社研究》，臺南：臺南市立文化中心，1999年6月\\n向麗頻，《施士洁及其文學...  \n",
       " 3  吳毓琪，《臺灣南社研究》，臺南：臺南市立文化中心，1999年6月\\n許丙丁，〈五十年來南社的...  \n",
       " 4  連橫，〈臺灣詩社記〉《臺灣詩薈》第二號，1924年3月，頁98。\\n許丙丁，〈五十年來南社的...  )"
      ]
     },
     "execution_count": 10,
     "metadata": {},
     "output_type": "execute_result"
    }
   ],
   "source": [
    "poemDf = pd.read_excel(read_poemOrgs)\n",
    "poemDf.shape, poemDf.head()"
   ]
  },
  {
   "cell_type": "code",
   "execution_count": 11,
   "metadata": {},
   "outputs": [
    {
     "name": "stdout",
     "output_type": "stream",
     "text": [
      "DUP: 文山吟社\n",
      "DUP: 樹村吟社\n",
      "DUP: 白沙吟社\n",
      "DUP: 香草吟社\n",
      "DUP: 香草吟社\n",
      "DUP: 梅社\n",
      "DUP: 鶯社\n",
      "DUP: 西螺吟社\n",
      "DUP: 岡山吟社\n",
      "DUP: 南雅社\n",
      "DUP: 竹林吟社\n",
      "DUP: 竹風吟社\n",
      "DUP: 青蓮吟社\n",
      "DUP: 柏社\n",
      "DUP: 梅社\n"
     ]
    }
   ],
   "source": [
    "poemDic = {}\n",
    "for idx in range(0, len(poemDf)):\n",
    "    row = poemDf.loc[idx]\n",
    "\n",
    "    poem = str(row['詩社名稱'])\n",
    "    members = str(row['創始人']).split('\\n')\n",
    "    members.extend(str(row['歷任社長']).split('\\n'))\n",
    "    members.extend(str(row['社員']).split('\\n'))\n",
    "    \n",
    "    if poem not in poemDic:\n",
    "        poemDic[poem] = members\n",
    "    else:\n",
    "        print(\"DUP:\", poem)\n",
    "\n",
    "# poemDic"
   ]
  },
  {
   "cell_type": "code",
   "execution_count": 12,
   "metadata": {},
   "outputs": [],
   "source": [
    "for poem in poemDic:\n",
    "    members = poemDic[poem]\n",
    "    \n",
    "    for person in members:\n",
    "        if person == '不詳':\n",
    "            continue\n",
    "\n",
    "        row = [person, \"poem\", poem, 'CulturalOrganization']\n",
    "        if row not in workList:\n",
    "            workList.append(row)\n",
    "#         else:\n",
    "#             print(\"DUP:\", row)\n",
    "            \n",
    "        row = [person, \"poem\", poem, 'UnknownPeriodOrganization']\n",
    "        if row not in workList:\n",
    "            workList.append(row)\n",
    "#         else:\n",
    "#             print(\"DUP:\", row)"
   ]
  },
  {
   "cell_type": "markdown",
   "metadata": {},
   "source": [
    "# Read person-family map table"
   ]
  },
  {
   "cell_type": "code",
   "execution_count": 13,
   "metadata": {},
   "outputs": [],
   "source": [
    "familymembers = 'Familymembers_20190521.xlsx'\n",
    "\n",
    "read_familymembers = '{0}/{1}'.format(filepath, familymembers)"
   ]
  },
  {
   "cell_type": "code",
   "execution_count": 14,
   "metadata": {},
   "outputs": [
    {
     "data": {
      "text/plain": [
       "((4546, 2),   personStr familyStr\n",
       " 0       何佩娟      何傳家系\n",
       " 1       何佩珊      何傳家系\n",
       " 2       何佩珍      何傳家系\n",
       " 3        何傳      何傳家系\n",
       " 4       何培庭      何傳家系)"
      ]
     },
     "execution_count": 14,
     "metadata": {},
     "output_type": "execute_result"
    }
   ],
   "source": [
    "fmDf = pd.read_excel(read_familymembers)\n",
    "fmDf.shape, fmDf.head()"
   ]
  },
  {
   "cell_type": "code",
   "execution_count": 15,
   "metadata": {},
   "outputs": [],
   "source": [
    "fmDic = {}\n",
    "for idx in range(0, len(fmDf)):\n",
    "    row = fmDf.loc[idx]\n",
    "\n",
    "    person = str(row['personStr'])\n",
    "    family = str(row['familyStr'])\n",
    "    \n",
    "    if person not in fmDic:\n",
    "        fmDic[person] = family\n",
    "    elif family != fmDic[person]:\n",
    "        print(\"Dup:\", person, family, fmDic[person])\n",
    "\n",
    "# fmDic"
   ]
  },
  {
   "cell_type": "code",
   "execution_count": 16,
   "metadata": {},
   "outputs": [
    {
     "name": "stdout",
     "output_type": "stream",
     "text": [
      "7346 [['林熊祥', '林維讓家系', '林本源製糖會社', 'PrivateBusiness', 'JapaneseColonialOrganization'], ['林熊祥', '林維讓家系', '林本源製糖會社', 'PrivateBusiness', 'JapaneseColonialOrganization'], ['林熊祥', '林維讓家系', '台灣大有物產株式會社', 'PrivateBusiness', 'JapaneseColonialOrganization'], ['林熊祥', '林維讓家系', '台灣大有物產株式會社', 'PrivateBusiness', 'JapaneseColonialOrganization'], ['林熊祥', '林維讓家系', '台北商事株式會社', 'PrivateBusiness', 'JapaneseColonialOrganization']]\n"
     ]
    }
   ],
   "source": [
    "def getPeriod(INperson, INorg):\n",
    "    for row in workList:\n",
    "        person = row[0]\n",
    "#         family = row[1]\n",
    "        org = row[2]\n",
    "        orgO = row[3]\n",
    "\n",
    "        if person == INperson and org == INorg:\n",
    "            if orgO in Division_Period:\n",
    "                return orgO\n",
    "    return ''\n",
    "\n",
    "def getSocietal(INperson, INorg):\n",
    "    for row in workList:\n",
    "        person = row[0]\n",
    "#         family = row[1]\n",
    "        org = row[2]\n",
    "        orgO = row[3]\n",
    "\n",
    "        if person == INperson and org == INorg:\n",
    "            if orgO in SocietalSector:\n",
    "                return orgO\n",
    "    return ''\n",
    "\n",
    "def getFamilyName(INperson):\n",
    "    if INperson not in fmDic:\n",
    "#         print(INperson, \" Not found!\")\n",
    "        return ''\n",
    "    return fmDic[INperson]\n",
    "\n",
    "resList = []\n",
    "for row in workList:\n",
    "    person = row[0]\n",
    "#     family = row[1]\n",
    "    org = row[2]\n",
    "    \n",
    "    period = getPeriod(person, org)\n",
    "    if period == '':\n",
    "        continue\n",
    "        \n",
    "    societal = getSocietal(person, org)\n",
    "    if societal == '':\n",
    "        continue\n",
    "\n",
    "    familyName = getFamilyName(person)\n",
    "    if familyName == '':\n",
    "        continue\n",
    "        \n",
    "    resList.append([person, familyName, org, societal, period])\n",
    "    \n",
    "print(len(resList), resList[0:5])"
   ]
  },
  {
   "cell_type": "code",
   "execution_count": 17,
   "metadata": {},
   "outputs": [
    {
     "data": {
      "text/html": [
       "<div>\n",
       "<style scoped>\n",
       "    .dataframe tbody tr th:only-of-type {\n",
       "        vertical-align: middle;\n",
       "    }\n",
       "\n",
       "    .dataframe tbody tr th {\n",
       "        vertical-align: top;\n",
       "    }\n",
       "\n",
       "    .dataframe thead th {\n",
       "        text-align: right;\n",
       "    }\n",
       "</style>\n",
       "<table border=\"1\" class=\"dataframe\">\n",
       "  <thead>\n",
       "    <tr style=\"text-align: right;\">\n",
       "      <th></th>\n",
       "      <th>Person</th>\n",
       "      <th>FamilyName</th>\n",
       "      <th>Organization</th>\n",
       "      <th>SocietalSector</th>\n",
       "      <th>OrganizationPeriod</th>\n",
       "    </tr>\n",
       "  </thead>\n",
       "  <tbody>\n",
       "    <tr>\n",
       "      <th>3813</th>\n",
       "      <td>何傳</td>\n",
       "      <td>何傳家系</td>\n",
       "      <td>高雄市</td>\n",
       "      <td>PublicAdministration</td>\n",
       "      <td>BothPeriods</td>\n",
       "    </tr>\n",
       "    <tr>\n",
       "      <th>3815</th>\n",
       "      <td>何傳</td>\n",
       "      <td>何傳家系</td>\n",
       "      <td>高雄州</td>\n",
       "      <td>PublicAdministration</td>\n",
       "      <td>JapaneseColonialOrganization</td>\n",
       "    </tr>\n",
       "    <tr>\n",
       "      <th>3817</th>\n",
       "      <td>何傳</td>\n",
       "      <td>何傳家系</td>\n",
       "      <td>民報商事社</td>\n",
       "      <td>PrivateBusiness</td>\n",
       "      <td>JapaneseColonialOrganization</td>\n",
       "    </tr>\n",
       "    <tr>\n",
       "      <th>3819</th>\n",
       "      <td>何傳</td>\n",
       "      <td>何傳家系</td>\n",
       "      <td>台灣木工株式會社</td>\n",
       "      <td>PrivateBusiness</td>\n",
       "      <td>JapaneseColonialOrganization</td>\n",
       "    </tr>\n",
       "    <tr>\n",
       "      <th>3821</th>\n",
       "      <td>何傳</td>\n",
       "      <td>何傳家系</td>\n",
       "      <td>永豐商店理事會</td>\n",
       "      <td>PrivateBusiness</td>\n",
       "      <td>JapaneseColonialOrganization</td>\n",
       "    </tr>\n",
       "  </tbody>\n",
       "</table>\n",
       "</div>"
      ],
      "text/plain": [
       "     Person FamilyName Organization        SocietalSector  \\\n",
       "3813     何傳       何傳家系          高雄市  PublicAdministration   \n",
       "3815     何傳       何傳家系          高雄州  PublicAdministration   \n",
       "3817     何傳       何傳家系        民報商事社       PrivateBusiness   \n",
       "3819     何傳       何傳家系     台灣木工株式會社       PrivateBusiness   \n",
       "3821     何傳       何傳家系      永豐商店理事會       PrivateBusiness   \n",
       "\n",
       "                OrganizationPeriod  \n",
       "3813                   BothPeriods  \n",
       "3815  JapaneseColonialOrganization  \n",
       "3817  JapaneseColonialOrganization  \n",
       "3819  JapaneseColonialOrganization  \n",
       "3821  JapaneseColonialOrganization  "
      ]
     },
     "execution_count": 17,
     "metadata": {},
     "output_type": "execute_result"
    }
   ],
   "source": [
    "orgDf = pd.DataFrame(resList, columns=['Person', 'FamilyName', 'Organization', 'SocietalSector', 'OrganizationPeriod'])\n",
    "orgDf.drop_duplicates(keep='first', inplace=True)\n",
    "orgDf.sort_values(by=['FamilyName', 'Person'], inplace=True)\n",
    "orgDf.head()"
   ]
  },
  {
   "cell_type": "code",
   "execution_count": 18,
   "metadata": {},
   "outputs": [],
   "source": [
    "write_file_to = '{0}/{1}'.format(filepath, 'personFamilyOrgPeriod_20190521_v4.xlsx')\n",
    "orgDf.to_excel(write_file_to, index=False)"
   ]
  },
  {
   "cell_type": "code",
   "execution_count": null,
   "metadata": {},
   "outputs": [],
   "source": []
  }
 ],
 "metadata": {
  "kernelspec": {
   "display_name": "Python 3",
   "language": "python",
   "name": "python3"
  },
  "language_info": {
   "codemirror_mode": {
    "name": "ipython",
    "version": 3
   },
   "file_extension": ".py",
   "mimetype": "text/x-python",
   "name": "python",
   "nbconvert_exporter": "python",
   "pygments_lexer": "ipython3",
   "version": "3.7.0"
  }
 },
 "nbformat": 4,
 "nbformat_minor": 2
}
