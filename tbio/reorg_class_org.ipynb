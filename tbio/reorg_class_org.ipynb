{
 "cells": [
  {
   "cell_type": "code",
   "execution_count": 1,
   "metadata": {},
   "outputs": [],
   "source": [
    "import pandas as pd"
   ]
  },
  {
   "cell_type": "code",
   "execution_count": 2,
   "metadata": {},
   "outputs": [],
   "source": [
    "filename = 'query_all_org_class_results.xlsx'\n",
    "outfile = 'output_class_to_orgs_20190429_v7.xlsx'\n",
    "\n",
    "filepath = '/Volumes/backup_128G/z_repository/TBIO_data/RequestsFromTana/all_org_classes'\n",
    "read_file_from = '{0}/{1}'.format(filepath, filename)\n",
    "write_file_to = '{0}/{1}'.format(filepath, outfile)"
   ]
  },
  {
   "cell_type": "code",
   "execution_count": 3,
   "metadata": {},
   "outputs": [
    {
     "data": {
      "text/html": [
       "<div>\n",
       "<style scoped>\n",
       "    .dataframe tbody tr th:only-of-type {\n",
       "        vertical-align: middle;\n",
       "    }\n",
       "\n",
       "    .dataframe tbody tr th {\n",
       "        vertical-align: top;\n",
       "    }\n",
       "\n",
       "    .dataframe thead th {\n",
       "        text-align: right;\n",
       "    }\n",
       "</style>\n",
       "<table border=\"1\" class=\"dataframe\">\n",
       "  <thead>\n",
       "    <tr style=\"text-align: right;\">\n",
       "      <th></th>\n",
       "      <th>graph</th>\n",
       "      <th>orgName</th>\n",
       "      <th>class</th>\n",
       "      <th>Unnamed: 3</th>\n",
       "      <th>Unnamed: 4</th>\n",
       "      <th>Unnamed: 5</th>\n",
       "      <th>Unnamed: 6</th>\n",
       "      <th>Unnamed: 7</th>\n",
       "      <th>Unnamed: 8</th>\n",
       "      <th>Unnamed: 9</th>\n",
       "      <th>Unnamed: 10</th>\n",
       "    </tr>\n",
       "  </thead>\n",
       "  <tbody>\n",
       "    <tr>\n",
       "      <th>0</th>\n",
       "      <td>chrj_pr</td>\n",
       "      <td>Organization</td>\n",
       "      <td>大興紡織</td>\n",
       "      <td>0</td>\n",
       "      <td>0</td>\n",
       "      <td>0</td>\n",
       "      <td>0</td>\n",
       "      <td>0</td>\n",
       "      <td>0</td>\n",
       "      <td>0</td>\n",
       "      <td>0</td>\n",
       "    </tr>\n",
       "    <tr>\n",
       "      <th>1</th>\n",
       "      <td>chrj_pr</td>\n",
       "      <td>Organization</td>\n",
       "      <td>裕華紡織廠</td>\n",
       "      <td>0</td>\n",
       "      <td>0</td>\n",
       "      <td>0</td>\n",
       "      <td>0</td>\n",
       "      <td>0</td>\n",
       "      <td>0</td>\n",
       "      <td>0</td>\n",
       "      <td>0</td>\n",
       "    </tr>\n",
       "    <tr>\n",
       "      <th>2</th>\n",
       "      <td>chrj_pr</td>\n",
       "      <td>Organization</td>\n",
       "      <td>大華紡織廠</td>\n",
       "      <td>0</td>\n",
       "      <td>0</td>\n",
       "      <td>0</td>\n",
       "      <td>0</td>\n",
       "      <td>0</td>\n",
       "      <td>0</td>\n",
       "      <td>0</td>\n",
       "      <td>0</td>\n",
       "    </tr>\n",
       "    <tr>\n",
       "      <th>3</th>\n",
       "      <td>chrj_pr</td>\n",
       "      <td>Organization</td>\n",
       "      <td>五月</td>\n",
       "      <td>0</td>\n",
       "      <td>0</td>\n",
       "      <td>0</td>\n",
       "      <td>0</td>\n",
       "      <td>0</td>\n",
       "      <td>0</td>\n",
       "      <td>0</td>\n",
       "      <td>0</td>\n",
       "    </tr>\n",
       "    <tr>\n",
       "      <th>4</th>\n",
       "      <td>chrj_pr</td>\n",
       "      <td>EducationalOrganization</td>\n",
       "      <td>京都大學紡織</td>\n",
       "      <td>0</td>\n",
       "      <td>0</td>\n",
       "      <td>0</td>\n",
       "      <td>0</td>\n",
       "      <td>0</td>\n",
       "      <td>0</td>\n",
       "      <td>0</td>\n",
       "      <td>0</td>\n",
       "    </tr>\n",
       "  </tbody>\n",
       "</table>\n",
       "</div>"
      ],
      "text/plain": [
       "     graph                  orgName   class Unnamed: 3 Unnamed: 4 Unnamed: 5  \\\n",
       "0  chrj_pr             Organization    大興紡織          0          0          0   \n",
       "1  chrj_pr             Organization   裕華紡織廠          0          0          0   \n",
       "2  chrj_pr             Organization   大華紡織廠          0          0          0   \n",
       "3  chrj_pr             Organization      五月          0          0          0   \n",
       "4  chrj_pr  EducationalOrganization  京都大學紡織          0          0          0   \n",
       "\n",
       "  Unnamed: 6 Unnamed: 7 Unnamed: 8 Unnamed: 9 Unnamed: 10  \n",
       "0          0          0          0          0           0  \n",
       "1          0          0          0          0           0  \n",
       "2          0          0          0          0           0  \n",
       "3          0          0          0          0           0  \n",
       "4          0          0          0          0           0  "
      ]
     },
     "execution_count": 3,
     "metadata": {},
     "output_type": "execute_result"
    }
   ],
   "source": [
    "df = pd.read_excel(read_file_from)\n",
    "df = df.fillna(0)\n",
    "df.head()"
   ]
  },
  {
   "cell_type": "code",
   "execution_count": 4,
   "metadata": {},
   "outputs": [
    {
     "name": "stdout",
     "output_type": "stream",
     "text": [
      "graph          35556\n",
      "orgName        35556\n",
      "class          35556\n",
      "Unnamed: 3     35556\n",
      "Unnamed: 4     35556\n",
      "Unnamed: 5     35556\n",
      "Unnamed: 6     35556\n",
      "Unnamed: 7     35556\n",
      "Unnamed: 8     35556\n",
      "Unnamed: 9     35556\n",
      "Unnamed: 10    35556\n",
      "dtype: int64\n",
      "max count = 35556\n"
     ]
    }
   ],
   "source": [
    "print(df.count())\n",
    "count = max(df.count())\n",
    "print('max count = {0}'.format(count))"
   ]
  },
  {
   "cell_type": "code",
   "execution_count": 5,
   "metadata": {},
   "outputs": [
    {
     "name": "stdout",
     "output_type": "stream",
     "text": [
      "orgName\n",
      "Organization                                 8597\n",
      "PrivateOrganization                          7834\n",
      "OrganizationUnit                             4773\n",
      "PublicOrganization                           3759\n",
      "StateOrganization                            3753\n",
      "ElectedOrganization                          1436\n",
      "FinancialOrganization                        1175\n",
      "AdministrativeOrganization                    904\n",
      "HealthOrganization                            683\n",
      "AgriculturalOrganization                      634\n",
      "EducationalOrganization                       435\n",
      "ProvincialOrganization                        286\n",
      "MonopolyOrganization                          254\n",
      "EarlyPostWarOrganization                      207\n",
      "Trade_FinancialOrganization                   168\n",
      "ProfessionalOrganization                      154\n",
      "ReligiousOrganization                          87\n",
      "CommunityOrganization                          68\n",
      "ForestryOrganization                           65\n",
      "PartyOrganization                              53\n",
      "LandSurveyCommitteeStateOrganization           50\n",
      "LocalOrganization                              42\n",
      "LiteraryOrganization                           26\n",
      "ResearchOrganization                           19\n",
      "EntertainmentOrganization                      19\n",
      "WomenOrganization                              17\n",
      "MunicipalOrganization                          16\n",
      "JapaneseColonialOrganization                   15\n",
      "ElectedOrganization+OrganizationUnit            6\n",
      "RepublicanOrganization                          5\n",
      "JudicialOrganization                            4\n",
      "CentralOrganization                             3\n",
      "AppointedOrganization                           2\n",
      "LocalEducationOrganization                      2\n",
      "EducationalOrganization+StateOrganization       1\n",
      "OrganizationUni                                 1\n",
      "Council+PrivateOrganization                     1\n",
      "StateOrganization-Industry                      1\n",
      "StateOrganizationCompany                        1\n",
      "Name: graph, dtype: int64\n"
     ]
    }
   ],
   "source": [
    "count = df.groupby(['orgName']).count()['graph']\n",
    "\n",
    "count = count.sort_values(ascending=False)\n",
    "print(count)\n",
    "\n",
    "maxCount = max(count)"
   ]
  },
  {
   "cell_type": "code",
   "execution_count": 6,
   "metadata": {},
   "outputs": [
    {
     "data": {
      "text/plain": [
       "[{'graph': 'chrj_pr', 'org': 'Organization', 'class': '大興紡織', 'comments': ''},\n",
       " {'graph': 'chrj_pr', 'org': 'Organization', 'class': '裕華紡織廠', 'comments': ''},\n",
       " {'graph': 'chrj_pr', 'org': 'Organization', 'class': '大華紡織廠', 'comments': ''},\n",
       " {'graph': 'chrj_pr', 'org': 'Organization', 'class': '五月', 'comments': ''},\n",
       " {'graph': 'chrj_pr',\n",
       "  'org': 'EducationalOrganization',\n",
       "  'class': '京都大學紡織',\n",
       "  'comments': ''}]"
      ]
     },
     "execution_count": 6,
     "metadata": {},
     "output_type": "execute_result"
    }
   ],
   "source": [
    "results = []\n",
    "\n",
    "for idx in range(0, maxCount):\n",
    "    row = df.loc[idx]\n",
    "#     print(row)\n",
    "    graph = row['graph']\n",
    "    orgName = row['orgName']\n",
    "    className = row['class']\n",
    "    \n",
    "    comments = ''\n",
    "    for cidx in range(3, len(row)):\n",
    "        if row[cidx] != 0:\n",
    "            comments += '{0};'.format(row[cidx])\n",
    "    \n",
    "    result = {'graph': graph, 'org': orgName, 'class': className, 'comments': comments}\n",
    "    results.append(result)\n",
    "    \n",
    "#     print(graph, orgName, className, comments)\n",
    "results[0:5]"
   ]
  },
  {
   "cell_type": "code",
   "execution_count": 7,
   "metadata": {
    "scrolled": false
   },
   "outputs": [],
   "source": [
    "classResults = {}\n",
    "\n",
    "for res in results:\n",
    "    className = res['class']\n",
    "    graph = res['graph']\n",
    "    orgName = res['org']\n",
    "    comments = res['comments']\n",
    "\n",
    "    if className not in classResults:\n",
    "        classResults[className] = {'orgGra': {}, 'comments': ''}\n",
    "        \n",
    "    orgGraph = classResults[className]['orgGra']\n",
    "    if orgName not in orgGraph:\n",
    "        orgGraph[orgName] = []\n",
    "    \n",
    "    if graph not in orgGraph[orgName]:\n",
    "        orgGraph[orgName].append(graph)\n",
    "#     print(className, orgName, graph, comments)\n",
    "    \n",
    "    classResults[className] = {'orgGra': orgGraph, 'comments': comments}\n",
    "#     if comments != '':\n",
    "#         print(classResults[className])\n",
    "\n",
    "# {'orgGra': {'PrivateOrganization': ['yjc']}, 'comments': '栽培南洋種鳳梨;鳳梨罐頭銷遍全島;'}\n",
    "# for org, orgGraph in classResults.items():\n",
    "#     if orgGraph['comments'] != '':\n",
    "#         print(org, orgGraph)\n",
    "\n",
    "# classResults"
   ]
  },
  {
   "cell_type": "code",
   "execution_count": 8,
   "metadata": {},
   "outputs": [],
   "source": [
    "def mapFunc(orgName, defaultVal, mapTable):\n",
    "    res = defaultVal;\n",
    "    for tKey in mapTable:\n",
    "        for tVale in mapTable[tKey]:\n",
    "            if tVale in orgName:\n",
    "                return tKey\n",
    "\n",
    "    return res"
   ]
  },
  {
   "cell_type": "markdown",
   "metadata": {},
   "source": [
    "## Ownership mapping table"
   ]
  },
  {
   "cell_type": "code",
   "execution_count": 9,
   "metadata": {},
   "outputs": [],
   "source": [
    "# Ownership mapping table\n",
    "OwnershipMapping = {\n",
    "    'PrivateOrganization': ['PrivateOrganization'], \n",
    "    'StateOrganization': ['StateOrganization'],\n",
    "    'PublicOrganization': ['PublicOrganization']\n",
    "}\n",
    "UnknownOwnership = 'UnknownOwnership';"
   ]
  },
  {
   "cell_type": "markdown",
   "metadata": {},
   "source": [
    "## ModeOfEntry mapping table"
   ]
  },
  {
   "cell_type": "code",
   "execution_count": 10,
   "metadata": {},
   "outputs": [],
   "source": [
    "# ModeOfEntry mapping table\n",
    "ModeOfEntryMapping = {\n",
    "    'Appointed': ['總督府','街','庄','州','公學校','利組合','組合'], \n",
    "    'Elected': ['協議會']\n",
    "}\n",
    "UnknownModeOfEntry = 'UnknownModeOfEntry';"
   ]
  },
  {
   "cell_type": "markdown",
   "metadata": {},
   "source": [
    "## Period mapping table"
   ]
  },
  {
   "cell_type": "code",
   "execution_count": 11,
   "metadata": {},
   "outputs": [],
   "source": [
    "## Period mapping table\n",
    "# 總督府，街，庄，信託會社，州，公學校，株式會，株式会社，利組合，組合，國語講習所\n",
    "PeriodMapping = {\n",
    "    'JapaneseColonialOrganization': ['總督府','街','庄','信託會社','州','公學校',\n",
    "                                     '株式會','株式会社','利組合','組合','國語講習所'],\n",
    "    'EarlyPostWarOrganization': ['縣議會','台灣省','台灣長官公署'],\n",
    "    'RepublicanOrganization': [],\n",
    "}\n",
    "UnknownPeriod = 'UnknownPeriodOrganization';"
   ]
  },
  {
   "cell_type": "markdown",
   "metadata": {},
   "source": [
    "## LevelOfOperation mapping table"
   ]
  },
  {
   "cell_type": "code",
   "execution_count": 12,
   "metadata": {},
   "outputs": [],
   "source": [
    "## LevelOfOperation mapping table\n",
    "LevelOfOperationMapping = {\n",
    "    'CentralOrganization': [],\n",
    "    'LocalOrganization': ['庄','街','區','州','市','縣'],\n",
    "    'ProvincialOrganization': ['省','廳']\n",
    "}\n",
    "UnknownLevelOfOperation = 'UnknwownLevelOfOperation';"
   ]
  },
  {
   "cell_type": "markdown",
   "metadata": {},
   "source": [
    "## Function mapping table"
   ]
  },
  {
   "cell_type": "code",
   "execution_count": 13,
   "metadata": {},
   "outputs": [],
   "source": [
    "## Function mapping table\n",
    "func_filename = 'query_org_divisionContent_results.csv'\n",
    "func_file_from = '{0}/{1}'.format(filepath, func_filename)\n",
    "\n",
    "funcDf = pd.read_csv(func_file_from)\n",
    "funcDf.head()\n",
    "\n",
    "def mapOrgToFunction(orgName, defaultVal):\n",
    "#     print(orgName)\n",
    "    row = funcDf.loc[funcDf['sName'] == orgName]\n",
    "    if row.empty:\n",
    "        division = [defaultVal]\n",
    "    else:\n",
    "        division = row['orgName'].tolist()\n",
    "\n",
    "    return division\n",
    "\n",
    "UnknownFunction = 'UnknwownFunction';\n",
    "# print(mapOrgToFunction('壯圍庄古亭笨第十五保第七保保甲', UnknownFunction))\n",
    "# print(mapOrgToFunction('高雄州農會', UnknownFunction))\n",
    "# print(mapOrgToFunction('在魚池庄經營製茶業', UnknownFunction))\n",
    "# print(mapOrgToFunction('xxxxx', UnknownFunction))\n",
    "\n",
    "# for idx in range(0, len(funcDf.index)):\n",
    "# # for idx in range(16,23):\n",
    "# #     print(funcDf.loc[idx, 'sName'])\n",
    "#     print(mapOrgToFunction(funcDf.loc[idx, 'sName'], UnknownFunction))\n"
   ]
  },
  {
   "cell_type": "markdown",
   "metadata": {},
   "source": [
    "## Main generation"
   ]
  },
  {
   "cell_type": "code",
   "execution_count": 14,
   "metadata": {},
   "outputs": [
    {
     "data": {
      "text/plain": [
       "[['大興紡織',\n",
       "  'UnknownOwnership',\n",
       "  'UnknownModeOfEntry',\n",
       "  'UnknownPeriodOrganization',\n",
       "  'UnknwownLevelOfOperation',\n",
       "  'UnknwownFunction',\n",
       "  ''],\n",
       " ['裕華紡織廠',\n",
       "  'UnknownOwnership',\n",
       "  'UnknownModeOfEntry',\n",
       "  'UnknownPeriodOrganization',\n",
       "  'UnknwownLevelOfOperation',\n",
       "  'UnknwownFunction',\n",
       "  ''],\n",
       " ['大華紡織廠',\n",
       "  'UnknownOwnership',\n",
       "  'UnknownModeOfEntry',\n",
       "  'UnknownPeriodOrganization',\n",
       "  'UnknwownLevelOfOperation',\n",
       "  'UnknwownFunction',\n",
       "  ''],\n",
       " ['五月',\n",
       "  'UnknownOwnership',\n",
       "  'UnknownModeOfEntry',\n",
       "  'UnknownPeriodOrganization',\n",
       "  'UnknwownLevelOfOperation',\n",
       "  'UnknwownFunction',\n",
       "  ''],\n",
       " ['京都大學紡織',\n",
       "  'UnknownOwnership',\n",
       "  'UnknownModeOfEntry',\n",
       "  'UnknownPeriodOrganization',\n",
       "  'UnknwownLevelOfOperation',\n",
       "  'UnknwownFunction',\n",
       "  '']]"
      ]
     },
     "execution_count": 14,
     "metadata": {},
     "output_type": "execute_result"
    }
   ],
   "source": [
    "orgList = []\n",
    "for className, orgGraph in classResults.items():\n",
    "    strClassName = str(className)\n",
    "    for org in orgGraph['orgGra']:\n",
    "        orgArr = []\n",
    "#         graphs = ';'.join(orgGraph['orgGra'][org])\n",
    "        \n",
    "#         orgStr = '{0}/({1})'.format(org, graphs)\n",
    "#         orgArr.append(orgStr)\n",
    "        # Organization\n",
    "        orgArr.append(strClassName)\n",
    "        \n",
    "        # Ownership\n",
    "        orgArr.append(mapFunc(org, UnknownOwnership, OwnershipMapping))\n",
    "        \n",
    "        # ModeOfEntry\n",
    "        orgArr.append(mapFunc(strClassName, UnknownModeOfEntry, ModeOfEntryMapping))\n",
    "    \n",
    "        # Period\n",
    "        orgArr.append(mapFunc(strClassName, UnknownPeriod, PeriodMapping))\n",
    "        \n",
    "        # LevelOfOperation\n",
    "        orgArr.append(mapFunc(strClassName, UnknownLevelOfOperation, LevelOfOperationMapping))\n",
    "        \n",
    "        # Function\n",
    "        funcArray = mapOrgToFunction(strClassName, UnknownFunction)\n",
    "#         orgArr.append(mapOrgToFunction(strClassName, UnknownFunction))\n",
    "\n",
    "        # comments\n",
    "        comments = orgGraph['comments']\n",
    "        \n",
    "        for funcName in funcArray:\n",
    "            finalOrg = []\n",
    "            finalOrg = orgArr.copy()\n",
    "            finalOrg.append(funcName)\n",
    "            finalOrg.append(comments)\n",
    "            \n",
    "#             if strClassName == '在魚池庄經營製茶業':\n",
    "#                 print(orgArr)\n",
    "#                 print(finalOrg)\n",
    "            if finalOrg not in orgList:\n",
    "                orgList.append(finalOrg)\n",
    "    \n",
    "orgList[0:5]\n",
    "#         if len(orgGraph['orgGra'][org]) > 1:\n",
    "# #             print(className, orgGraph)\n",
    "#             print(className, org, graphs)\n",
    "#         print(org, graphs)\n",
    "#     if orgGraph['comments'] != '':\n",
    "#         print(org, orgGraph)"
   ]
  },
  {
   "cell_type": "code",
   "execution_count": 15,
   "metadata": {},
   "outputs": [
    {
     "name": "stdout",
     "output_type": "stream",
     "text": [
      "7\n"
     ]
    },
    {
     "data": {
      "text/plain": [
       "['Organization',\n",
       " 'Ownership',\n",
       " 'ModeOfEntry',\n",
       " 'Period',\n",
       " 'LevelOfOperation',\n",
       " 'Function',\n",
       " 'comments']"
      ]
     },
     "execution_count": 15,
     "metadata": {},
     "output_type": "execute_result"
    }
   ],
   "source": [
    "def getMaxLen(orgList):\n",
    "    maxEleLen = 0\n",
    "    for org in orgList:\n",
    "        orgLen = len(org)\n",
    "        if maxEleLen < orgLen:\n",
    "            maxEleLen = orgLen\n",
    "    return maxEleLen\n",
    "\n",
    "print(getMaxLen(orgList))\n",
    "columns = ['Organization','Ownership','ModeOfEntry','Period','LevelOfOperation','Function','comments']    \n",
    "columns"
   ]
  },
  {
   "cell_type": "code",
   "execution_count": 16,
   "metadata": {},
   "outputs": [
    {
     "data": {
      "text/html": [
       "<div>\n",
       "<style scoped>\n",
       "    .dataframe tbody tr th:only-of-type {\n",
       "        vertical-align: middle;\n",
       "    }\n",
       "\n",
       "    .dataframe tbody tr th {\n",
       "        vertical-align: top;\n",
       "    }\n",
       "\n",
       "    .dataframe thead th {\n",
       "        text-align: right;\n",
       "    }\n",
       "</style>\n",
       "<table border=\"1\" class=\"dataframe\">\n",
       "  <thead>\n",
       "    <tr style=\"text-align: right;\">\n",
       "      <th></th>\n",
       "      <th>Organization</th>\n",
       "      <th>Ownership</th>\n",
       "      <th>ModeOfEntry</th>\n",
       "      <th>Period</th>\n",
       "      <th>LevelOfOperation</th>\n",
       "      <th>Function</th>\n",
       "      <th>comments</th>\n",
       "    </tr>\n",
       "  </thead>\n",
       "  <tbody>\n",
       "    <tr>\n",
       "      <th>0</th>\n",
       "      <td>大興紡織</td>\n",
       "      <td>UnknownOwnership</td>\n",
       "      <td>UnknownModeOfEntry</td>\n",
       "      <td>UnknownPeriodOrganization</td>\n",
       "      <td>UnknwownLevelOfOperation</td>\n",
       "      <td>UnknwownFunction</td>\n",
       "      <td></td>\n",
       "    </tr>\n",
       "    <tr>\n",
       "      <th>1</th>\n",
       "      <td>裕華紡織廠</td>\n",
       "      <td>UnknownOwnership</td>\n",
       "      <td>UnknownModeOfEntry</td>\n",
       "      <td>UnknownPeriodOrganization</td>\n",
       "      <td>UnknwownLevelOfOperation</td>\n",
       "      <td>UnknwownFunction</td>\n",
       "      <td></td>\n",
       "    </tr>\n",
       "    <tr>\n",
       "      <th>2</th>\n",
       "      <td>大華紡織廠</td>\n",
       "      <td>UnknownOwnership</td>\n",
       "      <td>UnknownModeOfEntry</td>\n",
       "      <td>UnknownPeriodOrganization</td>\n",
       "      <td>UnknwownLevelOfOperation</td>\n",
       "      <td>UnknwownFunction</td>\n",
       "      <td></td>\n",
       "    </tr>\n",
       "    <tr>\n",
       "      <th>3</th>\n",
       "      <td>五月</td>\n",
       "      <td>UnknownOwnership</td>\n",
       "      <td>UnknownModeOfEntry</td>\n",
       "      <td>UnknownPeriodOrganization</td>\n",
       "      <td>UnknwownLevelOfOperation</td>\n",
       "      <td>UnknwownFunction</td>\n",
       "      <td></td>\n",
       "    </tr>\n",
       "    <tr>\n",
       "      <th>4</th>\n",
       "      <td>京都大學紡織</td>\n",
       "      <td>UnknownOwnership</td>\n",
       "      <td>UnknownModeOfEntry</td>\n",
       "      <td>UnknownPeriodOrganization</td>\n",
       "      <td>UnknwownLevelOfOperation</td>\n",
       "      <td>UnknwownFunction</td>\n",
       "      <td></td>\n",
       "    </tr>\n",
       "  </tbody>\n",
       "</table>\n",
       "</div>"
      ],
      "text/plain": [
       "  Organization         Ownership         ModeOfEntry  \\\n",
       "0         大興紡織  UnknownOwnership  UnknownModeOfEntry   \n",
       "1        裕華紡織廠  UnknownOwnership  UnknownModeOfEntry   \n",
       "2        大華紡織廠  UnknownOwnership  UnknownModeOfEntry   \n",
       "3           五月  UnknownOwnership  UnknownModeOfEntry   \n",
       "4       京都大學紡織  UnknownOwnership  UnknownModeOfEntry   \n",
       "\n",
       "                      Period          LevelOfOperation          Function  \\\n",
       "0  UnknownPeriodOrganization  UnknwownLevelOfOperation  UnknwownFunction   \n",
       "1  UnknownPeriodOrganization  UnknwownLevelOfOperation  UnknwownFunction   \n",
       "2  UnknownPeriodOrganization  UnknwownLevelOfOperation  UnknwownFunction   \n",
       "3  UnknownPeriodOrganization  UnknwownLevelOfOperation  UnknwownFunction   \n",
       "4  UnknownPeriodOrganization  UnknwownLevelOfOperation  UnknwownFunction   \n",
       "\n",
       "  comments  \n",
       "0           \n",
       "1           \n",
       "2           \n",
       "3           \n",
       "4           "
      ]
     },
     "execution_count": 16,
     "metadata": {},
     "output_type": "execute_result"
    }
   ],
   "source": [
    "orgDf = pd.DataFrame(orgList, columns=columns)\n",
    "# orgDf = orgDf.fillna('')\n",
    "orgDf.head()"
   ]
  },
  {
   "cell_type": "code",
   "execution_count": 17,
   "metadata": {},
   "outputs": [],
   "source": [
    "orgDf.to_excel(write_file_to)"
   ]
  },
  {
   "cell_type": "code",
   "execution_count": null,
   "metadata": {},
   "outputs": [],
   "source": []
  }
 ],
 "metadata": {
  "kernelspec": {
   "display_name": "Python 3",
   "language": "python",
   "name": "python3"
  },
  "language_info": {
   "codemirror_mode": {
    "name": "ipython",
    "version": 3
   },
   "file_extension": ".py",
   "mimetype": "text/x-python",
   "name": "python",
   "nbconvert_exporter": "python",
   "pygments_lexer": "ipython3",
   "version": "3.7.0"
  }
 },
 "nbformat": 4,
 "nbformat_minor": 2
}
