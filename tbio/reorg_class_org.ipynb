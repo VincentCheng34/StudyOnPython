{
 "cells": [
  {
   "cell_type": "code",
   "execution_count": 1,
   "metadata": {},
   "outputs": [],
   "source": [
    "import pandas as pd"
   ]
  },
  {
   "cell_type": "code",
   "execution_count": 2,
   "metadata": {},
   "outputs": [],
   "source": [
    "filename = 'query_all_org_class_results2.xlsx'\n",
    "outfile = 'output_class_to_orgs_20190501_v10.xlsx'\n",
    "\n",
    "filepath = '/Volumes/backup_128G/z_repository/TBIO_data/RequestsFromTana/all_org_classes'\n",
    "read_file_from = '{0}/{1}'.format(filepath, filename)\n",
    "write_file_to = '{0}/{1}'.format(filepath, outfile)"
   ]
  },
  {
   "cell_type": "code",
   "execution_count": 3,
   "metadata": {},
   "outputs": [
    {
     "data": {
      "text/html": [
       "<div>\n",
       "<style scoped>\n",
       "    .dataframe tbody tr th:only-of-type {\n",
       "        vertical-align: middle;\n",
       "    }\n",
       "\n",
       "    .dataframe tbody tr th {\n",
       "        vertical-align: top;\n",
       "    }\n",
       "\n",
       "    .dataframe thead th {\n",
       "        text-align: right;\n",
       "    }\n",
       "</style>\n",
       "<table border=\"1\" class=\"dataframe\">\n",
       "  <thead>\n",
       "    <tr style=\"text-align: right;\">\n",
       "      <th></th>\n",
       "      <th>graph</th>\n",
       "      <th>orgName</th>\n",
       "      <th>class</th>\n",
       "    </tr>\n",
       "  </thead>\n",
       "  <tbody>\n",
       "    <tr>\n",
       "      <th>0</th>\n",
       "      <td>yjc</td>\n",
       "      <td>Organization</td>\n",
       "      <td>0</td>\n",
       "    </tr>\n",
       "    <tr>\n",
       "      <th>1</th>\n",
       "      <td>yjc</td>\n",
       "      <td>PrivateOrganization</td>\n",
       "      <td>(公司設在竹東郡蕃地油羅山由台北海山郡及文山部的三井製材所提供原料),製</td>\n",
       "    </tr>\n",
       "    <tr>\n",
       "      <th>2</th>\n",
       "      <td>yjc</td>\n",
       "      <td>Organization</td>\n",
       "      <td>(公司設在竹東郡蕃地油羅山由台北海山郡及文山部的三井製材所提供原料),製</td>\n",
       "    </tr>\n",
       "    <tr>\n",
       "      <th>3</th>\n",
       "      <td>yjc</td>\n",
       "      <td>Organization</td>\n",
       "      <td>)</td>\n",
       "    </tr>\n",
       "    <tr>\n",
       "      <th>4</th>\n",
       "      <td>yjc</td>\n",
       "      <td>Organization</td>\n",
       "      <td>+_後在嘉義設立分店</td>\n",
       "    </tr>\n",
       "  </tbody>\n",
       "</table>\n",
       "</div>"
      ],
      "text/plain": [
       "  graph              orgName                                 class\n",
       "0   yjc         Organization                                     0\n",
       "1   yjc  PrivateOrganization  (公司設在竹東郡蕃地油羅山由台北海山郡及文山部的三井製材所提供原料),製\n",
       "2   yjc         Organization  (公司設在竹東郡蕃地油羅山由台北海山郡及文山部的三井製材所提供原料),製\n",
       "3   yjc         Organization                                     )\n",
       "4   yjc         Organization                            +_後在嘉義設立分店"
      ]
     },
     "execution_count": 3,
     "metadata": {},
     "output_type": "execute_result"
    }
   ],
   "source": [
    "df = pd.read_excel(read_file_from)\n",
    "df = df.fillna(0)\n",
    "df.head()"
   ]
  },
  {
   "cell_type": "code",
   "execution_count": 4,
   "metadata": {},
   "outputs": [
    {
     "name": "stdout",
     "output_type": "stream",
     "text": [
      "graph      35591\n",
      "orgName    35591\n",
      "class      35591\n",
      "dtype: int64\n",
      "max count = 35591\n"
     ]
    }
   ],
   "source": [
    "print(df.count())\n",
    "count = max(df.count())\n",
    "print('max count = {0}'.format(count))"
   ]
  },
  {
   "cell_type": "code",
   "execution_count": 5,
   "metadata": {},
   "outputs": [
    {
     "name": "stdout",
     "output_type": "stream",
     "text": [
      "orgName\n",
      "Organization                                 8625\n",
      "PrivateOrganization                          7834\n",
      "OrganizationUnit                             4773\n",
      "PublicOrganization                           3759\n",
      "StateOrganization                            3753\n",
      "ElectedOrganization                          1436\n",
      "FinancialOrganization                        1175\n",
      "AdministrativeOrganization                    904\n",
      "HealthOrganization                            683\n",
      "AgriculturalOrganization                      634\n",
      "EducationalOrganization                       442\n",
      "ProvincialOrganization                        286\n",
      "MonopolyOrganization                          254\n",
      "EarlyPostWarOrganization                      207\n",
      "Trade_FinancialOrganization                   168\n",
      "ProfessionalOrganization                      154\n",
      "ReligiousOrganization                          87\n",
      "CommunityOrganization                          68\n",
      "ForestryOrganization                           65\n",
      "PartyOrganization                              53\n",
      "LandSurveyCommitteeStateOrganization           50\n",
      "LocalOrganization                              42\n",
      "LiteraryOrganization                           26\n",
      "ResearchOrganization                           19\n",
      "EntertainmentOrganization                      19\n",
      "WomenOrganization                              17\n",
      "MunicipalOrganization                          16\n",
      "JapaneseColonialOrganization                   15\n",
      "ElectedOrganization+OrganizationUnit            6\n",
      "RepublicanOrganization                          5\n",
      "JudicialOrganization                            4\n",
      "CentralOrganization                             3\n",
      "AppointedOrganization                           2\n",
      "LocalEducationOrganization                      2\n",
      "EducationalOrganization+StateOrganization       1\n",
      "OrganizationUni                                 1\n",
      "Council+PrivateOrganization                     1\n",
      "StateOrganization-Industry                      1\n",
      "StateOrganizationCompany                        1\n",
      "Name: graph, dtype: int64\n"
     ]
    }
   ],
   "source": [
    "count = df.groupby(['orgName']).count()['graph']\n",
    "\n",
    "count = count.sort_values(ascending=False)\n",
    "print(count)\n",
    "\n",
    "maxCount = max(count)"
   ]
  },
  {
   "cell_type": "code",
   "execution_count": 6,
   "metadata": {},
   "outputs": [
    {
     "name": "stdout",
     "output_type": "stream",
     "text": [
      "35591\n",
      "[{'graph': 'yjc', 'org': 'Organization', 'class': 0, 'comments': ''}, {'graph': 'yjc', 'org': 'PrivateOrganization', 'class': '(公司設在竹東郡蕃地油羅山由台北海山郡及文山部的三井製材所提供原料),製', 'comments': ''}, {'graph': 'yjc', 'org': 'Organization', 'class': '(公司設在竹東郡蕃地油羅山由台北海山郡及文山部的三井製材所提供原料),製', 'comments': ''}, {'graph': 'yjc', 'org': 'Organization', 'class': ')', 'comments': ''}, {'graph': 'yjc', 'org': 'Organization', 'class': '+_後在嘉義設立分店', 'comments': ''}]\n"
     ]
    }
   ],
   "source": [
    "results = []\n",
    "\n",
    "for idx in range(0, len(df)):\n",
    "    row = df.loc[idx]\n",
    "#     print(row)\n",
    "    graph = row['graph']\n",
    "    orgName = row['orgName']\n",
    "    className = row['class']\n",
    "    \n",
    "    comments = ''\n",
    "    for cidx in range(3, len(row)):\n",
    "        if row[cidx] != 0:\n",
    "            comments += '{0};'.format(row[cidx])\n",
    "    \n",
    "    result = {'graph': graph, 'org': orgName, 'class': className, 'comments': comments}\n",
    "    if result not in results:\n",
    "        results.append(result)\n",
    "    \n",
    "#     print(graph, orgName, className, comments)\n",
    "print(len(results))\n",
    "print(results[0:5])"
   ]
  },
  {
   "cell_type": "code",
   "execution_count": 7,
   "metadata": {
    "scrolled": false
   },
   "outputs": [],
   "source": [
    "# classResults = {}\n",
    "\n",
    "# for res in results:\n",
    "#     className = res['class']\n",
    "#     graph = res['graph']\n",
    "#     orgName = res['org']\n",
    "#     comments = res['comments']\n",
    "\n",
    "#     if className not in classResults:\n",
    "#         classResults[className] = {'orgGra': {}, 'comments': ''}\n",
    "        \n",
    "#     orgGraph = classResults[className]['orgGra'].copy()\n",
    "#     if orgName not in orgGraph:\n",
    "#         orgGraph[orgName] = []\n",
    "    \n",
    "#     if graph not in orgGraph[orgName]:\n",
    "#         orgGraph[orgName].append(graph)\n",
    "    \n",
    "#     classResults[className] = {'orgGra': orgGraph, 'comments': comments}\n",
    "\n",
    "# print(len(results), len(classResults))"
   ]
  },
  {
   "cell_type": "code",
   "execution_count": 8,
   "metadata": {},
   "outputs": [],
   "source": [
    "def mapFunc(orgName, defaultVal, mapTable):\n",
    "    res = defaultVal;\n",
    "    for tKey in mapTable:\n",
    "        for tVale in mapTable[tKey]:\n",
    "            if tVale in orgName:\n",
    "                return tKey\n",
    "\n",
    "    return res"
   ]
  },
  {
   "cell_type": "markdown",
   "metadata": {},
   "source": [
    "## Ownership mapping table"
   ]
  },
  {
   "cell_type": "code",
   "execution_count": 9,
   "metadata": {},
   "outputs": [],
   "source": [
    "# Ownership mapping table\n",
    "OwnershipMapping = {\n",
    "    'PrivateOrganization': ['PrivateOrganization'], \n",
    "    'StateOrganization': ['StateOrganization'],\n",
    "    'PublicOrganization': ['PublicOrganization']\n",
    "}\n",
    "UnknownOwnership = '';"
   ]
  },
  {
   "cell_type": "markdown",
   "metadata": {},
   "source": [
    "## ModeOfEntry mapping table"
   ]
  },
  {
   "cell_type": "code",
   "execution_count": 10,
   "metadata": {},
   "outputs": [],
   "source": [
    "# ModeOfEntry mapping table\n",
    "ModeOfEntryMapping = {\n",
    "    'Appointed': ['總督府','街','庄','州','公學校','利組合','組合'], \n",
    "    'Elected': ['協議會']\n",
    "}\n",
    "UnknownModeOfEntry = '';"
   ]
  },
  {
   "cell_type": "markdown",
   "metadata": {},
   "source": [
    "## Period mapping table"
   ]
  },
  {
   "cell_type": "code",
   "execution_count": 11,
   "metadata": {},
   "outputs": [],
   "source": [
    "## Period mapping table\n",
    "# 總督府，街，庄，信託會社，州，公學校，株式會，株式会社，利組合，組合，國語講習所\n",
    "PeriodMapping = {\n",
    "    'JapaneseColonialOrganization': ['總督府','街','庄','信託會社','州','公學校',\n",
    "                                     '株式會','株式会社','利組合','組合','國語講習所'],\n",
    "    'EarlyPostWarOrganization': ['縣議會','台灣省','台灣長官公署'],\n",
    "    'RepublicanOrganization': [],\n",
    "}\n",
    "UnknownPeriod = '';\n",
    "\n",
    "## yjc 為 JapaneseColonialOrganization\n"
   ]
  },
  {
   "cell_type": "markdown",
   "metadata": {},
   "source": [
    "## LevelOfOperation mapping table"
   ]
  },
  {
   "cell_type": "code",
   "execution_count": 12,
   "metadata": {},
   "outputs": [],
   "source": [
    "## LevelOfOperation mapping table\n",
    "LevelOfOperationMapping = {\n",
    "    'CentralOrganization': [],\n",
    "    'LocalOrganization': ['庄','街','區','州','市','縣'],\n",
    "    'ProvincialOrganization': ['省','廳']\n",
    "}\n",
    "UnknownLevelOfOperation = '';"
   ]
  },
  {
   "cell_type": "markdown",
   "metadata": {},
   "source": [
    "## Function mapping table"
   ]
  },
  {
   "cell_type": "code",
   "execution_count": 13,
   "metadata": {},
   "outputs": [],
   "source": [
    "## Function mapping table\n",
    "func_filename = 'query_org_divisionContent_results.csv'\n",
    "func_file_from = '{0}/{1}'.format(filepath, func_filename)\n",
    "\n",
    "funcDf = pd.read_csv(func_file_from)\n",
    "funcDf.head()\n",
    "\n",
    "def mapOrgToFunction(orgName, defaultVal):\n",
    "#     print(orgName)\n",
    "    row = funcDf.loc[funcDf['sName'] == orgName]\n",
    "    if row.empty:\n",
    "        division = [defaultVal]\n",
    "    else:\n",
    "        division = row['orgName'].tolist()\n",
    "\n",
    "    return division\n",
    "\n",
    "# UnknownFunction = 'UnknwownFunction';\n",
    "# print(mapOrgToFunction('壯圍庄古亭笨第十五保第七保保甲', UnknownFunction))\n",
    "# print(mapOrgToFunction('高雄州農會', UnknownFunction))\n",
    "# print(mapOrgToFunction('在魚池庄經營製茶業', UnknownFunction))\n",
    "# print(mapOrgToFunction('xxxxx', UnknownFunction))\n",
    "\n",
    "# for idx in range(0, len(funcDf.index)):\n",
    "# # for idx in range(16,23):\n",
    "# #     print(funcDf.loc[idx, 'sName'])\n",
    "#     print(mapOrgToFunction(funcDf.loc[idx, 'sName'], UnknownFunction))\n"
   ]
  },
  {
   "cell_type": "code",
   "execution_count": 14,
   "metadata": {},
   "outputs": [],
   "source": [
    "# Function mapping table\n",
    "FunctionMapping = {    \n",
    "    'ArmedForces': ['ArmedForces'],\n",
    "    'PrivateBusiness': ['AgriculturalOrganization', 'Industry', 'Business', 'Trade_FinancialOrganization'],\n",
    "    'PublicAdministration': ['SocialAffairs', 'AdministrativeOrganization', 'CommunicationPost', \n",
    "                             'Hygiene_Sanitation', 'Canals_Irrigation', 'Transportation',\n",
    "                             'JudicialOrganization'],\n",
    "    'Academia_Education': ['EducationalOrganization', 'Research_Investigation'],\n",
    "    'Hospital': ['HealthOrganization'],\n",
    "    'VoluntaryAssociation': ['ReligiousOrganization'],\n",
    "    'StateBusiness': ['MonopolyOrganization'],\n",
    "    'MassMedia': ['Media'],\n",
    "    'NeedToBeSolved': ['EntertainmentOrganization']\n",
    "}\n",
    "\n",
    "UnknownFunction = '';"
   ]
  },
  {
   "cell_type": "markdown",
   "metadata": {},
   "source": [
    "## Main generation"
   ]
  },
  {
   "cell_type": "code",
   "execution_count": 32,
   "metadata": {},
   "outputs": [
    {
     "name": "stdout",
     "output_type": "stream",
     "text": [
      "35591\n"
     ]
    }
   ],
   "source": [
    "print(len(results))"
   ]
  },
  {
   "cell_type": "code",
   "execution_count": 15,
   "metadata": {},
   "outputs": [],
   "source": [
    "# orgList = []\n",
    "# # [{'graph': 'chrj_pr', 'org': 'Organization', 'class': '大興紡織', 'comments': ''},\n",
    "# for res in results:\n",
    "#     className = str(res['class'])\n",
    "#     graph = res['graph']\n",
    "#     orgName = res['org']\n",
    "\n",
    "#     orgArr = []\n",
    "\n",
    "#     # graph\n",
    "#     orgArr.append(graph)\n",
    "    \n",
    "#     # Organization\n",
    "#     orgArr.append(className)\n",
    "\n",
    "#     # Ownership\n",
    "# #     orgArr.append(mapFunc(orgName, UnknownOwnership, OwnershipMapping))\n",
    "\n",
    "#     # ModeOfEntry\n",
    "# #     orgArr.append(mapFunc(className, UnknownModeOfEntry, ModeOfEntryMapping))\n",
    "\n",
    "#     # Period\n",
    "#     periodTitle = mapFunc(className, UnknownPeriod, PeriodMapping)\n",
    "#     if periodTitle == UnknownPeriod and graph == 'yjc':\n",
    "#         periodTitle = 'JapaneseColonialOrganization'\n",
    "    \n",
    "#     orgArr.append(periodTitle)\n",
    "\n",
    "#     # LevelOfOperation\n",
    "# #     orgArr.append(mapFunc(className, UnknownLevelOfOperation, LevelOfOperationMapping))\n",
    "\n",
    "#     # Function\n",
    "#     funcArray = mapOrgToFunction(className, UnknownFunction)\n",
    "# #         orgArr.append(mapOrgToFunction(strClassName, UnknownFunction))\n",
    "\n",
    "#     # comments\n",
    "# #     comments = res['comments']\n",
    "        \n",
    "#     for funcName in funcArray:\n",
    "#         finalOrg = []\n",
    "#         finalOrg = orgArr.copy()\n",
    "#         finalOrg.append(mapFunc(funcName, UnknownFunction, FunctionMapping))\n",
    "# #         finalOrg.append(comments)\n",
    "\n",
    "#         if finalOrg not in orgList:\n",
    "#             orgList.append(finalOrg)\n",
    "# #         else:\n",
    "# #             print(\"Duplicated\", finalOrg)\n"
   ]
  },
  {
   "cell_type": "code",
   "execution_count": 16,
   "metadata": {},
   "outputs": [
    {
     "name": "stdout",
     "output_type": "stream",
     "text": [
      "results 35591\n",
      "orgList 22348\n",
      "[['yjc', '0', 'JapaneseColonialOrganization', ''], ['yjc', '(公司設在竹東郡蕃地油羅山由台北海山郡及文山部的三井製材所提供原料),製', 'JapaneseColonialOrganization', 'PrivateBusiness'], ['yjc', ')', 'JapaneseColonialOrganization', ''], ['yjc', '+_後在嘉義設立分店', 'JapaneseColonialOrganization', ''], ['yjc', '+_獲特選第一名及台展賞', 'JapaneseColonialOrganization', '']]\n"
     ]
    }
   ],
   "source": [
    "# print(\"results\", len(results))\n",
    "# print(\"orgList\", len(orgList))\n",
    "# print(orgList[0:5])"
   ]
  },
  {
   "cell_type": "markdown",
   "metadata": {},
   "source": [
    "## Merge what Meng-lun has done."
   ]
  },
  {
   "cell_type": "code",
   "execution_count": 24,
   "metadata": {},
   "outputs": [],
   "source": [
    "merge_file_name = 'output_class_to_orgs_20190501_v10_tana.xlsx'\n",
    "merge_file = '{0}/{1}'.format(filepath, merge_file_name)"
   ]
  },
  {
   "cell_type": "code",
   "execution_count": 25,
   "metadata": {},
   "outputs": [
    {
     "data": {
      "text/html": [
       "<div>\n",
       "<style scoped>\n",
       "    .dataframe tbody tr th:only-of-type {\n",
       "        vertical-align: middle;\n",
       "    }\n",
       "\n",
       "    .dataframe tbody tr th {\n",
       "        vertical-align: top;\n",
       "    }\n",
       "\n",
       "    .dataframe thead th {\n",
       "        text-align: right;\n",
       "    }\n",
       "</style>\n",
       "<table border=\"1\" class=\"dataframe\">\n",
       "  <thead>\n",
       "    <tr style=\"text-align: right;\">\n",
       "      <th></th>\n",
       "      <th>Organization</th>\n",
       "      <th>SocietalSector</th>\n",
       "      <th>Period</th>\n",
       "      <th>Correct name</th>\n",
       "    </tr>\n",
       "  </thead>\n",
       "  <tbody>\n",
       "    <tr>\n",
       "      <th>0</th>\n",
       "      <td>上海真如學院</td>\n",
       "      <td>Academia_Education</td>\n",
       "      <td>JapaneseColonialOrganization</td>\n",
       "      <td>0</td>\n",
       "    </tr>\n",
       "    <tr>\n",
       "      <th>1</th>\n",
       "      <td>下關商業學校</td>\n",
       "      <td>Academia_Education</td>\n",
       "      <td>JapaneseColonialOrganization</td>\n",
       "      <td>0</td>\n",
       "    </tr>\n",
       "    <tr>\n",
       "      <th>2</th>\n",
       "      <td>中埔公學校白芒埔分教場</td>\n",
       "      <td>Academia_Education</td>\n",
       "      <td>JapaneseColonialOrganization</td>\n",
       "      <td>0</td>\n",
       "    </tr>\n",
       "    <tr>\n",
       "      <th>3</th>\n",
       "      <td>中埔公學校頂六分教場</td>\n",
       "      <td>Academia_Education</td>\n",
       "      <td>JapaneseColonialOrganization</td>\n",
       "      <td>0</td>\n",
       "    </tr>\n",
       "    <tr>\n",
       "      <th>4</th>\n",
       "      <td>中壢皇民奉公會</td>\n",
       "      <td>PublicAdministration</td>\n",
       "      <td>JapaneseColonialOrganization</td>\n",
       "      <td>0</td>\n",
       "    </tr>\n",
       "  </tbody>\n",
       "</table>\n",
       "</div>"
      ],
      "text/plain": [
       "  Organization        SocietalSector                        Period  \\\n",
       "0       上海真如學院    Academia_Education  JapaneseColonialOrganization   \n",
       "1       下關商業學校    Academia_Education  JapaneseColonialOrganization   \n",
       "2  中埔公學校白芒埔分教場    Academia_Education  JapaneseColonialOrganization   \n",
       "3   中埔公學校頂六分教場    Academia_Education  JapaneseColonialOrganization   \n",
       "4      中壢皇民奉公會  PublicAdministration  JapaneseColonialOrganization   \n",
       "\n",
       "  Correct name  \n",
       "0            0  \n",
       "1            0  \n",
       "2            0  \n",
       "3            0  \n",
       "4            0  "
      ]
     },
     "execution_count": 25,
     "metadata": {},
     "output_type": "execute_result"
    }
   ],
   "source": [
    "mergeDf = pd.read_excel(merge_file)\n",
    "mergeDf = mergeDf.fillna(0)\n",
    "mergeDf.head()"
   ]
  },
  {
   "cell_type": "code",
   "execution_count": 46,
   "metadata": {
    "scrolled": true
   },
   "outputs": [],
   "source": [
    "mergeResults = []\n",
    "for idx in range(0, len(mergeDf)):\n",
    "    row = mergeDf.loc[idx]\n",
    "#     print(row)\n",
    "\n",
    "    organization = str(row['Organization'])\n",
    "    \n",
    "    # find the graph of the organization\n",
    "    graph = ''\n",
    "    for res in results:\n",
    "        resGraph = res['graph']\n",
    "        resOrg = res['class']\n",
    "    \n",
    "        if resOrg == organization and resGraph == 'chrj_pr':\n",
    "            break\n",
    "            \n",
    "    mergeResults.append([organization, graph])\n",
    "#     societalSector = str(row['SocietalSector'])\n",
    "#     period = str(row['Period'])\n",
    "#     corrName = str(row['Correct name'])\n",
    "    \n",
    "#     if organization not in mergeResults:\n",
    "#         mergeResults[organization] = {'societalSector': societalSector, 'period': period, 'Correct': corrName}\n",
    "    \n",
    "#     if societalSector != '0':\n",
    "#         mergeResults[organization]['societalSector'] = societalSector\n",
    "#     if period != '0':\n",
    "#         mergeResults[organization]['period'] = period\n",
    "#     if comments != '0':\n",
    "#         mergeResults[organization]['comments'] = comments\n",
    "        \n",
    "# mergeResults"
   ]
  },
  {
   "cell_type": "code",
   "execution_count": 47,
   "metadata": {},
   "outputs": [
    {
     "data": {
      "text/plain": [
       "[['上海真如學院', ''],\n",
       " ['下關商業學校', ''],\n",
       " ['中埔公學校白芒埔分教場', ''],\n",
       " ['中埔公學校頂六分教場', ''],\n",
       " ['中壢皇民奉公會', '']]"
      ]
     },
     "execution_count": 47,
     "metadata": {},
     "output_type": "execute_result"
    }
   ],
   "source": [
    "mergeResults[0:5]"
   ]
  },
  {
   "cell_type": "code",
   "execution_count": 48,
   "metadata": {},
   "outputs": [
    {
     "name": "stdout",
     "output_type": "stream",
     "text": [
      "19537\n"
     ]
    }
   ],
   "source": [
    "print(len(mergeResults))"
   ]
  },
  {
   "cell_type": "code",
   "execution_count": 49,
   "metadata": {},
   "outputs": [
    {
     "data": {
      "text/html": [
       "<div>\n",
       "<style scoped>\n",
       "    .dataframe tbody tr th:only-of-type {\n",
       "        vertical-align: middle;\n",
       "    }\n",
       "\n",
       "    .dataframe tbody tr th {\n",
       "        vertical-align: top;\n",
       "    }\n",
       "\n",
       "    .dataframe thead th {\n",
       "        text-align: right;\n",
       "    }\n",
       "</style>\n",
       "<table border=\"1\" class=\"dataframe\">\n",
       "  <thead>\n",
       "    <tr style=\"text-align: right;\">\n",
       "      <th></th>\n",
       "      <th>org</th>\n",
       "      <th>graph</th>\n",
       "    </tr>\n",
       "  </thead>\n",
       "  <tbody>\n",
       "    <tr>\n",
       "      <th>0</th>\n",
       "      <td>上海真如學院</td>\n",
       "      <td></td>\n",
       "    </tr>\n",
       "    <tr>\n",
       "      <th>1</th>\n",
       "      <td>下關商業學校</td>\n",
       "      <td></td>\n",
       "    </tr>\n",
       "    <tr>\n",
       "      <th>2</th>\n",
       "      <td>中埔公學校白芒埔分教場</td>\n",
       "      <td></td>\n",
       "    </tr>\n",
       "    <tr>\n",
       "      <th>3</th>\n",
       "      <td>中埔公學校頂六分教場</td>\n",
       "      <td></td>\n",
       "    </tr>\n",
       "    <tr>\n",
       "      <th>4</th>\n",
       "      <td>中壢皇民奉公會</td>\n",
       "      <td></td>\n",
       "    </tr>\n",
       "  </tbody>\n",
       "</table>\n",
       "</div>"
      ],
      "text/plain": [
       "           org graph\n",
       "0       上海真如學院      \n",
       "1       下關商業學校      \n",
       "2  中埔公學校白芒埔分教場      \n",
       "3   中埔公學校頂六分教場      \n",
       "4      中壢皇民奉公會      "
      ]
     },
     "execution_count": 49,
     "metadata": {},
     "output_type": "execute_result"
    }
   ],
   "source": [
    "orgDf = pd.DataFrame(mergeResults, columns=['org', 'graph'])\n",
    "orgDf.head()"
   ]
  },
  {
   "cell_type": "code",
   "execution_count": 50,
   "metadata": {},
   "outputs": [],
   "source": [
    "write_orgGraph_file = '{0}/{1}'.format(filepath, 'orgGraphFile.xlsx')\n",
    "orgDf.to_excel(write_orgGraph_file)"
   ]
  },
  {
   "cell_type": "code",
   "execution_count": 21,
   "metadata": {},
   "outputs": [
    {
     "name": "stdout",
     "output_type": "stream",
     "text": [
      "22348 [['yjc', '', '', 'JapaneseColonialOrganization', '0', ''], ['yjc', '', '', 'JapaneseColonialOrganization', '(公司設在竹東郡蕃地油羅山由台北海山郡及文山部的三井製材所提供原料),製', ''], ['yjc', '', '', 'JapaneseColonialOrganization', ')', ''], ['yjc', '', '', 'JapaneseColonialOrganization', '+_後在嘉義設立分店', ''], ['yjc', '', '', 'JapaneseColonialOrganization', '+_獲特選第一名及台展賞', '']]\n"
     ]
    }
   ],
   "source": [
    "# mergeList = []\n",
    "# for org in orgList:\n",
    "#     orgName = org[0]\n",
    "#     periodSuggest = org[1]\n",
    "#     societalSuggest = org[2]\n",
    "    \n",
    "#     merge = []\n",
    "#     merge.append(orgName)\n",
    "    \n",
    "#     comments = ''\n",
    "#     if orgName in mergeResults:\n",
    "#         societal = mergeResults[orgName]['societalSector']\n",
    "#         if societal == '0':\n",
    "#             societal = ''\n",
    "#         merge.append(societal)\n",
    "        \n",
    "#         period = mergeResults[orgName]['period']\n",
    "#         if period == '0':\n",
    "#             period = ''\n",
    "#         merge.append(period)\n",
    "        \n",
    "#         comments = mergeResults[orgName]['comments']\n",
    "#         if comments == '0':\n",
    "#             comments = ''\n",
    "\n",
    "#     else:\n",
    "#         merge.append('')\n",
    "#         merge.append('')\n",
    "        \n",
    "#     merge.append(societalSuggest)\n",
    "#     merge.append(periodSuggest)\n",
    "#     merge.append(comments)\n",
    "    \n",
    "#     mergeList.append(merge)\n",
    "        \n",
    "# print(len(mergeList), mergeList[0:5])"
   ]
  },
  {
   "cell_type": "markdown",
   "metadata": {},
   "source": [
    "## Output file"
   ]
  },
  {
   "cell_type": "code",
   "execution_count": 22,
   "metadata": {},
   "outputs": [
    {
     "name": "stdout",
     "output_type": "stream",
     "text": [
      "6\n"
     ]
    },
    {
     "data": {
      "text/plain": [
       "['Graph',\n",
       " 'Organization',\n",
       " 'SocietalSector',\n",
       " 'Period',\n",
       " 'SocietalSectorSuggest',\n",
       " 'PeriodSuggest',\n",
       " 'comments']"
      ]
     },
     "execution_count": 22,
     "metadata": {},
     "output_type": "execute_result"
    }
   ],
   "source": [
    "# def getMaxLen(orgList):\n",
    "#     maxEleLen = 0\n",
    "#     for org in orgList:\n",
    "#         orgLen = len(org)\n",
    "#         if maxEleLen < orgLen:\n",
    "#             maxEleLen = orgLen\n",
    "#     return maxEleLen\n",
    "\n",
    "# print(getMaxLen(mergeList))\n",
    "# # columns = ['Organization','Ownership','ModeOfEntry','Period','LevelOfOperation','SocietalSector','comments']  \n",
    "# columns = ['Organization','SocietalSector','Period','SocietalSectorSuggest','PeriodSuggest','comments']  \n",
    "# columns"
   ]
  },
  {
   "cell_type": "code",
   "execution_count": 23,
   "metadata": {},
   "outputs": [
    {
     "ename": "AssertionError",
     "evalue": "7 columns passed, passed data had 6 columns",
     "output_type": "error",
     "traceback": [
      "\u001b[0;31m---------------------------------------------------------------------------\u001b[0m",
      "\u001b[0;31mAssertionError\u001b[0m                            Traceback (most recent call last)",
      "\u001b[0;32m<ipython-input-23-77e01aff7d6a>\u001b[0m in \u001b[0;36m<module>\u001b[0;34m\u001b[0m\n\u001b[0;32m----> 1\u001b[0;31m \u001b[0morgDf\u001b[0m \u001b[0;34m=\u001b[0m \u001b[0mpd\u001b[0m\u001b[0;34m.\u001b[0m\u001b[0mDataFrame\u001b[0m\u001b[0;34m(\u001b[0m\u001b[0mmergeList\u001b[0m\u001b[0;34m,\u001b[0m \u001b[0mcolumns\u001b[0m\u001b[0;34m=\u001b[0m\u001b[0mcolumns\u001b[0m\u001b[0;34m)\u001b[0m\u001b[0;34m\u001b[0m\u001b[0m\n\u001b[0m\u001b[1;32m      2\u001b[0m \u001b[0morgDf\u001b[0m\u001b[0;34m.\u001b[0m\u001b[0mdrop_duplicates\u001b[0m\u001b[0;34m(\u001b[0m\u001b[0msubset\u001b[0m\u001b[0;34m=\u001b[0m\u001b[0;34m'Organization'\u001b[0m\u001b[0;34m,\u001b[0m \u001b[0mkeep\u001b[0m\u001b[0;34m=\u001b[0m\u001b[0;34m'first'\u001b[0m\u001b[0;34m,\u001b[0m \u001b[0minplace\u001b[0m\u001b[0;34m=\u001b[0m\u001b[0;32mTrue\u001b[0m\u001b[0;34m)\u001b[0m\u001b[0;34m\u001b[0m\u001b[0m\n\u001b[1;32m      3\u001b[0m \u001b[0morgDf\u001b[0m\u001b[0;34m.\u001b[0m\u001b[0msort_values\u001b[0m\u001b[0;34m(\u001b[0m\u001b[0mby\u001b[0m\u001b[0;34m=\u001b[0m\u001b[0;34m[\u001b[0m\u001b[0;34m'Organization'\u001b[0m\u001b[0;34m,\u001b[0m \u001b[0;34m'PeriodSuggest'\u001b[0m\u001b[0;34m]\u001b[0m\u001b[0;34m,\u001b[0m \u001b[0minplace\u001b[0m\u001b[0;34m=\u001b[0m\u001b[0;32mTrue\u001b[0m\u001b[0;34m)\u001b[0m\u001b[0;34m\u001b[0m\u001b[0m\n\u001b[1;32m      4\u001b[0m \u001b[0;31m# orgDf = orgDf.fillna('')\u001b[0m\u001b[0;34m\u001b[0m\u001b[0;34m\u001b[0m\u001b[0m\n\u001b[1;32m      5\u001b[0m \u001b[0morgDf\u001b[0m\u001b[0;34m.\u001b[0m\u001b[0mhead\u001b[0m\u001b[0;34m(\u001b[0m\u001b[0;34m)\u001b[0m\u001b[0;34m\u001b[0m\u001b[0m\n",
      "\u001b[0;32m/usr/local/lib/python3.7/site-packages/pandas/core/frame.py\u001b[0m in \u001b[0;36m__init__\u001b[0;34m(self, data, index, columns, dtype, copy)\u001b[0m\n\u001b[1;32m    385\u001b[0m                     \u001b[0;32mif\u001b[0m \u001b[0mis_named_tuple\u001b[0m\u001b[0;34m(\u001b[0m\u001b[0mdata\u001b[0m\u001b[0;34m[\u001b[0m\u001b[0;36m0\u001b[0m\u001b[0;34m]\u001b[0m\u001b[0;34m)\u001b[0m \u001b[0;32mand\u001b[0m \u001b[0mcolumns\u001b[0m \u001b[0;32mis\u001b[0m \u001b[0;32mNone\u001b[0m\u001b[0;34m:\u001b[0m\u001b[0;34m\u001b[0m\u001b[0m\n\u001b[1;32m    386\u001b[0m                         \u001b[0mcolumns\u001b[0m \u001b[0;34m=\u001b[0m \u001b[0mdata\u001b[0m\u001b[0;34m[\u001b[0m\u001b[0;36m0\u001b[0m\u001b[0;34m]\u001b[0m\u001b[0;34m.\u001b[0m\u001b[0m_fields\u001b[0m\u001b[0;34m\u001b[0m\u001b[0m\n\u001b[0;32m--> 387\u001b[0;31m                     \u001b[0marrays\u001b[0m\u001b[0;34m,\u001b[0m \u001b[0mcolumns\u001b[0m \u001b[0;34m=\u001b[0m \u001b[0m_to_arrays\u001b[0m\u001b[0;34m(\u001b[0m\u001b[0mdata\u001b[0m\u001b[0;34m,\u001b[0m \u001b[0mcolumns\u001b[0m\u001b[0;34m,\u001b[0m \u001b[0mdtype\u001b[0m\u001b[0;34m=\u001b[0m\u001b[0mdtype\u001b[0m\u001b[0;34m)\u001b[0m\u001b[0;34m\u001b[0m\u001b[0m\n\u001b[0m\u001b[1;32m    388\u001b[0m                     \u001b[0mcolumns\u001b[0m \u001b[0;34m=\u001b[0m \u001b[0m_ensure_index\u001b[0m\u001b[0;34m(\u001b[0m\u001b[0mcolumns\u001b[0m\u001b[0;34m)\u001b[0m\u001b[0;34m\u001b[0m\u001b[0m\n\u001b[1;32m    389\u001b[0m \u001b[0;34m\u001b[0m\u001b[0m\n",
      "\u001b[0;32m/usr/local/lib/python3.7/site-packages/pandas/core/frame.py\u001b[0m in \u001b[0;36m_to_arrays\u001b[0;34m(data, columns, coerce_float, dtype)\u001b[0m\n\u001b[1;32m   7473\u001b[0m     \u001b[0;32mif\u001b[0m \u001b[0misinstance\u001b[0m\u001b[0;34m(\u001b[0m\u001b[0mdata\u001b[0m\u001b[0;34m[\u001b[0m\u001b[0;36m0\u001b[0m\u001b[0;34m]\u001b[0m\u001b[0;34m,\u001b[0m \u001b[0;34m(\u001b[0m\u001b[0mlist\u001b[0m\u001b[0;34m,\u001b[0m \u001b[0mtuple\u001b[0m\u001b[0;34m)\u001b[0m\u001b[0;34m)\u001b[0m\u001b[0;34m:\u001b[0m\u001b[0;34m\u001b[0m\u001b[0m\n\u001b[1;32m   7474\u001b[0m         return _list_to_arrays(data, columns, coerce_float=coerce_float,\n\u001b[0;32m-> 7475\u001b[0;31m                                dtype=dtype)\n\u001b[0m\u001b[1;32m   7476\u001b[0m     \u001b[0;32melif\u001b[0m \u001b[0misinstance\u001b[0m\u001b[0;34m(\u001b[0m\u001b[0mdata\u001b[0m\u001b[0;34m[\u001b[0m\u001b[0;36m0\u001b[0m\u001b[0;34m]\u001b[0m\u001b[0;34m,\u001b[0m \u001b[0mcollections\u001b[0m\u001b[0;34m.\u001b[0m\u001b[0mMapping\u001b[0m\u001b[0;34m)\u001b[0m\u001b[0;34m:\u001b[0m\u001b[0;34m\u001b[0m\u001b[0m\n\u001b[1;32m   7477\u001b[0m         return _list_of_dict_to_arrays(data, columns,\n",
      "\u001b[0;32m/usr/local/lib/python3.7/site-packages/pandas/core/frame.py\u001b[0m in \u001b[0;36m_list_to_arrays\u001b[0;34m(data, columns, coerce_float, dtype)\u001b[0m\n\u001b[1;32m   7552\u001b[0m         \u001b[0mcontent\u001b[0m \u001b[0;34m=\u001b[0m \u001b[0mlist\u001b[0m\u001b[0;34m(\u001b[0m\u001b[0mlib\u001b[0m\u001b[0;34m.\u001b[0m\u001b[0mto_object_array\u001b[0m\u001b[0;34m(\u001b[0m\u001b[0mdata\u001b[0m\u001b[0;34m)\u001b[0m\u001b[0;34m.\u001b[0m\u001b[0mT\u001b[0m\u001b[0;34m)\u001b[0m\u001b[0;34m\u001b[0m\u001b[0m\n\u001b[1;32m   7553\u001b[0m     return _convert_object_array(content, columns, dtype=dtype,\n\u001b[0;32m-> 7554\u001b[0;31m                                  coerce_float=coerce_float)\n\u001b[0m\u001b[1;32m   7555\u001b[0m \u001b[0;34m\u001b[0m\u001b[0m\n\u001b[1;32m   7556\u001b[0m \u001b[0;34m\u001b[0m\u001b[0m\n",
      "\u001b[0;32m/usr/local/lib/python3.7/site-packages/pandas/core/frame.py\u001b[0m in \u001b[0;36m_convert_object_array\u001b[0;34m(content, columns, coerce_float, dtype)\u001b[0m\n\u001b[1;32m   7610\u001b[0m             raise AssertionError('{col:d} columns passed, passed data had '\n\u001b[1;32m   7611\u001b[0m                                  '{con} columns'.format(col=len(columns),\n\u001b[0;32m-> 7612\u001b[0;31m                                                         con=len(content)))\n\u001b[0m\u001b[1;32m   7613\u001b[0m \u001b[0;34m\u001b[0m\u001b[0m\n\u001b[1;32m   7614\u001b[0m     \u001b[0;31m# provide soft conversion of object dtypes\u001b[0m\u001b[0;34m\u001b[0m\u001b[0;34m\u001b[0m\u001b[0m\n",
      "\u001b[0;31mAssertionError\u001b[0m: 7 columns passed, passed data had 6 columns"
     ]
    }
   ],
   "source": [
    "# orgDf = pd.DataFrame(mergeList, columns=columns)\n",
    "# orgDf.drop_duplicates(subset='Organization', keep='first', inplace=True)\n",
    "# orgDf.sort_values(by=['Organization', 'PeriodSuggest'], inplace=True)\n",
    "# # orgDf = orgDf.fillna('')\n",
    "# orgDf.head()"
   ]
  },
  {
   "cell_type": "code",
   "execution_count": null,
   "metadata": {},
   "outputs": [],
   "source": [
    "# orgDf.to_excel(write_file_to, index=False)"
   ]
  },
  {
   "cell_type": "code",
   "execution_count": null,
   "metadata": {},
   "outputs": [],
   "source": [
    "# # double check the duplicated\n",
    "# duplicateRowsDF = orgDf[orgDf.duplicated(['Organization'], keep='last')]\n",
    "# duplicateRowsDF"
   ]
  },
  {
   "cell_type": "code",
   "execution_count": null,
   "metadata": {},
   "outputs": [],
   "source": []
  }
 ],
 "metadata": {
  "kernelspec": {
   "display_name": "Python 3",
   "language": "python",
   "name": "python3"
  },
  "language_info": {
   "codemirror_mode": {
    "name": "ipython",
    "version": 3
   },
   "file_extension": ".py",
   "mimetype": "text/x-python",
   "name": "python",
   "nbconvert_exporter": "python",
   "pygments_lexer": "ipython3",
   "version": "3.7.0"
  }
 },
 "nbformat": 4,
 "nbformat_minor": 2
}
