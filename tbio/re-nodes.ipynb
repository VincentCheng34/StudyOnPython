{
 "cells": [
  {
   "cell_type": "code",
   "execution_count": 1,
   "metadata": {},
   "outputs": [],
   "source": [
    "import pandas as pd"
   ]
  },
  {
   "cell_type": "code",
   "execution_count": 2,
   "metadata": {},
   "outputs": [],
   "source": [
    "filepath = '/Volumes/backup_128G/z_repository/TBIO_data/RequestsFromTana/all_org_classes/connections'\n",
    "\n",
    "nodes_file = 'Nodes_20190512_v2.xlsx'\n",
    "people_edges_file = 'TRial5-people_FAMILYLINES_edges.csv'\n",
    "people_nodes_file = 'TRial5-people_FAMILYLINES_nodes.csv'\n",
    "person_family_file = 'personFamilyOrgPeriod_20190512_v2.xlsx'\n",
    "\n",
    "read_nodes_file = '{0}/{1}'.format(filepath, nodes_file)\n",
    "read_people_edges_file = '{0}/{1}'.format(filepath, people_edges_file)\n",
    "read_people_nodes_file = '{0}/{1}'.format(filepath, people_nodes_file)\n",
    "read_person_family_file = '{0}/{1}'.format(filepath, person_family_file)"
   ]
  },
  {
   "cell_type": "code",
   "execution_count": 3,
   "metadata": {},
   "outputs": [
    {
     "data": {
      "text/plain": [
       "((4055, 14),\n",
       "          Id Label  timeset     cat familyname gender  componentnumber  Degree  \\\n",
       " 0  10001219   林熊祥      0.0  Person       嚴復家系   Male                0      32   \n",
       " 1  10004175   顏德修      0.0  Person    顏雲年三子家系   Male                0      30   \n",
       " 2  10000959   陳啓川      0.0  Person      吳修齊家系   Male                0      29   \n",
       " 3  10001568   陳啓清      0.0  Person      張豐緒家系   Male                0      29   \n",
       " 4  10004242   顏德潤      0.0  Person      顏雲年家系   Male                0      28   \n",
       " \n",
       "    Weighted Degree  Eccentricity  closnesscentrality  \\\n",
       " 0               32            33            0.085240   \n",
       " 1               30            36            0.094115   \n",
       " 2               29            40            0.075996   \n",
       " 3               29            39            0.079099   \n",
       " 4               28            37            0.090811   \n",
       " \n",
       "    harmonicclosnesscentrality  betweenesscentrality  modularity_class  \n",
       " 0                    0.113713          6.270218e+05                 1  \n",
       " 1                    0.131251          2.159806e+06                 7  \n",
       " 2                    0.106143          1.835358e+05                10  \n",
       " 3                    0.111748          4.589900e+05                10  \n",
       " 4                    0.125474          5.530604e+05                 7  )"
      ]
     },
     "execution_count": 3,
     "metadata": {},
     "output_type": "execute_result"
    }
   ],
   "source": [
    "peoNodeDf = pd.read_csv(read_people_nodes_file)\n",
    "peoNodeDf = peoNodeDf.fillna(0)\n",
    "peoNodeDf.shape, peoNodeDf.head()"
   ]
  },
  {
   "cell_type": "markdown",
   "metadata": {},
   "source": [
    "# Get the unique family name"
   ]
  },
  {
   "cell_type": "code",
   "execution_count": 4,
   "metadata": {},
   "outputs": [
    {
     "name": "stdout",
     "output_type": "stream",
     "text": [
      "(84,)\n",
      "['嚴復家系' '顏雲年三子家系' '吳修齊家系' '張豐緒家系' '顏雲年家系' '李登輝家系' '桃園吳家家系' '林文察家系'\n",
      " '新竹鄭家家系' '林維讓家系' '台南黃家家系' '王永慶家系' '台中陳家家系' '楊肇嘉家系' '台南高家家系' '朱昭陽家系'\n",
      " '淡水洪家' '吳伯雄家系' '林獻堂家系' '辜顯榮家系' '陳啓清家系' '陳田錨家系' '台南林家家系' '林維源家系' '黃崇仁家系'\n",
      " '國泰蔡家家系' '洪遜欣家系' '魏火曜家系' '彭明敏家系' '林呈祿家系' '陳逢源家系' '何傳家系' '何永家系' '曹永和家系'\n",
      " '許博允家系' '陳啓川家系' '顏國年家系' '何義家系' '劉明朝家系' '城仲模家系' '宜蘭陳家家系' '林榮三家系' '林自西家系'\n",
      " '費驊家系' '侯雨利家系' '劉闊才家系' '台南劉家家系' '彰化銀行張伯欣家系' '楊蘭洲家系' '陳守山家系' '陳由豪家系'\n",
      " '何應欽家系' '吳火獅家系' '石鳳翔家系' '周百鍊家系' '林維德家系' '連戰家系' '陳履安家系' '顧祝同家系' '黃朝琴家系'\n",
      " '宋美齡家系' '董建華家系' '高雄企銀王家家系' '鹿港丁家' '俞大維家系' '劉泰英姻系' '林文明家系' '清水蔡惠如家系'\n",
      " '謝國城家系' '嚴家淦家系' '張建邦家系' '沈君山家系' '辜振甫四姊姻系' '陳履安母系' '甘得中家系' '蔡萬才家系' '蔣介石家系'\n",
      " '謝東閔家系' '萬華呂家家系' '蔣經國家系' '金石堂周家家系' '辜振甫家系' '許勝發家系' '汪敬煦姻系']\n"
     ]
    }
   ],
   "source": [
    "unifamily = pd.unique(peoNodeDf['familyname'])\n",
    "print(unifamily.shape)\n",
    "print(unifamily)\n",
    "# familyList = []\n",
    "\n",
    "# for idx in range(0, len(peonodeDf)):\n",
    "#     row = peonodeDf.loc[idx]\n",
    "\n",
    "#     familyname = str(row['familyname'])\n",
    "#     if familyname not in familyList:\n",
    "#         familyList.append(familyname)\n",
    "\n",
    "# print(len(familyList), familyList)"
   ]
  },
  {
   "cell_type": "markdown",
   "metadata": {},
   "source": [
    "# Get the node file"
   ]
  },
  {
   "cell_type": "code",
   "execution_count": 5,
   "metadata": {},
   "outputs": [
    {
     "data": {
      "text/plain": [
       "((137, 3),      ID  Label     Cat\n",
       " 0  1000   何傳家系  Family\n",
       " 1  1001  何應欽家系  Family\n",
       " 2  1002   何永家系  Family\n",
       " 3  1003   何義家系  Family\n",
       " 4  1004  侯雨利家系  Family)"
      ]
     },
     "execution_count": 5,
     "metadata": {},
     "output_type": "execute_result"
    }
   ],
   "source": [
    "nodeDf = pd.read_excel(read_nodes_file)\n",
    "nodeDf = nodeDf.fillna(0)\n",
    "nodeDf.shape, nodeDf.head()"
   ]
  },
  {
   "cell_type": "markdown",
   "metadata": {},
   "source": [
    "# Get the edge file"
   ]
  },
  {
   "cell_type": "code",
   "execution_count": 6,
   "metadata": {},
   "outputs": [
    {
     "data": {
      "text/plain": [
       "((10690, 8),      Source    Target        Type    Id  Label  timeset  Weight  \\\n",
       " 0  10001219  10002483  Undirected  2171    0.0      0.0       1   \n",
       " 1  10001219  10002426  Undirected  2172    0.0      0.0       1   \n",
       " 2  10001219  10002423  Undirected  2173    0.0      0.0       1   \n",
       " 3  10001219  10001223  Undirected  2174    0.0      0.0       1   \n",
       " 4  10001219  10002478  Undirected  2175    0.0      0.0       1   \n",
       " \n",
       "                   op  \n",
       " 0  hasFamilyRelation  \n",
       " 1  hasFamilyRelation  \n",
       " 2  hasFamilyRelation  \n",
       " 3  hasFamilyRelation  \n",
       " 4  hasFamilyRelation  )"
      ]
     },
     "execution_count": 6,
     "metadata": {},
     "output_type": "execute_result"
    }
   ],
   "source": [
    "peoEdgeDf = pd.read_csv(read_people_edges_file)\n",
    "peoEdgeDf = peoEdgeDf.fillna(0)\n",
    "peoEdgeDf.shape, peoEdgeDf.head()"
   ]
  },
  {
   "cell_type": "markdown",
   "metadata": {},
   "source": [
    "# Get Family table"
   ]
  },
  {
   "cell_type": "code",
   "execution_count": 7,
   "metadata": {},
   "outputs": [
    {
     "data": {
      "text/plain": [
       "((1754, 4),\n",
       "   Person FamilyName                  Organization       SocietalSection\n",
       " 0     何傳       何傳家系                   BothPeriods  PublicAdministration\n",
       " 1     何傳       何傳家系  JapaneseColonialOrganization  PublicAdministration\n",
       " 2     何傳       何傳家系  JapaneseColonialOrganization       PrivateBusiness\n",
       " 3     何傳       何傳家系  JapaneseColonialOrganization  VoluntaryAssociation\n",
       " 4     何永       何傳家系  JapaneseColonialOrganization       PrivateBusiness)"
      ]
     },
     "execution_count": 7,
     "metadata": {},
     "output_type": "execute_result"
    }
   ],
   "source": [
    "perFamilyDf = pd.read_excel(read_person_family_file)\n",
    "perFamilyDf.shape, perFamilyDf.head()"
   ]
  },
  {
   "cell_type": "markdown",
   "metadata": {},
   "source": [
    "# Generate output table"
   ]
  },
  {
   "cell_type": "code",
   "execution_count": 8,
   "metadata": {},
   "outputs": [
    {
     "name": "stdout",
     "output_type": "stream",
     "text": [
      "林熊祥\n",
      "林爾康\n",
      "林熊祥\n",
      "陳師桓\n"
     ]
    },
    {
     "ename": "IndexError",
     "evalue": "index 0 is out of bounds for axis 0 with size 0",
     "output_type": "error",
     "traceback": [
      "\u001b[0;31m---------------------------------------------------------------------------\u001b[0m",
      "\u001b[0;31mIndexError\u001b[0m                                Traceback (most recent call last)",
      "\u001b[0;32m<ipython-input-8-e2bf01eb6d36>\u001b[0m in \u001b[0;36m<module>\u001b[0;34m\u001b[0m\n\u001b[1;32m     34\u001b[0m     \u001b[0msourceFamily\u001b[0m \u001b[0;34m=\u001b[0m \u001b[0mpersonFamily\u001b[0m\u001b[0;34m(\u001b[0m\u001b[0msourceName\u001b[0m\u001b[0;34m)\u001b[0m\u001b[0;34m\u001b[0m\u001b[0m\n\u001b[1;32m     35\u001b[0m     \u001b[0msourceFamilyID\u001b[0m \u001b[0;34m=\u001b[0m \u001b[0mfamilyName2ID\u001b[0m\u001b[0;34m(\u001b[0m\u001b[0msourceFamily\u001b[0m\u001b[0;34m)\u001b[0m\u001b[0;34m\u001b[0m\u001b[0m\n\u001b[0;32m---> 36\u001b[0;31m     \u001b[0mtargetFamily\u001b[0m \u001b[0;34m=\u001b[0m \u001b[0mpersonFamily\u001b[0m\u001b[0;34m(\u001b[0m\u001b[0mtargetName\u001b[0m\u001b[0;34m)\u001b[0m\u001b[0;34m\u001b[0m\u001b[0m\n\u001b[0m\u001b[1;32m     37\u001b[0m     \u001b[0mtargetFamilyID\u001b[0m \u001b[0;34m=\u001b[0m \u001b[0mfamilyName2ID\u001b[0m\u001b[0;34m(\u001b[0m\u001b[0mtargetFamily\u001b[0m\u001b[0;34m)\u001b[0m\u001b[0;34m\u001b[0m\u001b[0m\n\u001b[1;32m     38\u001b[0m \u001b[0;34m\u001b[0m\u001b[0m\n",
      "\u001b[0;32m<ipython-input-8-e2bf01eb6d36>\u001b[0m in \u001b[0;36mpersonFamily\u001b[0;34m(name)\u001b[0m\n\u001b[1;32m     19\u001b[0m     \u001b[0mprint\u001b[0m\u001b[0;34m(\u001b[0m\u001b[0mname\u001b[0m\u001b[0;34m)\u001b[0m\u001b[0;34m\u001b[0m\u001b[0m\n\u001b[1;32m     20\u001b[0m     \u001b[0mrowIdx\u001b[0m \u001b[0;34m=\u001b[0m \u001b[0mperFamilyDf\u001b[0m\u001b[0;34m.\u001b[0m\u001b[0mindex\u001b[0m\u001b[0;34m[\u001b[0m\u001b[0mperFamilyDf\u001b[0m\u001b[0;34m[\u001b[0m\u001b[0;34m'Person'\u001b[0m\u001b[0;34m]\u001b[0m \u001b[0;34m==\u001b[0m \u001b[0mname\u001b[0m\u001b[0;34m]\u001b[0m\u001b[0;34m\u001b[0m\u001b[0m\n\u001b[0;32m---> 21\u001b[0;31m     \u001b[0;32mreturn\u001b[0m \u001b[0mperFamilyDf\u001b[0m\u001b[0;34m.\u001b[0m\u001b[0mloc\u001b[0m\u001b[0;34m[\u001b[0m\u001b[0mrowIdx\u001b[0m\u001b[0;34m[\u001b[0m\u001b[0;36m0\u001b[0m\u001b[0;34m]\u001b[0m\u001b[0;34m,\u001b[0m \u001b[0;34m'FamilyName'\u001b[0m\u001b[0;34m]\u001b[0m\u001b[0;34m\u001b[0m\u001b[0m\n\u001b[0m\u001b[1;32m     22\u001b[0m \u001b[0;34m\u001b[0m\u001b[0m\n\u001b[1;32m     23\u001b[0m \u001b[0;32mfor\u001b[0m \u001b[0midx\u001b[0m \u001b[0;32min\u001b[0m \u001b[0mrange\u001b[0m\u001b[0;34m(\u001b[0m\u001b[0;36m0\u001b[0m\u001b[0;34m,\u001b[0m \u001b[0mlen\u001b[0m\u001b[0;34m(\u001b[0m\u001b[0mpeoEdgeDf\u001b[0m\u001b[0;34m)\u001b[0m\u001b[0;34m)\u001b[0m\u001b[0;34m:\u001b[0m\u001b[0;34m\u001b[0m\u001b[0m\n",
      "\u001b[0;32m/usr/local/lib/python3.7/site-packages/pandas/core/indexes/base.py\u001b[0m in \u001b[0;36m__getitem__\u001b[0;34m(self, key)\u001b[0m\n\u001b[1;32m   2082\u001b[0m \u001b[0;34m\u001b[0m\u001b[0m\n\u001b[1;32m   2083\u001b[0m         \u001b[0;32mif\u001b[0m \u001b[0mis_scalar\u001b[0m\u001b[0;34m(\u001b[0m\u001b[0mkey\u001b[0m\u001b[0;34m)\u001b[0m\u001b[0;34m:\u001b[0m\u001b[0;34m\u001b[0m\u001b[0m\n\u001b[0;32m-> 2084\u001b[0;31m             \u001b[0;32mreturn\u001b[0m \u001b[0mgetitem\u001b[0m\u001b[0;34m(\u001b[0m\u001b[0mkey\u001b[0m\u001b[0;34m)\u001b[0m\u001b[0;34m\u001b[0m\u001b[0m\n\u001b[0m\u001b[1;32m   2085\u001b[0m \u001b[0;34m\u001b[0m\u001b[0m\n\u001b[1;32m   2086\u001b[0m         \u001b[0;32mif\u001b[0m \u001b[0misinstance\u001b[0m\u001b[0;34m(\u001b[0m\u001b[0mkey\u001b[0m\u001b[0;34m,\u001b[0m \u001b[0mslice\u001b[0m\u001b[0;34m)\u001b[0m\u001b[0;34m:\u001b[0m\u001b[0;34m\u001b[0m\u001b[0m\n",
      "\u001b[0;31mIndexError\u001b[0m: index 0 is out of bounds for axis 0 with size 0"
     ]
    }
   ],
   "source": [
    "resList = []\n",
    "\n",
    "def familyID(nameId):\n",
    "    rowIdx = peoNodeDf.index[peoNodeDf['Id'] == nameId]\n",
    "#     print(rowIdx)\n",
    "    family = peoNodeDf.loc[rowIdx[0], 'familyname']\n",
    "    familyId = nodeDf.index[nodeDf['Label'] == family]\n",
    "    return nodeDf.loc[familyId[0], 'ID']\n",
    "    \n",
    "def familyName2ID(familyName):\n",
    "    familyId = nodeDf.index[nodeDf['Label'] == familyName]\n",
    "    return nodeDf.loc[familyId[0], 'ID']\n",
    "    \n",
    "def personName(nameId):\n",
    "    rowIdx = peoNodeDf.index[peoNodeDf['Id'] == nameId]\n",
    "    return peoNodeDf.loc[rowIdx[0], 'Label']\n",
    "    \n",
    "def personFamily(name):\n",
    "    print(name)\n",
    "    rowIdx = perFamilyDf.index[perFamilyDf['Person'] == name]\n",
    "    return perFamilyDf.loc[rowIdx[0], 'FamilyName']\n",
    "\n",
    "for idx in range(0, len(peoEdgeDf)):\n",
    "    row = peoEdgeDf.loc[idx]\n",
    "\n",
    "    source = row['Source']\n",
    "    target = row['Target']\n",
    "    \n",
    "    sourceID = familyID(source)\n",
    "    sourceName = personName(source)\n",
    "    targetID = familyID(target)\n",
    "    targetName = personName(target)\n",
    "    \n",
    "    sourceFamily = personFamily(sourceName)\n",
    "    sourceFamilyID = familyName2ID(sourceFamily)\n",
    "    targetFamily = personFamily(targetName)\n",
    "    targetFamilyID = familyName2ID(targetFamily)\n",
    "    \n",
    "    resList.append([sourceID, targetID, 'Undirected', sourceName, targetName, \n",
    "                    sourceFamily, targetFamily, sourceFamilyID, targetFamilyID])\n",
    "#     break\n",
    "\n",
    "print(len(resList), resList[0:5])"
   ]
  },
  {
   "cell_type": "code",
   "execution_count": null,
   "metadata": {},
   "outputs": [],
   "source": [
    "output_file = \"family_edges_20190512_v3.xlsx\"\n",
    "write_edges_file = '{0}/{1}'.format(filepath, output_file)\n",
    "outputDf = pd.DataFrame(resList, columns=['Source', 'Target', 'Type', 'SourceName', 'TargetName',\n",
    "                                         'SourceFamilyName', 'TargetFamilyName', \n",
    "                                         'SourceFamilyID', 'TargetFamilyID'])\n",
    "outputDf.head()"
   ]
  },
  {
   "cell_type": "code",
   "execution_count": null,
   "metadata": {},
   "outputs": [],
   "source": [
    "outputDf.to_excel(write_edges_file, index=False)"
   ]
  },
  {
   "cell_type": "code",
   "execution_count": null,
   "metadata": {},
   "outputs": [],
   "source": []
  }
 ],
 "metadata": {
  "kernelspec": {
   "display_name": "Python 3",
   "language": "python",
   "name": "python3"
  },
  "language_info": {
   "codemirror_mode": {
    "name": "ipython",
    "version": 3
   },
   "file_extension": ".py",
   "mimetype": "text/x-python",
   "name": "python",
   "nbconvert_exporter": "python",
   "pygments_lexer": "ipython3",
   "version": "3.7.0"
  }
 },
 "nbformat": 4,
 "nbformat_minor": 2
}
