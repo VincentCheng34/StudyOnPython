{
 "cells": [
  {
   "cell_type": "code",
   "execution_count": 1,
   "metadata": {},
   "outputs": [],
   "source": [
    "# SELECT DISTINCT ?manVal ?wifeVal ?womanVal ?husbandVal WHERE {\n",
    "#     {\n",
    "#         ?man a tbio:Person .\n",
    "#         ?man tbio:hasWife ?wife .\n",
    "#     }\n",
    "#     UNION\n",
    "#     {\n",
    "#         ?woman a tbio:Person .\n",
    "#         ?woman tbio:hasHusband ?husband .\n",
    "#     }\n",
    "#     BIND(STR(?man) AS ?manStr) .\n",
    "#     BIND(REPLACE(?manStr, \"http://tbio.orient.cas.cz#\", \"\") AS ?manVal) .\n",
    "#     BIND(STR(?wife) AS ?wifeStr) .\n",
    "#     BIND(REPLACE(?wifeStr, \"http://tbio.orient.cas.cz#\", \"\") AS ?wifeVal) .\n",
    "#     BIND(STR(?woman) AS ?womanStr) .\n",
    "#     BIND(REPLACE(?womanStr, \"http://tbio.orient.cas.cz#\", \"\") AS ?womanVal) .\n",
    "#     BIND(STR(?husband) AS ?husbandStr) .\n",
    "#     BIND(REPLACE(?husbandStr, \"http://tbio.orient.cas.cz#\", \"\") AS ?husbandVal) .\n",
    "# }"
   ]
  },
  {
   "cell_type": "code",
   "execution_count": 2,
   "metadata": {},
   "outputs": [],
   "source": [
    "import pandas as pd"
   ]
  },
  {
   "cell_type": "markdown",
   "metadata": {},
   "source": [
    "# Get marriages"
   ]
  },
  {
   "cell_type": "code",
   "execution_count": 3,
   "metadata": {},
   "outputs": [],
   "source": [
    "filepath = '/Volumes/backup_128G/z_repository/TBIO_data/RequestsFromTana/20190515'\n",
    "\n",
    "filename = 'marriages.tsv'\n",
    "\n",
    "read_filename = '{0}/{1}'.format(filepath, filename)"
   ]
  },
  {
   "cell_type": "code",
   "execution_count": 4,
   "metadata": {},
   "outputs": [
    {
     "data": {
      "text/plain": [
       "((3353, 4),   ?manVal ?wifeVal ?womanVal ?husbandVal\n",
       " 0     郭火炎       施珍                      \n",
       " 1     羅享錦      吳綢妹                      \n",
       " 2     林熊祥      陳師桓                      \n",
       " 3     林熊祥      蕭翠香                      \n",
       " 4     丁瑞圖       魏罔                      )"
      ]
     },
     "execution_count": 4,
     "metadata": {},
     "output_type": "execute_result"
    }
   ],
   "source": [
    "marriageDf = pd.read_csv(read_filename, delimiter='\\t')\n",
    "marriageDf.fillna('', inplace=True)\n",
    "marriageDf.shape, marriageDf.head()"
   ]
  },
  {
   "cell_type": "markdown",
   "metadata": {},
   "source": [
    "# To unique spouses"
   ]
  },
  {
   "cell_type": "code",
   "execution_count": 5,
   "metadata": {},
   "outputs": [],
   "source": [
    "startId = 10000\n",
    "personIds = {}\n",
    "marriageDic = {}\n",
    "for idx in range(0, len(marriageDf)):\n",
    "    row = marriageDf.loc[idx]\n",
    "\n",
    "    man = str(row['?manVal'])\n",
    "    wife = str(row['?wifeVal'])\n",
    "    woman = str(row['?womanVal'])\n",
    "    husband = str(row['?husbandVal'])\n",
    "    \n",
    "    if man != '' and man not in personIds:\n",
    "        personIds[man] = startId\n",
    "        startId += 1\n",
    "    if wife != '' and wife not in personIds:\n",
    "        personIds[wife] = startId\n",
    "        startId += 1\n",
    "    if woman != '' and woman not in personIds:\n",
    "        personIds[woman] = startId\n",
    "        startId += 1\n",
    "    if husband != '' and husband not in personIds:\n",
    "        personIds[husband] = startId\n",
    "        startId += 1\n",
    "        \n",
    "    if man not in marriageDic:\n",
    "        marriageDic[man] = [wife]\n",
    "    elif wife not in marriageDic[man]:\n",
    "        marriageDic[man].append(wife)\n",
    "#     else:\n",
    "#         print(\"man WRONG:\", man, wife)\n",
    "\n",
    "    if wife not in marriageDic:\n",
    "        marriageDic[wife] = [man]\n",
    "    elif man not in marriageDic[wife]:\n",
    "        marriageDic[wife].append(man)\n",
    "#     else:\n",
    "#         print(\"wife WRONG:\", wife, man)\n",
    "        \n",
    "    if woman not in marriageDic:\n",
    "        marriageDic[woman] = [husband]\n",
    "    elif husband not in marriageDic[woman]:\n",
    "        marriageDic[woman].append(husband)\n",
    "#     else:\n",
    "#         print(\"woman WRONG:\", woman, husband)\n",
    "        \n",
    "    if husband not in marriageDic:\n",
    "        marriageDic[husband] = [woman]\n",
    "    elif woman not in marriageDic[husband]:\n",
    "        marriageDic[husband].append(woman)\n",
    "#     else:\n",
    "#         print(\"husband WRONG:\", husband, woman)\n",
    "        \n",
    "# marriageDic"
   ]
  },
  {
   "cell_type": "code",
   "execution_count": 6,
   "metadata": {},
   "outputs": [
    {
     "data": {
      "text/plain": [
       "3922"
      ]
     },
     "execution_count": 6,
     "metadata": {},
     "output_type": "execute_result"
    }
   ],
   "source": [
    "len(personIds)"
   ]
  },
  {
   "cell_type": "code",
   "execution_count": 7,
   "metadata": {},
   "outputs": [
    {
     "data": {
      "text/html": [
       "<div>\n",
       "<style scoped>\n",
       "    .dataframe tbody tr th:only-of-type {\n",
       "        vertical-align: middle;\n",
       "    }\n",
       "\n",
       "    .dataframe tbody tr th {\n",
       "        vertical-align: top;\n",
       "    }\n",
       "\n",
       "    .dataframe thead th {\n",
       "        text-align: right;\n",
       "    }\n",
       "</style>\n",
       "<table border=\"1\" class=\"dataframe\">\n",
       "  <thead>\n",
       "    <tr style=\"text-align: right;\">\n",
       "      <th></th>\n",
       "      <th>ID</th>\n",
       "    </tr>\n",
       "  </thead>\n",
       "  <tbody>\n",
       "    <tr>\n",
       "      <th>郭火炎</th>\n",
       "      <td>10000</td>\n",
       "    </tr>\n",
       "    <tr>\n",
       "      <th>施珍</th>\n",
       "      <td>10001</td>\n",
       "    </tr>\n",
       "    <tr>\n",
       "      <th>羅享錦</th>\n",
       "      <td>10002</td>\n",
       "    </tr>\n",
       "    <tr>\n",
       "      <th>吳綢妹</th>\n",
       "      <td>10003</td>\n",
       "    </tr>\n",
       "    <tr>\n",
       "      <th>林熊祥</th>\n",
       "      <td>10004</td>\n",
       "    </tr>\n",
       "  </tbody>\n",
       "</table>\n",
       "</div>"
      ],
      "text/plain": [
       "        ID\n",
       "郭火炎  10000\n",
       "施珍   10001\n",
       "羅享錦  10002\n",
       "吳綢妹  10003\n",
       "林熊祥  10004"
      ]
     },
     "execution_count": 7,
     "metadata": {},
     "output_type": "execute_result"
    }
   ],
   "source": [
    "personDf = pd.DataFrame(personIds, index=['ID']).T\n",
    "personDf.head()"
   ]
  },
  {
   "cell_type": "code",
   "execution_count": 8,
   "metadata": {},
   "outputs": [],
   "source": [
    "write_nodes_to = '{0}/{1}'.format(filepath, 'nodes_person_20190516_v2.xlsx')\n",
    "personDf.to_excel(write_nodes_to)"
   ]
  },
  {
   "cell_type": "markdown",
   "metadata": {},
   "source": [
    "# Read person-family map table"
   ]
  },
  {
   "cell_type": "code",
   "execution_count": 9,
   "metadata": {},
   "outputs": [],
   "source": [
    "familymembers = 'Familymembers.xlsx'\n",
    "\n",
    "read_familymembers = '{0}/{1}'.format(filepath, familymembers)"
   ]
  },
  {
   "cell_type": "code",
   "execution_count": 10,
   "metadata": {},
   "outputs": [
    {
     "data": {
      "text/plain": [
       "((4546, 2),   personStr familyStr\n",
       " 0       何佩娟      何傳家系\n",
       " 1       何佩珊      何傳家系\n",
       " 2       何佩珍      何傳家系\n",
       " 3        何傳      何傳家系\n",
       " 4       何培庭      何傳家系)"
      ]
     },
     "execution_count": 10,
     "metadata": {},
     "output_type": "execute_result"
    }
   ],
   "source": [
    "fmDf = pd.read_excel(read_familymembers)\n",
    "fmDf.shape, fmDf.head()"
   ]
  },
  {
   "cell_type": "code",
   "execution_count": 11,
   "metadata": {},
   "outputs": [],
   "source": [
    "startId = 20000\n",
    "familyIds = {}\n",
    "fmDic = {}\n",
    "for idx in range(0, len(fmDf)):\n",
    "    row = fmDf.loc[idx]\n",
    "\n",
    "    person = str(row['personStr'])\n",
    "    family = str(row['familyStr'])\n",
    "    \n",
    "    if family not in familyIds:\n",
    "        familyIds[family] = startId\n",
    "        startId += 1\n",
    "        \n",
    "    if person not in fmDic:\n",
    "        fmDic[person] = family\n",
    "    elif family != fmDic[person]:\n",
    "        print(\"Dup:\", person, family, fmDic[person])\n",
    "\n",
    "# fmDic"
   ]
  },
  {
   "cell_type": "code",
   "execution_count": 12,
   "metadata": {},
   "outputs": [
    {
     "data": {
      "text/plain": [
       "1222"
      ]
     },
     "execution_count": 12,
     "metadata": {},
     "output_type": "execute_result"
    }
   ],
   "source": [
    "len(familyIds)"
   ]
  },
  {
   "cell_type": "code",
   "execution_count": 13,
   "metadata": {},
   "outputs": [
    {
     "data": {
      "text/html": [
       "<div>\n",
       "<style scoped>\n",
       "    .dataframe tbody tr th:only-of-type {\n",
       "        vertical-align: middle;\n",
       "    }\n",
       "\n",
       "    .dataframe tbody tr th {\n",
       "        vertical-align: top;\n",
       "    }\n",
       "\n",
       "    .dataframe thead th {\n",
       "        text-align: right;\n",
       "    }\n",
       "</style>\n",
       "<table border=\"1\" class=\"dataframe\">\n",
       "  <thead>\n",
       "    <tr style=\"text-align: right;\">\n",
       "      <th></th>\n",
       "      <th>ID</th>\n",
       "    </tr>\n",
       "  </thead>\n",
       "  <tbody>\n",
       "    <tr>\n",
       "      <th>何傳家系</th>\n",
       "      <td>20000</td>\n",
       "    </tr>\n",
       "    <tr>\n",
       "      <th>李招治家族</th>\n",
       "      <td>20001</td>\n",
       "    </tr>\n",
       "    <tr>\n",
       "      <th>李火木家族</th>\n",
       "      <td>20002</td>\n",
       "    </tr>\n",
       "    <tr>\n",
       "      <th>林妙真家族</th>\n",
       "      <td>20003</td>\n",
       "    </tr>\n",
       "    <tr>\n",
       "      <th>林富香家族</th>\n",
       "      <td>20004</td>\n",
       "    </tr>\n",
       "  </tbody>\n",
       "</table>\n",
       "</div>"
      ],
      "text/plain": [
       "          ID\n",
       "何傳家系   20000\n",
       "李招治家族  20001\n",
       "李火木家族  20002\n",
       "林妙真家族  20003\n",
       "林富香家族  20004"
      ]
     },
     "execution_count": 13,
     "metadata": {},
     "output_type": "execute_result"
    }
   ],
   "source": [
    "familyDf = pd.DataFrame(familyIds, index=['ID']).T\n",
    "familyDf.head()"
   ]
  },
  {
   "cell_type": "code",
   "execution_count": 14,
   "metadata": {},
   "outputs": [],
   "source": [
    "write_nodes_to = '{0}/{1}'.format(filepath, 'nodes_family_20190516_v2.xlsx')\n",
    "familyDf.to_excel(write_nodes_to)"
   ]
  },
  {
   "cell_type": "markdown",
   "metadata": {},
   "source": [
    "# results"
   ]
  },
  {
   "cell_type": "markdown",
   "metadata": {},
   "source": [
    "### `Source (Family)` | `Target(Family)`| `Type(Undirected)` | `Person/Source` | `Person/target`"
   ]
  },
  {
   "cell_type": "code",
   "execution_count": 15,
   "metadata": {
    "scrolled": false
   },
   "outputs": [
    {
     "name": "stdout",
     "output_type": "stream",
     "text": [
      "2573\n"
     ]
    }
   ],
   "source": [
    "def getFamilyName(INperson):\n",
    "    if INperson not in fmDic:\n",
    "#         print(INperson, \" Not found!\")\n",
    "        return ''\n",
    "    return fmDic[INperson]\n",
    "\n",
    "def getPersonId(INperson):\n",
    "    if INperson not in personIds:\n",
    "        return 0\n",
    "    return personIds[INperson]\n",
    "\n",
    "def getFamilyId(INfamily):\n",
    "    if INfamily not in familyIds:\n",
    "        return 0\n",
    "    return familyIds[INfamily]\n",
    "\n",
    "resList = []\n",
    "for sPerson in marriageDic:\n",
    "    spouses = marriageDic[sPerson]\n",
    "    for tPerson in spouses:\n",
    "        sFamily = getFamilyName(sPerson)\n",
    "        tFamily = getFamilyName(tPerson)\n",
    "        \n",
    "        if sFamily == '' or tFamily == '':\n",
    "#             print(fPerson, fFamily, sPerson, sFamily)\n",
    "            continue\n",
    "\n",
    "        sPersonId = getPersonId(sPerson)\n",
    "        tPersonId = getPersonId(tPerson)\n",
    "        sFamilyId = getFamilyId(sFamily)\n",
    "        tFamilyId = getFamilyId(tFamily)\n",
    "        resList.append([sFamilyId, tFamilyId, 'Undirected', sPersonId, tPersonId])\n",
    "\n",
    "print(len(resList))"
   ]
  },
  {
   "cell_type": "code",
   "execution_count": 16,
   "metadata": {},
   "outputs": [
    {
     "data": {
      "text/html": [
       "<div>\n",
       "<style scoped>\n",
       "    .dataframe tbody tr th:only-of-type {\n",
       "        vertical-align: middle;\n",
       "    }\n",
       "\n",
       "    .dataframe tbody tr th {\n",
       "        vertical-align: top;\n",
       "    }\n",
       "\n",
       "    .dataframe thead th {\n",
       "        text-align: right;\n",
       "    }\n",
       "</style>\n",
       "<table border=\"1\" class=\"dataframe\">\n",
       "  <thead>\n",
       "    <tr style=\"text-align: right;\">\n",
       "      <th></th>\n",
       "      <th>SourceFamily</th>\n",
       "      <th>TargetFamily</th>\n",
       "      <th>Type</th>\n",
       "      <th>SourcePerson</th>\n",
       "      <th>TargetPerson</th>\n",
       "    </tr>\n",
       "  </thead>\n",
       "  <tbody>\n",
       "    <tr>\n",
       "      <th>91</th>\n",
       "      <td>20000</td>\n",
       "      <td>20001</td>\n",
       "      <td>Undirected</td>\n",
       "      <td>10300</td>\n",
       "      <td>10301</td>\n",
       "    </tr>\n",
       "    <tr>\n",
       "      <th>1638</th>\n",
       "      <td>20000</td>\n",
       "      <td>20002</td>\n",
       "      <td>Undirected</td>\n",
       "      <td>12970</td>\n",
       "      <td>12969</td>\n",
       "    </tr>\n",
       "    <tr>\n",
       "      <th>1642</th>\n",
       "      <td>20000</td>\n",
       "      <td>20003</td>\n",
       "      <td>Undirected</td>\n",
       "      <td>12974</td>\n",
       "      <td>12975</td>\n",
       "    </tr>\n",
       "    <tr>\n",
       "      <th>92</th>\n",
       "      <td>20000</td>\n",
       "      <td>20004</td>\n",
       "      <td>Undirected</td>\n",
       "      <td>10300</td>\n",
       "      <td>10302</td>\n",
       "    </tr>\n",
       "    <tr>\n",
       "      <th>1634</th>\n",
       "      <td>20000</td>\n",
       "      <td>20005</td>\n",
       "      <td>Undirected</td>\n",
       "      <td>12966</td>\n",
       "      <td>12965</td>\n",
       "    </tr>\n",
       "  </tbody>\n",
       "</table>\n",
       "</div>"
      ],
      "text/plain": [
       "      SourceFamily  TargetFamily        Type  SourcePerson  TargetPerson\n",
       "91           20000         20001  Undirected         10300         10301\n",
       "1638         20000         20002  Undirected         12970         12969\n",
       "1642         20000         20003  Undirected         12974         12975\n",
       "92           20000         20004  Undirected         10300         10302\n",
       "1634         20000         20005  Undirected         12966         12965"
      ]
     },
     "execution_count": 16,
     "metadata": {},
     "output_type": "execute_result"
    }
   ],
   "source": [
    "resDf = pd.DataFrame(resList, columns=['SourceFamily', 'TargetFamily', 'Type', \n",
    "                                       'SourcePerson', 'TargetPerson'])\n",
    "resDf.drop_duplicates(keep='first', inplace=True)\n",
    "resDf.sort_values(by=['SourceFamily', 'TargetFamily', 'SourcePerson', 'TargetPerson'], inplace=True)\n",
    "resDf.head()"
   ]
  },
  {
   "cell_type": "code",
   "execution_count": 17,
   "metadata": {},
   "outputs": [
    {
     "name": "stdout",
     "output_type": "stream",
     "text": [
      "2573\n"
     ]
    }
   ],
   "source": [
    "print(len(resDf))"
   ]
  },
  {
   "cell_type": "code",
   "execution_count": 18,
   "metadata": {},
   "outputs": [],
   "source": [
    "write_file_to = '{0}/{1}'.format(filepath, 'marriages_20190516_v2.xlsx')\n",
    "resDf.to_excel(write_file_to, index=False)"
   ]
  },
  {
   "cell_type": "code",
   "execution_count": null,
   "metadata": {},
   "outputs": [],
   "source": []
  }
 ],
 "metadata": {
  "kernelspec": {
   "display_name": "Python 3",
   "language": "python",
   "name": "python3"
  },
  "language_info": {
   "codemirror_mode": {
    "name": "ipython",
    "version": 3
   },
   "file_extension": ".py",
   "mimetype": "text/x-python",
   "name": "python",
   "nbconvert_exporter": "python",
   "pygments_lexer": "ipython3",
   "version": "3.7.0"
  }
 },
 "nbformat": 4,
 "nbformat_minor": 2
}
