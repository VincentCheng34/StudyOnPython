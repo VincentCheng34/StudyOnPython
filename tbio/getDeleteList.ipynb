{
 "cells": [
  {
   "cell_type": "code",
   "execution_count": 1,
   "metadata": {},
   "outputs": [],
   "source": [
    "import pandas as pd"
   ]
  },
  {
   "cell_type": "code",
   "execution_count": 2,
   "metadata": {},
   "outputs": [],
   "source": [
    "filepath = '/Volumes/backup_128G/z_repository/TBIO_data/RequestsFromTana/all_org_classes'\n",
    "\n",
    "all_orgs = 'query_all_org_class_results2.xlsx'\n",
    "v10_tana = 'output_class_to_orgs_20190501_v10_tana.xlsx'\n",
    "outfile = 'orgs_deleted_20190508_v1.xlsx'\n",
    "\n",
    "read_v10_tana = '{0}/{1}'.format(filepath, v10_tana)\n",
    "read_all_orgs = '{0}/{1}'.format(filepath, all_orgs)\n",
    "write_file_to = '{0}/{1}'.format(filepath, outfile)"
   ]
  },
  {
   "cell_type": "markdown",
   "metadata": {},
   "source": [
    "# All organizations"
   ]
  },
  {
   "cell_type": "code",
   "execution_count": 3,
   "metadata": {},
   "outputs": [
    {
     "data": {
      "text/plain": [
       "((35591, 3),   graph              orgName                                 class\n",
       " 0   yjc         Organization                                     0\n",
       " 1   yjc  PrivateOrganization  (公司設在竹東郡蕃地油羅山由台北海山郡及文山部的三井製材所提供原料),製\n",
       " 2   yjc         Organization  (公司設在竹東郡蕃地油羅山由台北海山郡及文山部的三井製材所提供原料),製\n",
       " 3   yjc         Organization                                     )\n",
       " 4   yjc         Organization                            +_後在嘉義設立分店)"
      ]
     },
     "execution_count": 3,
     "metadata": {},
     "output_type": "execute_result"
    }
   ],
   "source": [
    "orgDf = pd.read_excel(read_all_orgs)\n",
    "orgDf = orgDf.fillna(0)\n",
    "orgDf.shape, orgDf.head()"
   ]
  },
  {
   "cell_type": "code",
   "execution_count": 4,
   "metadata": {},
   "outputs": [
    {
     "data": {
      "text/plain": [
       "['0',\n",
       " '(公司設在竹東郡蕃地油羅山由台北海山郡及文山部的三井製材所提供原料),製',\n",
       " ')',\n",
       " '+_後在嘉義設立分店',\n",
       " '+_獲特選第一名及台展賞']"
      ]
     },
     "execution_count": 4,
     "metadata": {},
     "output_type": "execute_result"
    }
   ],
   "source": [
    "orgList = []\n",
    "for idx in range(0, len(orgDf)):\n",
    "    row = orgDf.loc[idx]\n",
    "\n",
    "    org = str(row['class'])\n",
    "    \n",
    "    if org in orgList:\n",
    "        continue\n",
    "            \n",
    "    orgList.append(org)\n",
    "\n",
    "orgList[0:5]"
   ]
  },
  {
   "cell_type": "markdown",
   "metadata": {},
   "source": [
    "# Organizations Tana works on"
   ]
  },
  {
   "cell_type": "code",
   "execution_count": 5,
   "metadata": {},
   "outputs": [
    {
     "data": {
      "text/plain": [
       "((19439, 5),\n",
       "      Graph   Organization        SocietalSector                        Period  \\\n",
       " 0  chrj_pr  _台灣青年_刊物任發行編輯             MassMedia      EarlyPostWarOrganization   \n",
       " 1  chrj_pr         艋舺保良分局  PublicAdministration     UnknownPeriodOrganization   \n",
       " 2  chrj_pr         鹿港保良總局  PublicAdministration     UnknownPeriodOrganization   \n",
       " 3  chrj_pr         林本源製糖社       PrivateBusiness  JapaneseColonialOrganization   \n",
       " 4  chrj_pr            阿緱廳  PublicAdministration  JapaneseColonialOrganization   \n",
       " \n",
       "   Correct name  \n",
       " 0      台灣青年雜誌社  \n",
       " 1            0  \n",
       " 2            0  \n",
       " 3            0  \n",
       " 4            0  )"
      ]
     },
     "execution_count": 5,
     "metadata": {},
     "output_type": "execute_result"
    }
   ],
   "source": [
    "workDf = pd.read_excel(read_v10_tana)\n",
    "workDf = workDf.fillna(0)\n",
    "workDf.shape, workDf.head()"
   ]
  },
  {
   "cell_type": "code",
   "execution_count": 11,
   "metadata": {},
   "outputs": [
    {
     "name": "stdout",
     "output_type": "stream",
     "text": [
      "15 8\n"
     ]
    }
   ],
   "source": [
    "societalSectorList = []\n",
    "periodList = []\n",
    "\n",
    "for idx in range(0, len(workDf)):\n",
    "    row = workDf.loc[idx]\n",
    "\n",
    "    societal = str(row['SocietalSector'])\n",
    "    period = str(row['Period'])\n",
    "\n",
    "    if societal not in societalSectorList:\n",
    "        societalSectorList.append(societal)\n",
    "\n",
    "    if period not in periodList:\n",
    "        periodList.append(period)\n",
    "        \n",
    "print(len(societalSectorList), len(periodList))"
   ]
  },
  {
   "cell_type": "code",
   "execution_count": 13,
   "metadata": {},
   "outputs": [
    {
     "name": "stdout",
     "output_type": "stream",
     "text": [
      "['MassMedia', 'PublicAdministration', 'PrivateBusiness', 'VoluntaryAssociation', 'Hospital', 'Academia_Education', 'Police', 'ReligiousOrganization', 'StateBusiness', 'CulturalOrganization', 'ArmedForces', 'Politics', 'UnknownSector', '0', 'NeedToBeSolved']\n"
     ]
    }
   ],
   "source": [
    "print(societalSectorList)"
   ]
  },
  {
   "cell_type": "code",
   "execution_count": 14,
   "metadata": {},
   "outputs": [
    {
     "name": "stdout",
     "output_type": "stream",
     "text": [
      "['EarlyPostWarOrganization', 'UnknownPeriodOrganization', 'JapaneseColonialOrganization', 'BothPeriods', 'PreRetrossecionRepublicanOrganization', 'QingPeriodOrganization', '0', 'PrivateBusiness']\n"
     ]
    }
   ],
   "source": [
    "print(periodList)"
   ]
  },
  {
   "cell_type": "code",
   "execution_count": 6,
   "metadata": {},
   "outputs": [
    {
     "data": {
      "text/plain": [
       "['_台灣青年_刊物任發行編輯', '艋舺保良分局', '鹿港保良總局', '林本源製糖社', '阿緱廳']"
      ]
     },
     "execution_count": 6,
     "metadata": {},
     "output_type": "execute_result"
    }
   ],
   "source": [
    "workList = []\n",
    "for idx in range(0, len(workDf)):\n",
    "    row = workDf.loc[idx]\n",
    "\n",
    "    org = str(row['Organization'])\n",
    "    \n",
    "    if org in workList:\n",
    "        continue\n",
    "            \n",
    "    workList.append(org)\n",
    "\n",
    "workList[0:5]"
   ]
  },
  {
   "cell_type": "markdown",
   "metadata": {},
   "source": [
    "# Get the deleted Organizations"
   ]
  },
  {
   "cell_type": "code",
   "execution_count": 7,
   "metadata": {},
   "outputs": [
    {
     "name": "stdout",
     "output_type": "stream",
     "text": [
      "2269 ['0', '(公司設在竹東郡蕃地油羅山由台北海山郡及文山部的三井製材所提供原料),製', ')', '+_後在嘉義設立分店', '+_獲特選第一名及台展賞']\n"
     ]
    }
   ],
   "source": [
    "deletedList = []\n",
    "for org in orgList:\n",
    "    if org in workList:\n",
    "        continue\n",
    "    if org in deletedList:\n",
    "        continue\n",
    "    \n",
    "    deletedList.append(org)\n",
    "    \n",
    "print(len(deletedList), deletedList[0:5])"
   ]
  },
  {
   "cell_type": "markdown",
   "metadata": {},
   "source": [
    "# Output to deleted list file"
   ]
  },
  {
   "cell_type": "code",
   "execution_count": 8,
   "metadata": {},
   "outputs": [
    {
     "data": {
      "text/html": [
       "<div>\n",
       "<style scoped>\n",
       "    .dataframe tbody tr th:only-of-type {\n",
       "        vertical-align: middle;\n",
       "    }\n",
       "\n",
       "    .dataframe tbody tr th {\n",
       "        vertical-align: top;\n",
       "    }\n",
       "\n",
       "    .dataframe thead th {\n",
       "        text-align: right;\n",
       "    }\n",
       "</style>\n",
       "<table border=\"1\" class=\"dataframe\">\n",
       "  <thead>\n",
       "    <tr style=\"text-align: right;\">\n",
       "      <th></th>\n",
       "      <th>deleted</th>\n",
       "    </tr>\n",
       "  </thead>\n",
       "  <tbody>\n",
       "    <tr>\n",
       "      <th>0</th>\n",
       "      <td>0</td>\n",
       "    </tr>\n",
       "    <tr>\n",
       "      <th>1</th>\n",
       "      <td>(公司設在竹東郡蕃地油羅山由台北海山郡及文山部的三井製材所提供原料),製</td>\n",
       "    </tr>\n",
       "    <tr>\n",
       "      <th>2</th>\n",
       "      <td>)</td>\n",
       "    </tr>\n",
       "    <tr>\n",
       "      <th>3</th>\n",
       "      <td>+_後在嘉義設立分店</td>\n",
       "    </tr>\n",
       "    <tr>\n",
       "      <th>4</th>\n",
       "      <td>+_獲特選第一名及台展賞</td>\n",
       "    </tr>\n",
       "  </tbody>\n",
       "</table>\n",
       "</div>"
      ],
      "text/plain": [
       "                                deleted\n",
       "0                                     0\n",
       "1  (公司設在竹東郡蕃地油羅山由台北海山郡及文山部的三井製材所提供原料),製\n",
       "2                                     )\n",
       "3                            +_後在嘉義設立分店\n",
       "4                          +_獲特選第一名及台展賞"
      ]
     },
     "execution_count": 8,
     "metadata": {},
     "output_type": "execute_result"
    }
   ],
   "source": [
    "delDf = pd.DataFrame(deletedList, columns=['deleted'])\n",
    "delDf.head()"
   ]
  },
  {
   "cell_type": "code",
   "execution_count": 9,
   "metadata": {},
   "outputs": [],
   "source": [
    "delDf.to_excel(write_file_to)"
   ]
  },
  {
   "cell_type": "code",
   "execution_count": null,
   "metadata": {},
   "outputs": [],
   "source": []
  }
 ],
 "metadata": {
  "kernelspec": {
   "display_name": "Python 3",
   "language": "python",
   "name": "python3"
  },
  "language_info": {
   "codemirror_mode": {
    "name": "ipython",
    "version": 3
   },
   "file_extension": ".py",
   "mimetype": "text/x-python",
   "name": "python",
   "nbconvert_exporter": "python",
   "pygments_lexer": "ipython3",
   "version": "3.7.0"
  }
 },
 "nbformat": 4,
 "nbformat_minor": 2
}
