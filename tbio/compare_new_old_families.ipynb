{
 "cells": [
  {
   "cell_type": "code",
   "execution_count": 1,
   "metadata": {},
   "outputs": [],
   "source": [
    "import stardog\n",
    "import json\n",
    "\n",
    "#tbio-conn-admin-ptc.json\n",
    "adminFile = '/Users/vincent/Projects/TBIO/tbio-conn-admin-local.json'\n",
    "conn_details = {}\n",
    "with open(adminFile, 'r') as readFile:\n",
    "    conn_details = json.loads(readFile.read())"
   ]
  },
  {
   "cell_type": "markdown",
   "metadata": {},
   "source": [
    "# Download the member of the family"
   ]
  },
  {
   "cell_type": "code",
   "execution_count": 2,
   "metadata": {},
   "outputs": [],
   "source": [
    "def getMembers(queryRes):\n",
    "    members = []\n",
    "    for personVal in queryRes['results']['bindings']:\n",
    "        person = personVal['personVal']['value']\n",
    "        if person not in members:\n",
    "            members.append(person)\n",
    "#         print(personVal['personVal']['value'])\n",
    "    return members"
   ]
  },
  {
   "cell_type": "code",
   "execution_count": 3,
   "metadata": {},
   "outputs": [],
   "source": [
    "def familyMemberQry(familyName):\n",
    "    return \"\"\"SELECT DISTINCT ?personVal WHERE {\n",
    "    GRAPH ?graph {\n",
    "        ?person a tbio:Person .\n",
    "        ?person tbio:isMemberOfFamily ?familyEvt .\n",
    "        ?familyEvt tbio:hasFamily <http://tbio.orient.cas.cz#%s> .\n",
    "        BIND(STR(?person) AS ?personStr) .\n",
    "        BIND(REPLACE(?personStr, \"http://tbio.orient.cas.cz#\", \"\") AS ?personVal) .\n",
    "    }\n",
    "}\"\"\" % (familyName)"
   ]
  },
  {
   "cell_type": "markdown",
   "metadata": {},
   "source": [
    "# 台灣五大族"
   ]
  },
  {
   "cell_type": "code",
   "execution_count": 4,
   "metadata": {},
   "outputs": [],
   "source": [
    "oldFamilies = [\n",
    "'林文察家系',\n",
    "'林文明家系',\n",
    "'林獻堂家系',\n",
    "'林維德家系',\n",
    "'林維讓家系',\n",
    "'林維源家系',\n",
    "'基隆顏家家族',\n",
    "'辜顯榮家系',\n",
    "'辜振甫家系',\n",
    "'陳啓清家系',\n",
    "'陳啓川家系'\n",
    "]"
   ]
  },
  {
   "cell_type": "code",
   "execution_count": 5,
   "metadata": {
    "scrolled": true
   },
   "outputs": [],
   "source": [
    "oldFamilyWMembers = {}\n",
    "with stardog.Connection('tbio', **conn_details) as conn:\n",
    "    for family in oldFamilies:\n",
    "        query = familyMemberQry(family)\n",
    "\n",
    "        # dic\n",
    "        results = conn.select(query)\n",
    "        members = getMembers(results)\n",
    "        \n",
    "        # '林文察家系': ['楊天錫', '林培英', '施璇璣', ...], '林文明家系': [...]\n",
    "        oldFamilyWMembers[family] = members\n",
    "\n",
    "# oldFamilyWMembers"
   ]
  },
  {
   "cell_type": "markdown",
   "metadata": {},
   "source": [
    "# 新五家"
   ]
  },
  {
   "cell_type": "code",
   "execution_count": 6,
   "metadata": {},
   "outputs": [],
   "source": [
    "newFamilies = [\n",
    "'國泰蔡家家系',\n",
    "'吳三連家族',\n",
    "'蔡萬才家系',\n",
    "'何義家系',\n",
    "'何傳家系',\n",
    "'何永家系',\n",
    "'吳火獅家系',\n",
    "'侯雨利家系',\n",
    "'吳修齊家系'\n",
    "]"
   ]
  },
  {
   "cell_type": "code",
   "execution_count": 7,
   "metadata": {},
   "outputs": [],
   "source": [
    "newFamilyWMembers = {}\n",
    "with stardog.Connection('tbio', **conn_details) as conn:\n",
    "    for family in newFamilies:\n",
    "        query = familyMemberQry(family)\n",
    "\n",
    "        # dic\n",
    "        results = conn.select(query)\n",
    "        members = getMembers(results)\n",
    "        \n",
    "        # '林文察家系': ['楊天錫', '林培英', '施璇璣', ...], '林文明家系': [...]\n",
    "        newFamilyWMembers[family] = members\n",
    "\n",
    "# newFamilyWMembers"
   ]
  },
  {
   "cell_type": "markdown",
   "metadata": {},
   "source": [
    "# member connected?"
   ]
  },
  {
   "cell_type": "code",
   "execution_count": 8,
   "metadata": {},
   "outputs": [],
   "source": [
    "def relationConnect(queryRes):\n",
    "    connection = []\n",
    "    for result in queryRes['results']['bindings']:\n",
    "        relation = result['p']['value'].replace('http://tbio.orient.cas.cz#', '')\n",
    "        fromWho = result['x']['value'].replace('http://tbio.orient.cas.cz#', '')\n",
    "        toWho = result['y']['value'].replace('http://tbio.orient.cas.cz#', '')\n",
    "        \n",
    "        if len(connection) == 0:\n",
    "            connection.append(fromWho)\n",
    "        if connection[-1] != fromWho:\n",
    "            connection.append(fromWho)\n",
    "        connection.append(relation)\n",
    "        connection.append(toWho)\n",
    "\n",
    "    return connection"
   ]
  },
  {
   "cell_type": "code",
   "execution_count": 9,
   "metadata": {},
   "outputs": [],
   "source": [
    "def familyRelationQry(person1, person2):\n",
    "    return \"\"\"PATHS \n",
    "    START ?x = <http://tbio.orient.cas.cz#%s> \n",
    "    END ?y = <http://tbio.orient.cas.cz#%s> \n",
    "VIA {\n",
    "    ?x ?p ?y .\n",
    "    ?p rdfs:subPropertyOf ?familyOP .\n",
    "    FILTER ( ?familyOP = tbio:hasFamilyRelation || ?familyOP = tbio:isFamilyRelationOf ) .\n",
    "} LIMIT 1\"\"\" % (person1, person2)"
   ]
  },
  {
   "cell_type": "code",
   "execution_count": 10,
   "metadata": {
    "scrolled": true
   },
   "outputs": [],
   "source": [
    "def queryNewFamily(oldfamily, oldperson):\n",
    "    connList = []\n",
    "    for newfamily in newFamilyWMembers:\n",
    "        newmembers = newFamilyWMembers[newfamily]\n",
    "        for newperson in newmembers:\n",
    "\n",
    "            query = familyRelationQry(oldperson, newperson)\n",
    "\n",
    "            # dic\n",
    "            results = conn.paths(query)\n",
    "            connection = relationConnect(results)\n",
    "#             print(oldfamily, oldperson, newfamily, newperson, connection)\n",
    "            \n",
    "            if len(connection) > 0:\n",
    "                connList.append([oldfamily, oldperson, newfamily, newperson, connection])\n",
    "                break\n",
    "#             return connection\n",
    "    return connList\n",
    "\n",
    "def queryConnection():\n",
    "    connectList = []\n",
    "    with stardog.Connection('tbio', **conn_details) as conn:\n",
    "        for oldfamily in oldFamilyWMembers:\n",
    "            oldmembers = oldFamilyWMembers[oldfamily]\n",
    "            for oldperson in oldmembers:\n",
    "                connList = queryNewFamily(oldfamily, oldperson)\n",
    "                connectList.extend(connList)\n",
    "                break\n",
    "\n",
    "    return connectList"
   ]
  },
  {
   "cell_type": "code",
   "execution_count": 11,
   "metadata": {},
   "outputs": [],
   "source": [
    "resList = queryConnection()"
   ]
  },
  {
   "cell_type": "code",
   "execution_count": 12,
   "metadata": {},
   "outputs": [
    {
     "data": {
      "text/plain": [
       "[['林文察家系',\n",
       "  '楊天錫',\n",
       "  '國泰蔡家家系',\n",
       "  '蔡淑貞',\n",
       "  ['楊天錫',\n",
       "   'hasBrother',\n",
       "   '楊肇嘉',\n",
       "   'hasDaughter',\n",
       "   '楊湘薰',\n",
       "   'hasHusband',\n",
       "   '蔡萬才',\n",
       "   'hasBrother',\n",
       "   '蔡萬春',\n",
       "   'hasDaughter',\n",
       "   '蔡淑貞']]]"
      ]
     },
     "execution_count": 12,
     "metadata": {},
     "output_type": "execute_result"
    }
   ],
   "source": [
    "resList[0:1]"
   ]
  },
  {
   "cell_type": "code",
   "execution_count": 13,
   "metadata": {},
   "outputs": [
    {
     "data": {
      "text/html": [
       "<div>\n",
       "<style scoped>\n",
       "    .dataframe tbody tr th:only-of-type {\n",
       "        vertical-align: middle;\n",
       "    }\n",
       "\n",
       "    .dataframe tbody tr th {\n",
       "        vertical-align: top;\n",
       "    }\n",
       "\n",
       "    .dataframe thead th {\n",
       "        text-align: right;\n",
       "    }\n",
       "</style>\n",
       "<table border=\"1\" class=\"dataframe\">\n",
       "  <thead>\n",
       "    <tr style=\"text-align: right;\">\n",
       "      <th></th>\n",
       "      <th>SourceFamily</th>\n",
       "      <th>SourcePerson</th>\n",
       "      <th>TargetFamily</th>\n",
       "      <th>TargetPerson</th>\n",
       "      <th>Path</th>\n",
       "    </tr>\n",
       "  </thead>\n",
       "  <tbody>\n",
       "    <tr>\n",
       "      <th>0</th>\n",
       "      <td>林文察家系</td>\n",
       "      <td>楊天錫</td>\n",
       "      <td>國泰蔡家家系</td>\n",
       "      <td>蔡淑貞</td>\n",
       "      <td>[楊天錫, hasBrother, 楊肇嘉, hasDaughter, 楊湘薰, hasHu...</td>\n",
       "    </tr>\n",
       "    <tr>\n",
       "      <th>1</th>\n",
       "      <td>林文察家系</td>\n",
       "      <td>楊天錫</td>\n",
       "      <td>吳三連家族</td>\n",
       "      <td>吳三連</td>\n",
       "      <td>[楊天錫, hasBrother, 楊天賦, hasDaughter, 楊素娥, hasHu...</td>\n",
       "    </tr>\n",
       "    <tr>\n",
       "      <th>2</th>\n",
       "      <td>林文察家系</td>\n",
       "      <td>楊天錫</td>\n",
       "      <td>蔡萬才家系</td>\n",
       "      <td>楊湘薰</td>\n",
       "      <td>[楊天錫, hasBrother, 楊肇嘉, hasDaughter, 楊湘薰]</td>\n",
       "    </tr>\n",
       "    <tr>\n",
       "      <th>3</th>\n",
       "      <td>林文察家系</td>\n",
       "      <td>楊天錫</td>\n",
       "      <td>何義家系</td>\n",
       "      <td>何傳</td>\n",
       "      <td>[楊天錫, hasBrother, 楊天賦, hasSon, 楊基炘, hasWife, 何...</td>\n",
       "    </tr>\n",
       "    <tr>\n",
       "      <th>4</th>\n",
       "      <td>林文察家系</td>\n",
       "      <td>楊天錫</td>\n",
       "      <td>何傳家系</td>\n",
       "      <td>何傳</td>\n",
       "      <td>[楊天錫, hasBrother, 楊天賦, hasSon, 楊基炘, hasWife, 何...</td>\n",
       "    </tr>\n",
       "  </tbody>\n",
       "</table>\n",
       "</div>"
      ],
      "text/plain": [
       "  SourceFamily SourcePerson TargetFamily TargetPerson  \\\n",
       "0        林文察家系          楊天錫       國泰蔡家家系          蔡淑貞   \n",
       "1        林文察家系          楊天錫        吳三連家族          吳三連   \n",
       "2        林文察家系          楊天錫        蔡萬才家系          楊湘薰   \n",
       "3        林文察家系          楊天錫         何義家系           何傳   \n",
       "4        林文察家系          楊天錫         何傳家系           何傳   \n",
       "\n",
       "                                                Path  \n",
       "0  [楊天錫, hasBrother, 楊肇嘉, hasDaughter, 楊湘薰, hasHu...  \n",
       "1  [楊天錫, hasBrother, 楊天賦, hasDaughter, 楊素娥, hasHu...  \n",
       "2           [楊天錫, hasBrother, 楊肇嘉, hasDaughter, 楊湘薰]  \n",
       "3  [楊天錫, hasBrother, 楊天賦, hasSon, 楊基炘, hasWife, 何...  \n",
       "4  [楊天錫, hasBrother, 楊天賦, hasSon, 楊基炘, hasWife, 何...  "
      ]
     },
     "execution_count": 13,
     "metadata": {},
     "output_type": "execute_result"
    }
   ],
   "source": [
    "import pandas as pd\n",
    "finalDf = pd.DataFrame(resList, columns=['SourceFamily', 'SourcePerson', 'TargetFamily', 'TargetPerson', 'Path'])\n",
    "finalDf.head()"
   ]
  },
  {
   "cell_type": "code",
   "execution_count": 14,
   "metadata": {},
   "outputs": [],
   "source": [
    "filepath = '/Volumes/backup_128G/z_repository/TBIO_data/RequestsFromTana/20190523'\n",
    "write_file_to = '{0}/{1}'.format(filepath, 'familyToFamily_20190523_v1.xlsx')\n",
    "finalDf.to_excel(write_file_to, index=False)"
   ]
  },
  {
   "cell_type": "markdown",
   "metadata": {},
   "source": [
    "# Another way to get connections"
   ]
  },
  {
   "cell_type": "code",
   "execution_count": 15,
   "metadata": {},
   "outputs": [],
   "source": [
    "# import pandas as pd"
   ]
  },
  {
   "cell_type": "code",
   "execution_count": 16,
   "metadata": {},
   "outputs": [],
   "source": [
    "# filepath = '/Volumes/backup_128G/z_repository/TBIO_data/RequestsFromTana/20190523'\n",
    "\n",
    "# filename = 'familyRelations_20190516.tsv'\n",
    "\n",
    "# read_filename = '{0}/{1}'.format(filepath, filename)"
   ]
  },
  {
   "cell_type": "code",
   "execution_count": 17,
   "metadata": {},
   "outputs": [],
   "source": [
    "# workDf = pd.read_csv(read_filename, delimiter='\\t')\n",
    "# workDf = workDf.fillna('')\n",
    "# workDf.shape, workDf.head()"
   ]
  },
  {
   "cell_type": "code",
   "execution_count": 18,
   "metadata": {},
   "outputs": [],
   "source": [
    "# workList = []\n",
    "# for idx in range(0, len(workDf)):\n",
    "#     row = workDf.loc[idx]\n",
    "\n",
    "#     sPerson = str(row['?personVal'])\n",
    "#     relation = str(row['?relationVal'])\n",
    "#     tPerson = str(row['?toPVal'])\n",
    "    \n",
    "#     if sPerson == '' or tPerson == '':\n",
    "#         continue\n",
    "        \n",
    "#     toRow = [sPerson, relation, tPerson]\n",
    "\n",
    "#     if toRow not in workList:\n",
    "#         workList.append(toRow)\n",
    "#     else:\n",
    "#         print(\"DUP!\", toRow)\n",
    "    \n",
    "# print(len(workList))"
   ]
  },
  {
   "cell_type": "markdown",
   "metadata": {},
   "source": [
    "# Filter out inverse relations"
   ]
  },
  {
   "cell_type": "code",
   "execution_count": 19,
   "metadata": {},
   "outputs": [],
   "source": [
    "# def findInverse(INsPerson, INtPerson):\n",
    "#     for work in workList:\n",
    "#         sPerson = work[0]\n",
    "#         relation = work[1]\n",
    "#         tPerson = work[2]\n",
    "        \n",
    "# #         if INsPerson == sPerson and INtPerson == tPerson:\n",
    "# # #             print(INsPerson, INtPerson, work)\n",
    "# #             return relation\n",
    "#         if INsPerson == tPerson and INtPerson == sPerson:\n",
    "# #             print(INsPerson, INtPerson, work)\n",
    "#             return relation\n",
    "#     return ''\n",
    "\n",
    "# relationList = []\n",
    "# for work in workList:\n",
    "#     sPerson = work[0]\n",
    "#     relation = work[1]\n",
    "#     tPerson = work[2]\n",
    "\n",
    "#     if 'has' in relation:\n",
    "#         relationList.append(work)\n",
    "#         continue\n",
    "    \n",
    "#     OUTrelation = findInverse(sPerson, tPerson)\n",
    "#     if OUTrelation == '':\n",
    "#         relationList.append(work)\n",
    "        \n",
    "# #     if 'has' in OUTrelation:\n",
    "# #         resList.append([sPerson, OUTrelation, tPerson])\n",
    "# #     elif OUTrelation != '':\n",
    "# #         resList.append(work)\n",
    "\n",
    "# print(len(relationList), relationList[0:5])"
   ]
  },
  {
   "cell_type": "markdown",
   "metadata": {},
   "source": [
    "# Run connection finding"
   ]
  },
  {
   "cell_type": "code",
   "execution_count": 20,
   "metadata": {},
   "outputs": [],
   "source": [
    "# def findRelation(INsPerson, INtPerson):\n",
    "#     for triple in relationList:\n",
    "#         sPerson = triple[0]\n",
    "#         relation = triple[1]\n",
    "#         tPerson = triple[2]\n",
    "        \n",
    "#         if INsPerson == sPerson and INtPerson == tPerson:\n",
    "#             return [INsPerson, relation, INtPerson]\n",
    "        \n",
    "#         if INsPerson == tPerson and INtPerson == tPerson:\n",
    "#             return [INsPerson, \"-{}\".format(relation), INtPerson]\n",
    "#     return None"
   ]
  },
  {
   "cell_type": "code",
   "execution_count": 21,
   "metadata": {},
   "outputs": [],
   "source": [
    "# def runConnection():\n",
    "#     count = 0\n",
    "#     for oldfamily in oldFamilyWMembers:\n",
    "#         oldmembers = oldFamilyWMembers[oldfamily]\n",
    "#         for oldperson in oldmembers:\n",
    "\n",
    "#             for newfamily in newFamilyWMembers:\n",
    "#                 newmembers = newFamilyWMembers[newfamily]\n",
    "#                 for newperson in newmembers:\n",
    "#                     print(oldperson, newperson)\n",
    "#                     print(findRelation(oldperson, newperson))\n",
    "#                     if count >= 3:\n",
    "#                         return\n",
    "#                     count += 1"
   ]
  },
  {
   "cell_type": "code",
   "execution_count": 22,
   "metadata": {},
   "outputs": [],
   "source": [
    "# runConnection()"
   ]
  },
  {
   "cell_type": "code",
   "execution_count": null,
   "metadata": {},
   "outputs": [],
   "source": []
  }
 ],
 "metadata": {
  "kernelspec": {
   "display_name": "Python 3",
   "language": "python",
   "name": "python3"
  },
  "language_info": {
   "codemirror_mode": {
    "name": "ipython",
    "version": 3
   },
   "file_extension": ".py",
   "mimetype": "text/x-python",
   "name": "python",
   "nbconvert_exporter": "python",
   "pygments_lexer": "ipython3",
   "version": "3.7.0"
  }
 },
 "nbformat": 4,
 "nbformat_minor": 2
}
