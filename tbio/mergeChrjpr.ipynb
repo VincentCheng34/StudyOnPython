{
 "cells": [
  {
   "cell_type": "code",
   "execution_count": 1,
   "metadata": {},
   "outputs": [],
   "source": [
    "import pandas as pd"
   ]
  },
  {
   "cell_type": "code",
   "execution_count": 2,
   "metadata": {},
   "outputs": [],
   "source": [
    "filepath = '/Volumes/backup_128G/z_repository/TBIO_data/RequestsFromTana/all_org_classes'\n",
    "\n",
    "chrjpr_orgs = 'chrjpr_org_all.tsv'\n",
    "v10_tana = 'output_class_to_orgs_20190501_v10_tana.xlsx'\n",
    "outfile = 'org2Graph.xlsx'\n",
    "\n",
    "read_v10_tana = '{0}/{1}'.format(filepath, v10_tana)\n",
    "read_chrjpr_orgs = '{0}/{1}'.format(filepath, chrjpr_orgs)\n",
    "write_file_to = '{0}/{1}'.format(filepath, outfile)"
   ]
  },
  {
   "cell_type": "markdown",
   "metadata": {},
   "source": [
    "## Orgnizations related to chrj_pr"
   ]
  },
  {
   "cell_type": "code",
   "execution_count": 3,
   "metadata": {},
   "outputs": [
    {
     "data": {
      "text/plain": [
       "((2442, 1),          org\n",
       " 0      漢學造詣深\n",
       " 1       日本留學\n",
       " 2    年在福州習漢學\n",
       " 3  學習院,中學部畢業\n",
       " 4          ?)"
      ]
     },
     "execution_count": 3,
     "metadata": {},
     "output_type": "execute_result"
    }
   ],
   "source": [
    "prDf = pd.read_csv(read_chrjpr_orgs)\n",
    "prDf.shape, prDf.head()"
   ]
  },
  {
   "cell_type": "code",
   "execution_count": 4,
   "metadata": {},
   "outputs": [
    {
     "name": "stdout",
     "output_type": "stream",
     "text": [
      "公學校\n",
      "臺北帝國大學\n",
      "國語學校\n",
      "?\n",
      "國立台灣大學法律系\n",
      "臺北神學院\n",
      "台北醫學院\n",
      "熊本医科大学\n",
      "漢學\n",
      "台北帝國大學醫學專門部\n",
      "臺北醫學專門學校\n",
      "臺灣文化協會\n",
      "文化協會\n",
      "臺灣議會期成同盟會\n",
      "臺灣民報社\n",
      "台灣地方自治聯盟\n",
      "新民會\n",
      "臺灣雜誌社\n"
     ]
    },
    {
     "data": {
      "text/plain": [
       "['漢學造詣深', '日本留學', '年在福州習漢學', '學習院,中學部畢業', '?']"
      ]
     },
     "execution_count": 4,
     "metadata": {},
     "output_type": "execute_result"
    }
   ],
   "source": [
    "prResults = []\n",
    "for idx in range(0, len(prDf)):\n",
    "    row = prDf.loc[idx]\n",
    "#     print(row)\n",
    "\n",
    "    org = str(row['org'])\n",
    "    \n",
    "    if org in prResults:\n",
    "        print(org)\n",
    "        continue\n",
    "            \n",
    "    prResults.append(org)\n",
    "\n",
    "prResults[0:5]"
   ]
  },
  {
   "cell_type": "markdown",
   "metadata": {},
   "source": [
    "## Organizations Tana works on"
   ]
  },
  {
   "cell_type": "code",
   "execution_count": 5,
   "metadata": {},
   "outputs": [
    {
     "data": {
      "text/html": [
       "<div>\n",
       "<style scoped>\n",
       "    .dataframe tbody tr th:only-of-type {\n",
       "        vertical-align: middle;\n",
       "    }\n",
       "\n",
       "    .dataframe tbody tr th {\n",
       "        vertical-align: top;\n",
       "    }\n",
       "\n",
       "    .dataframe thead th {\n",
       "        text-align: right;\n",
       "    }\n",
       "</style>\n",
       "<table border=\"1\" class=\"dataframe\">\n",
       "  <thead>\n",
       "    <tr style=\"text-align: right;\">\n",
       "      <th></th>\n",
       "      <th>Organization</th>\n",
       "      <th>SocietalSector</th>\n",
       "      <th>Period</th>\n",
       "      <th>Correct name</th>\n",
       "    </tr>\n",
       "  </thead>\n",
       "  <tbody>\n",
       "    <tr>\n",
       "      <th>0</th>\n",
       "      <td>上海真如學院</td>\n",
       "      <td>Academia_Education</td>\n",
       "      <td>JapaneseColonialOrganization</td>\n",
       "      <td>0</td>\n",
       "    </tr>\n",
       "    <tr>\n",
       "      <th>1</th>\n",
       "      <td>下關商業學校</td>\n",
       "      <td>Academia_Education</td>\n",
       "      <td>JapaneseColonialOrganization</td>\n",
       "      <td>0</td>\n",
       "    </tr>\n",
       "    <tr>\n",
       "      <th>2</th>\n",
       "      <td>中埔公學校白芒埔分教場</td>\n",
       "      <td>Academia_Education</td>\n",
       "      <td>JapaneseColonialOrganization</td>\n",
       "      <td>0</td>\n",
       "    </tr>\n",
       "    <tr>\n",
       "      <th>3</th>\n",
       "      <td>中埔公學校頂六分教場</td>\n",
       "      <td>Academia_Education</td>\n",
       "      <td>JapaneseColonialOrganization</td>\n",
       "      <td>0</td>\n",
       "    </tr>\n",
       "    <tr>\n",
       "      <th>4</th>\n",
       "      <td>中壢皇民奉公會</td>\n",
       "      <td>PublicAdministration</td>\n",
       "      <td>JapaneseColonialOrganization</td>\n",
       "      <td>0</td>\n",
       "    </tr>\n",
       "  </tbody>\n",
       "</table>\n",
       "</div>"
      ],
      "text/plain": [
       "  Organization        SocietalSector                        Period  \\\n",
       "0       上海真如學院    Academia_Education  JapaneseColonialOrganization   \n",
       "1       下關商業學校    Academia_Education  JapaneseColonialOrganization   \n",
       "2  中埔公學校白芒埔分教場    Academia_Education  JapaneseColonialOrganization   \n",
       "3   中埔公學校頂六分教場    Academia_Education  JapaneseColonialOrganization   \n",
       "4      中壢皇民奉公會  PublicAdministration  JapaneseColonialOrganization   \n",
       "\n",
       "  Correct name  \n",
       "0            0  \n",
       "1            0  \n",
       "2            0  \n",
       "3            0  \n",
       "4            0  "
      ]
     },
     "execution_count": 5,
     "metadata": {},
     "output_type": "execute_result"
    }
   ],
   "source": [
    "workDf = pd.read_excel(read_v10_tana)\n",
    "workDf = workDf.fillna(0)\n",
    "workDf.head()"
   ]
  },
  {
   "cell_type": "code",
   "execution_count": 6,
   "metadata": {},
   "outputs": [
    {
     "data": {
      "text/plain": [
       "[['上海真如學院', ''],\n",
       " ['下關商業學校', ''],\n",
       " ['中埔公學校白芒埔分教場', ''],\n",
       " ['中埔公學校頂六分教場', ''],\n",
       " ['中壢皇民奉公會', '']]"
      ]
     },
     "execution_count": 6,
     "metadata": {},
     "output_type": "execute_result"
    }
   ],
   "source": [
    "workResults = []\n",
    "for idx in range(0, len(workDf)):\n",
    "    row = workDf.loc[idx]\n",
    "\n",
    "    org = str(row['Organization'])\n",
    "    \n",
    "    if org in prResults:\n",
    "        workResults.append([org, 'chrj_pr'])\n",
    "        continue\n",
    "\n",
    "    workResults.append([org, ''])\n",
    "    \n",
    "workResults[0:5]"
   ]
  },
  {
   "cell_type": "code",
   "execution_count": 7,
   "metadata": {},
   "outputs": [],
   "source": [
    "# Insert the orgs which are not in the table\n",
    "for prRes in prResults:\n",
    "    # check org is in table list or not\n",
    "    graph = 'chrj_pr'\n",
    "    for workRes in workResults:\n",
    "        org = workRes[0]\n",
    "        if org == prRes:\n",
    "            graph = ''\n",
    "            break\n",
    "            \n",
    "    if graph != '':\n",
    "#         print([prRes, graph])\n",
    "        workResults.append([prRes, graph])\n",
    "        "
   ]
  },
  {
   "cell_type": "code",
   "execution_count": 8,
   "metadata": {},
   "outputs": [
    {
     "data": {
      "text/html": [
       "<div>\n",
       "<style scoped>\n",
       "    .dataframe tbody tr th:only-of-type {\n",
       "        vertical-align: middle;\n",
       "    }\n",
       "\n",
       "    .dataframe tbody tr th {\n",
       "        vertical-align: top;\n",
       "    }\n",
       "\n",
       "    .dataframe thead th {\n",
       "        text-align: right;\n",
       "    }\n",
       "</style>\n",
       "<table border=\"1\" class=\"dataframe\">\n",
       "  <thead>\n",
       "    <tr style=\"text-align: right;\">\n",
       "      <th></th>\n",
       "      <th>org</th>\n",
       "      <th>graph</th>\n",
       "    </tr>\n",
       "  </thead>\n",
       "  <tbody>\n",
       "    <tr>\n",
       "      <th>0</th>\n",
       "      <td>上海真如學院</td>\n",
       "      <td></td>\n",
       "    </tr>\n",
       "    <tr>\n",
       "      <th>1</th>\n",
       "      <td>下關商業學校</td>\n",
       "      <td></td>\n",
       "    </tr>\n",
       "    <tr>\n",
       "      <th>2</th>\n",
       "      <td>中埔公學校白芒埔分教場</td>\n",
       "      <td></td>\n",
       "    </tr>\n",
       "    <tr>\n",
       "      <th>3</th>\n",
       "      <td>中埔公學校頂六分教場</td>\n",
       "      <td></td>\n",
       "    </tr>\n",
       "    <tr>\n",
       "      <th>4</th>\n",
       "      <td>中壢皇民奉公會</td>\n",
       "      <td></td>\n",
       "    </tr>\n",
       "  </tbody>\n",
       "</table>\n",
       "</div>"
      ],
      "text/plain": [
       "           org graph\n",
       "0       上海真如學院      \n",
       "1       下關商業學校      \n",
       "2  中埔公學校白芒埔分教場      \n",
       "3   中埔公學校頂六分教場      \n",
       "4      中壢皇民奉公會      "
      ]
     },
     "execution_count": 8,
     "metadata": {},
     "output_type": "execute_result"
    }
   ],
   "source": [
    "orgDf = pd.DataFrame(workResults, columns=['org', 'graph'])\n",
    "orgDf.head()"
   ]
  },
  {
   "cell_type": "code",
   "execution_count": 9,
   "metadata": {},
   "outputs": [],
   "source": [
    "write_orgGraph_file = '{0}/{1}'.format(filepath, 'orgGraphFile.xlsx')\n",
    "orgDf.to_excel(write_orgGraph_file)"
   ]
  },
  {
   "cell_type": "code",
   "execution_count": null,
   "metadata": {},
   "outputs": [],
   "source": []
  }
 ],
 "metadata": {
  "kernelspec": {
   "display_name": "Python 3",
   "language": "python",
   "name": "python3"
  },
  "language_info": {
   "codemirror_mode": {
    "name": "ipython",
    "version": 3
   },
   "file_extension": ".py",
   "mimetype": "text/x-python",
   "name": "python",
   "nbconvert_exporter": "python",
   "pygments_lexer": "ipython3",
   "version": "3.7.0"
  }
 },
 "nbformat": 4,
 "nbformat_minor": 2
}
