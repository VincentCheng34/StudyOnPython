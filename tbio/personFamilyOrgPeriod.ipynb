{
 "cells": [
  {
   "cell_type": "code",
   "execution_count": 1,
   "metadata": {},
   "outputs": [],
   "source": [
    "# SELECT DISTINCT ?person ?fam ?org ?orgO WHERE {\n",
    "#     GRAPH <http://tbio.orient.cas.cz/chrj_pr> {\n",
    "#         ?person tbio:isMemberOfFamily ?p .\n",
    "#         ?p tbio:hasFamily ?fam .\n",
    "#         FILTER(!sameterm(?fam, tbio:WufengLinFamily)) .\n",
    "#     }\n",
    "#     OPTIONAL {\n",
    "#         ?person ?orgP ?orgEvt .\n",
    "#         FILTER(sameterm(?orgP, tbio:attendsSchool) || sameterm(?orgP, tbio:hasEmployment) || sameterm(?orgP, tbio:hasMembership))\n",
    "#         ?orgEvt ?orgAt ?org .\n",
    "#         FILTER(sameterm(?orgAt, tbio:educationAt) || sameterm(?orgAt, tbio:employmentAt) || sameterm(?orgAt, tbio:hasMembershipAt))\n",
    "#         ?org rdf:type ?orgO .\n",
    "#     }\n",
    "# }"
   ]
  },
  {
   "cell_type": "code",
   "execution_count": 2,
   "metadata": {},
   "outputs": [],
   "source": [
    "import pandas as pd"
   ]
  },
  {
   "cell_type": "code",
   "execution_count": 23,
   "metadata": {},
   "outputs": [],
   "source": [
    "filepath = '/Volumes/backup_128G/z_repository/TBIO_data/RequestsFromTana/all_org_classes/connections'\n",
    "\n",
    "filename = 'personFamilyOrgPeriod.tsv'\n",
    "\n",
    "read_filename = '{0}/{1}'.format(filepath, filename)"
   ]
  },
  {
   "cell_type": "code",
   "execution_count": 24,
   "metadata": {},
   "outputs": [
    {
     "data": {
      "text/plain": [
       "((13633, 4),\n",
       "                            ?person                              ?fam  \\\n",
       " 0  <http://tbio.orient.cas.cz#林熊祥>  <http://tbio.orient.cas.cz#嚴復家系>   \n",
       " 1  <http://tbio.orient.cas.cz#林熊祥>  <http://tbio.orient.cas.cz#嚴復家系>   \n",
       " 2  <http://tbio.orient.cas.cz#林熊祥>  <http://tbio.orient.cas.cz#嚴復家系>   \n",
       " 3  <http://tbio.orient.cas.cz#林熊祥>  <http://tbio.orient.cas.cz#嚴復家系>   \n",
       " 4  <http://tbio.orient.cas.cz#林熊祥>  <http://tbio.orient.cas.cz#嚴復家系>   \n",
       " \n",
       "                            ?org                                     ?orgO  \n",
       " 0  <http://tbio.orient.cas.cz#>              <http://tbio.orient.cas.cz#>  \n",
       " 1  <http://tbio.orient.cas.cz#>        <http://tbio.orient.cas.cz#Person>  \n",
       " 2  <http://tbio.orient.cas.cz#>  <http://www.w3.org/2002/07/owl#Ontology>  \n",
       " 3  <http://tbio.orient.cas.cz#>  <http://tbio.orient.cas.cz#Organization>  \n",
       " 4  <http://tbio.orient.cas.cz#>      <http://tbio.orient.cas.cz#Position>  )"
      ]
     },
     "execution_count": 24,
     "metadata": {},
     "output_type": "execute_result"
    }
   ],
   "source": [
    "workDf = pd.read_csv(read_filename, delimiter='\\t')\n",
    "# workDf = workDf.dropna()\n",
    "workDf.shape, workDf.head()"
   ]
  },
  {
   "cell_type": "code",
   "execution_count": 37,
   "metadata": {},
   "outputs": [],
   "source": [
    "# SELECT DISTINCT ?s WHERE {\n",
    "#     GRAPH ?graph {\n",
    "#         ?s rdfs:subClassOf tbio:Division_Period .\n",
    "#     }\n",
    "# }\n",
    "\n",
    "Division_Period = [\n",
    "    'JapaneseColonialOrganization',\n",
    "    'EarlyPostWarOrganization',\n",
    "    'RepublicanOrganization',\n",
    "    'BothPeriods',\n",
    "    'PreRetrossecionRepublicanOrganization',\n",
    "    'QingPeriodOrganization',\n",
    "    'UnknownPeriodOrganization'\n",
    "]"
   ]
  },
  {
   "cell_type": "code",
   "execution_count": 38,
   "metadata": {},
   "outputs": [],
   "source": [
    "# SELECT DISTINCT ?s WHERE {\n",
    "#     GRAPH ?graph {\n",
    "#         ?s rdfs:subClassOf tbio:SocietalSector .\n",
    "#     }\n",
    "# }\n",
    "\n",
    "SocietalSector = [\n",
    "    'Police',\n",
    "    'ArmedForces',\n",
    "    'Hospital',\n",
    "    'ReligiousOrganization',\n",
    "    'MassMedia',\n",
    "    'PublicAdministration',\n",
    "    'PrivateBusiness',\n",
    "    'VoluntaryAssociation',\n",
    "    'Academia_Education',\n",
    "    'StateBusiness',\n",
    "    'CulturalOrganization',\n",
    "    'Politics',\n",
    "    'UnknownSector'    \n",
    "]"
   ]
  },
  {
   "cell_type": "code",
   "execution_count": 42,
   "metadata": {},
   "outputs": [],
   "source": [
    "workList = []\n",
    "for idx in range(0, len(workDf)):\n",
    "    row = workDf.loc[idx]\n",
    "\n",
    "    person = str(row['?person']).replace(\"<http://tbio.orient.cas.cz#\", \"\").replace(\">\", \"\")\n",
    "    family = str(row['?fam']).replace(\"<http://tbio.orient.cas.cz#\", \"\").replace(\">\", \"\")\n",
    "    org = str(row['?org']).replace(\"<http://tbio.orient.cas.cz#\", \"\").replace(\">\", \"\")\n",
    "    orgO = str(row['?orgO']).replace(\"<http://tbio.orient.cas.cz#\", \"\").replace(\">\", \"\")\n",
    "\n",
    "    workList.append([person, family, org, orgO])"
   ]
  },
  {
   "cell_type": "code",
   "execution_count": 44,
   "metadata": {},
   "outputs": [
    {
     "name": "stdout",
     "output_type": "stream",
     "text": [
      "7178 [['林熊祥', '嚴復家系', 'JapaneseColonialOrganization', 'PrivateBusiness'], ['林熊祥', '嚴復家系', 'JapaneseColonialOrganization', 'PrivateBusiness'], ['林熊祥', '嚴復家系', 'JapaneseColonialOrganization', 'PrivateBusiness'], ['林熊祥', '嚴復家系', 'JapaneseColonialOrganization', 'PrivateBusiness'], ['林熊祥', '嚴復家系', 'JapaneseColonialOrganization', 'PrivateBusiness']]\n"
     ]
    }
   ],
   "source": [
    "def getPeriod(INperson, INfamily, INorg):\n",
    "    for row in workList:\n",
    "        person = row[0]\n",
    "        family = row[1]\n",
    "        org = row[2]\n",
    "        orgO = row[3]\n",
    "\n",
    "        if person == INperson and family == INfamily and org == INorg:\n",
    "            if orgO in Division_Period:\n",
    "                return orgO\n",
    "    return ''\n",
    "\n",
    "def getSocietal(INperson, INfamily, INorg):\n",
    "    for row in workList:\n",
    "        person = row[0]\n",
    "        family = row[1]\n",
    "        org = row[2]\n",
    "        orgO = row[3]\n",
    "\n",
    "        if person == INperson and family == INfamily and org == INorg:\n",
    "            if orgO in SocietalSector:\n",
    "                return orgO\n",
    "    return ''\n",
    "\n",
    "resList = []\n",
    "for row in workList:\n",
    "    person = row[0]\n",
    "    family = row[1]\n",
    "    org = row[2]\n",
    "    \n",
    "    period = getPeriod(person, family, org)\n",
    "    if period == '':\n",
    "        continue\n",
    "        \n",
    "    societal = getSocietal(person, family, org)\n",
    "    if societal == '':\n",
    "        continue\n",
    "\n",
    "    resList.append([person, family, period, societal])\n",
    "    \n",
    "print(len(resList), resList[0:5])"
   ]
  },
  {
   "cell_type": "code",
   "execution_count": 46,
   "metadata": {},
   "outputs": [
    {
     "data": {
      "text/html": [
       "<div>\n",
       "<style scoped>\n",
       "    .dataframe tbody tr th:only-of-type {\n",
       "        vertical-align: middle;\n",
       "    }\n",
       "\n",
       "    .dataframe tbody tr th {\n",
       "        vertical-align: top;\n",
       "    }\n",
       "\n",
       "    .dataframe thead th {\n",
       "        text-align: right;\n",
       "    }\n",
       "</style>\n",
       "<table border=\"1\" class=\"dataframe\">\n",
       "  <thead>\n",
       "    <tr style=\"text-align: right;\">\n",
       "      <th></th>\n",
       "      <th>Person</th>\n",
       "      <th>FamilyName</th>\n",
       "      <th>Organization</th>\n",
       "      <th>SocietalSection</th>\n",
       "    </tr>\n",
       "  </thead>\n",
       "  <tbody>\n",
       "    <tr>\n",
       "      <th>3817</th>\n",
       "      <td>何傳</td>\n",
       "      <td>何傳家系</td>\n",
       "      <td>BothPeriods</td>\n",
       "      <td>PublicAdministration</td>\n",
       "    </tr>\n",
       "    <tr>\n",
       "      <th>3819</th>\n",
       "      <td>何傳</td>\n",
       "      <td>何傳家系</td>\n",
       "      <td>JapaneseColonialOrganization</td>\n",
       "      <td>PublicAdministration</td>\n",
       "    </tr>\n",
       "    <tr>\n",
       "      <th>3821</th>\n",
       "      <td>何傳</td>\n",
       "      <td>何傳家系</td>\n",
       "      <td>JapaneseColonialOrganization</td>\n",
       "      <td>PrivateBusiness</td>\n",
       "    </tr>\n",
       "    <tr>\n",
       "      <th>3827</th>\n",
       "      <td>何傳</td>\n",
       "      <td>何傳家系</td>\n",
       "      <td>JapaneseColonialOrganization</td>\n",
       "      <td>VoluntaryAssociation</td>\n",
       "    </tr>\n",
       "    <tr>\n",
       "      <th>3855</th>\n",
       "      <td>何永</td>\n",
       "      <td>何傳家系</td>\n",
       "      <td>JapaneseColonialOrganization</td>\n",
       "      <td>PrivateBusiness</td>\n",
       "    </tr>\n",
       "  </tbody>\n",
       "</table>\n",
       "</div>"
      ],
      "text/plain": [
       "     Person FamilyName                  Organization       SocietalSection\n",
       "3817     何傳       何傳家系                   BothPeriods  PublicAdministration\n",
       "3819     何傳       何傳家系  JapaneseColonialOrganization  PublicAdministration\n",
       "3821     何傳       何傳家系  JapaneseColonialOrganization       PrivateBusiness\n",
       "3827     何傳       何傳家系  JapaneseColonialOrganization  VoluntaryAssociation\n",
       "3855     何永       何傳家系  JapaneseColonialOrganization       PrivateBusiness"
      ]
     },
     "execution_count": 46,
     "metadata": {},
     "output_type": "execute_result"
    }
   ],
   "source": [
    "orgDf = pd.DataFrame(resList, columns=['Person', 'FamilyName', 'Organization', 'SocietalSection'])\n",
    "orgDf.drop_duplicates(keep='first', inplace=True)\n",
    "orgDf.sort_values(by=['FamilyName', 'Person'], inplace=True)\n",
    "orgDf.head()"
   ]
  },
  {
   "cell_type": "code",
   "execution_count": 47,
   "metadata": {},
   "outputs": [],
   "source": [
    "write_file_to = '{0}/{1}'.format(filepath, 'personFamilyOrgPeriod_20190512_v1.xlsx')\n",
    "orgDf.to_excel(write_file_to, index=False)"
   ]
  },
  {
   "cell_type": "code",
   "execution_count": null,
   "metadata": {},
   "outputs": [],
   "source": []
  }
 ],
 "metadata": {
  "kernelspec": {
   "display_name": "Python 3",
   "language": "python",
   "name": "python3"
  },
  "language_info": {
   "codemirror_mode": {
    "name": "ipython",
    "version": 3
   },
   "file_extension": ".py",
   "mimetype": "text/x-python",
   "name": "python",
   "nbconvert_exporter": "python",
   "pygments_lexer": "ipython3",
   "version": "3.7.0"
  }
 },
 "nbformat": 4,
 "nbformat_minor": 2
}
