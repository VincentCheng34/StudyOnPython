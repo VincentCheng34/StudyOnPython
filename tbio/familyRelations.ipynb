{
 "cells": [
  {
   "cell_type": "code",
   "execution_count": 1,
   "metadata": {},
   "outputs": [],
   "source": [
    "# SELECT DISTINCT ?personVal ?relationVal ?toPVal WHERE { \n",
    "#     ?s a tbio:Person .\n",
    "#     ?s ?p ?o .\n",
    "\n",
    "#     ?p rdfs:subPropertyOf ?familyOP .\n",
    "#     FILTER ( ?familyOP = tbio:hasFamilyRelation || ?familyOP = tbio:isFamilyRelationOf ) .\n",
    "\n",
    "#     BIND(STR(?s) AS ?personStr) .\n",
    "#     BIND(REPLACE(?personStr, \"http://tbio.orient.cas.cz#\", \"\") AS ?personVal) .\n",
    "#     BIND(STR(?p) AS ?relationStr) .\n",
    "#     BIND(REPLACE(?relationStr, \"http://tbio.orient.cas.cz#\", \"\") AS ?relationVal) .\n",
    "#     BIND(STR(?o) AS ?toPStr) .\n",
    "#     BIND(REPLACE(?toPStr, \"http://tbio.orient.cas.cz#\", \"\") AS ?toPVal) .\n",
    "# }"
   ]
  },
  {
   "cell_type": "code",
   "execution_count": 2,
   "metadata": {},
   "outputs": [],
   "source": [
    "import pandas as pd"
   ]
  },
  {
   "cell_type": "code",
   "execution_count": 3,
   "metadata": {},
   "outputs": [],
   "source": [
    "filepath = '/Volumes/backup_128G/z_repository/TBIO_data/RequestsFromTana/20190515'\n",
    "\n",
    "filename = 'familyRelations_20190516.tsv'\n",
    "\n",
    "read_filename = '{0}/{1}'.format(filepath, filename)"
   ]
  },
  {
   "cell_type": "code",
   "execution_count": 4,
   "metadata": {},
   "outputs": [
    {
     "data": {
      "text/plain": [
       "((34141, 3),   ?personVal ?relationVal    ?toPVal\n",
       " 0        丁瑞彬   isFatherOf    丁瑞彬的女子1\n",
       " 1        李文後   isFatherOf    李文後的男子3\n",
       " 2        李文後   isFatherOf    李文後的男子2\n",
       " 3        林劍清   isFatherOf        林希頂\n",
       " 4        林玉雕   isFatherOf  林玉雕的男、女子8)"
      ]
     },
     "execution_count": 4,
     "metadata": {},
     "output_type": "execute_result"
    }
   ],
   "source": [
    "workDf = pd.read_csv(read_filename, delimiter='\\t')\n",
    "workDf = workDf.fillna('')\n",
    "workDf.shape, workDf.head()"
   ]
  },
  {
   "cell_type": "markdown",
   "metadata": {},
   "source": [
    "# Assign all relations"
   ]
  },
  {
   "cell_type": "code",
   "execution_count": 5,
   "metadata": {},
   "outputs": [
    {
     "name": "stdout",
     "output_type": "stream",
     "text": [
      "34129\n"
     ]
    }
   ],
   "source": [
    "workList = []\n",
    "for idx in range(0, len(workDf)):\n",
    "    row = workDf.loc[idx]\n",
    "\n",
    "    sPerson = str(row['?personVal'])\n",
    "    relation = str(row['?relationVal'])\n",
    "    tPerson = str(row['?toPVal'])\n",
    "    \n",
    "    if sPerson == '' or tPerson == '':\n",
    "        continue\n",
    "        \n",
    "    toRow = [sPerson, relation, tPerson]\n",
    "\n",
    "    if toRow not in workList:\n",
    "        workList.append(toRow)\n",
    "    else:\n",
    "        print(\"DUP!\", toRow)\n",
    "    \n",
    "print(len(workList))"
   ]
  },
  {
   "cell_type": "markdown",
   "metadata": {},
   "source": [
    "# Filter out inverse relations"
   ]
  },
  {
   "cell_type": "code",
   "execution_count": 6,
   "metadata": {},
   "outputs": [
    {
     "name": "stdout",
     "output_type": "stream",
     "text": [
      "31684 [['辜顯榮', 'isFatherOf', '原配__辜顯榮長女'], ['吳運豐', 'hasFather', '吳鴻森'], ['林自炎', 'hasFather', '林歡邦'], ['吳芳英', 'hasFather', '吳鴻麟'], ['許碧瑜', 'hasFather', '許丙']]\n"
     ]
    }
   ],
   "source": [
    "def findInverse(INsPerson, INtPerson):\n",
    "    for work in workList:\n",
    "        sPerson = work[0]\n",
    "        relation = work[1]\n",
    "        tPerson = work[2]\n",
    "        \n",
    "        if INsPerson == tPerson and INtPerson == sPerson:\n",
    "#             print(INsPerson, INtPerson, work)\n",
    "            return relation\n",
    "    return ''\n",
    "\n",
    "relationList = []\n",
    "for work in workList:\n",
    "    sPerson = work[0]\n",
    "    relation = work[1]\n",
    "    tPerson = work[2]\n",
    "\n",
    "    if 'has' in relation:\n",
    "        relationList.append(work)\n",
    "        continue\n",
    "    \n",
    "    OUTrelation = findInverse(sPerson, tPerson)\n",
    "    if OUTrelation == '':\n",
    "        relationList.append(work)\n",
    "        \n",
    "#     if 'has' in OUTrelation:\n",
    "#         resList.append([sPerson, OUTrelation, tPerson])\n",
    "#     elif OUTrelation != '':\n",
    "#         resList.append(work)\n",
    "\n",
    "print(len(relationList), relationList[0:5])"
   ]
  },
  {
   "cell_type": "code",
   "execution_count": 7,
   "metadata": {},
   "outputs": [],
   "source": [
    "# orgDf = pd.DataFrame(resList, columns=['SPerson', 'Relation', 'TPerson'])\n",
    "# orgDf.drop_duplicates(keep='first', inplace=True)\n",
    "# orgDf.sort_values(by=['SPerson', 'TPerson'], inplace=True)\n",
    "# orgDf.head()"
   ]
  },
  {
   "cell_type": "code",
   "execution_count": 8,
   "metadata": {},
   "outputs": [],
   "source": [
    "# orgDf.count()"
   ]
  },
  {
   "cell_type": "markdown",
   "metadata": {},
   "source": [
    "# Read person-family map table"
   ]
  },
  {
   "cell_type": "code",
   "execution_count": 9,
   "metadata": {},
   "outputs": [],
   "source": [
    "familymembers = 'Familymembers.xlsx'\n",
    "\n",
    "read_familymembers = '{0}/{1}'.format(filepath, familymembers)"
   ]
  },
  {
   "cell_type": "code",
   "execution_count": 10,
   "metadata": {},
   "outputs": [
    {
     "data": {
      "text/plain": [
       "((4546, 2),   personStr familyStr\n",
       " 0       何佩娟      何傳家系\n",
       " 1       何佩珊      何傳家系\n",
       " 2       何佩珍      何傳家系\n",
       " 3        何傳      何傳家系\n",
       " 4       何培庭      何傳家系)"
      ]
     },
     "execution_count": 10,
     "metadata": {},
     "output_type": "execute_result"
    }
   ],
   "source": [
    "fmDf = pd.read_excel(read_familymembers)\n",
    "fmDf.shape, fmDf.head()"
   ]
  },
  {
   "cell_type": "code",
   "execution_count": 11,
   "metadata": {},
   "outputs": [],
   "source": [
    "fmDic = {}\n",
    "# familiesDic = []\n",
    "for idx in range(0, len(fmDf)):\n",
    "    row = fmDf.loc[idx]\n",
    "\n",
    "    person = str(row['personStr'])\n",
    "    family = str(row['familyStr'])\n",
    "    \n",
    "    if person not in fmDic:\n",
    "        fmDic[person] = family\n",
    "    elif family != fmDic[person]:\n",
    "        print(\"Dup:\", person, family, fmDic[person])\n",
    "        \n",
    "#     if family not in familiesDic:\n",
    "#         familiesDic.append(family)\n",
    "\n",
    "# fmDic\n",
    "# print(len(familiesDic), familiesDic)"
   ]
  },
  {
   "cell_type": "code",
   "execution_count": 12,
   "metadata": {},
   "outputs": [
    {
     "name": "stdout",
     "output_type": "stream",
     "text": [
      "3019 [['吳芳英', 'hasFather', '吳鴻麟', '吳伯雄家系', '桃園吳家家系'], ['吳伯雄', 'hasFather', '吳鴻麟', '吳伯雄家系', '桃園吳家家系'], ['吳雪梅', 'hasFather', '吳鴻麟', '吳伯雄家系', '桃園吳家家系'], ['林國棟', 'hasFather', '林平侯', '林維源家系', '林維讓家系'], ['吳瑞枝', 'hasFather', '吳鴻麟', '吳伯雄家系', '桃園吳家家系']]\n"
     ]
    }
   ],
   "source": [
    "def getFamilyName(INperson):\n",
    "    if INperson not in fmDic:\n",
    "        return ''\n",
    "    return fmDic[INperson]\n",
    "\n",
    "resList = []\n",
    "for row in relationList:\n",
    "    sPerson = row[0]\n",
    "    relation = row[1]\n",
    "    tPerson = row[2]\n",
    "\n",
    "    sFamily = getFamilyName(sPerson)\n",
    "    if sFamily == '':\n",
    "        continue\n",
    "        \n",
    "    tFamily = getFamilyName(tPerson)\n",
    "    if tFamily == '':\n",
    "        continue\n",
    "\n",
    "    if sFamily != tFamily:\n",
    "        resList.append([sPerson, relation, tPerson, sFamily, tFamily])\n",
    "    \n",
    "print(len(resList), resList[0:5])"
   ]
  },
  {
   "cell_type": "code",
   "execution_count": 13,
   "metadata": {},
   "outputs": [
    {
     "name": "stdout",
     "output_type": "stream",
     "text": [
      "2603 ['吳芳英', '吳鴻麟', '吳伯雄']\n",
      "1207 ['吳伯雄家系', '桃園吳家家系', '林維源家系']\n"
     ]
    }
   ],
   "source": [
    "personList = []\n",
    "familyList = []\n",
    "\n",
    "for res in resList:\n",
    "    sPerson = res[0]\n",
    "#     relation = res[1]\n",
    "    tPerson = res[2]\n",
    "    sFamily = res[3]\n",
    "    tFamily = res[4]\n",
    "    \n",
    "    if sPerson not in personList:\n",
    "        personList.append(sPerson)\n",
    "    \n",
    "    if tPerson not in personList:\n",
    "        personList.append(tPerson)\n",
    "        \n",
    "    if sFamily not in familyList:\n",
    "        familyList.append(sFamily)\n",
    "        \n",
    "    if tFamily not in familyList:\n",
    "        familyList.append(tFamily)\n",
    "        \n",
    "print(len(personList), personList[0:3])\n",
    "print(len(familyList), familyList[0:3])"
   ]
  },
  {
   "cell_type": "code",
   "execution_count": 14,
   "metadata": {},
   "outputs": [
    {
     "data": {
      "text/html": [
       "<div>\n",
       "<style scoped>\n",
       "    .dataframe tbody tr th:only-of-type {\n",
       "        vertical-align: middle;\n",
       "    }\n",
       "\n",
       "    .dataframe tbody tr th {\n",
       "        vertical-align: top;\n",
       "    }\n",
       "\n",
       "    .dataframe thead th {\n",
       "        text-align: right;\n",
       "    }\n",
       "</style>\n",
       "<table border=\"1\" class=\"dataframe\">\n",
       "  <thead>\n",
       "    <tr style=\"text-align: right;\">\n",
       "      <th></th>\n",
       "      <th>PersonName</th>\n",
       "      <th>ID</th>\n",
       "    </tr>\n",
       "  </thead>\n",
       "  <tbody>\n",
       "    <tr>\n",
       "      <th>0</th>\n",
       "      <td>JudyHillKornhoff</td>\n",
       "      <td>1000</td>\n",
       "    </tr>\n",
       "    <tr>\n",
       "      <th>1</th>\n",
       "      <td>Ricahrd_B._Palmer</td>\n",
       "      <td>1001</td>\n",
       "    </tr>\n",
       "    <tr>\n",
       "      <th>2</th>\n",
       "      <td>一青和枝</td>\n",
       "      <td>1002</td>\n",
       "    </tr>\n",
       "    <tr>\n",
       "      <th>3</th>\n",
       "      <td>丁一天</td>\n",
       "      <td>1003</td>\n",
       "    </tr>\n",
       "    <tr>\n",
       "      <th>4</th>\n",
       "      <td>丁仲翹</td>\n",
       "      <td>1004</td>\n",
       "    </tr>\n",
       "  </tbody>\n",
       "</table>\n",
       "</div>"
      ],
      "text/plain": [
       "          PersonName    ID\n",
       "0   JudyHillKornhoff  1000\n",
       "1  Ricahrd_B._Palmer  1001\n",
       "2               一青和枝  1002\n",
       "3                丁一天  1003\n",
       "4                丁仲翹  1004"
      ]
     },
     "execution_count": 14,
     "metadata": {},
     "output_type": "execute_result"
    }
   ],
   "source": [
    "personDf = pd.DataFrame(personList)\n",
    "personDf = personDf.rename(columns = {0:'PersonName'})\n",
    "personDf.sort_values(by=['PersonName'], inplace=True)\n",
    "personDf.reset_index(inplace=True, drop=True)\n",
    "personDf['ID'] = personDf.index + 1000\n",
    "personDf.head()"
   ]
  },
  {
   "cell_type": "code",
   "execution_count": 15,
   "metadata": {},
   "outputs": [
    {
     "data": {
      "text/html": [
       "<div>\n",
       "<style scoped>\n",
       "    .dataframe tbody tr th:only-of-type {\n",
       "        vertical-align: middle;\n",
       "    }\n",
       "\n",
       "    .dataframe tbody tr th {\n",
       "        vertical-align: top;\n",
       "    }\n",
       "\n",
       "    .dataframe thead th {\n",
       "        text-align: right;\n",
       "    }\n",
       "</style>\n",
       "<table border=\"1\" class=\"dataframe\">\n",
       "  <thead>\n",
       "    <tr style=\"text-align: right;\">\n",
       "      <th></th>\n",
       "      <th>FamilyName</th>\n",
       "      <th>ID</th>\n",
       "    </tr>\n",
       "  </thead>\n",
       "  <tbody>\n",
       "    <tr>\n",
       "      <th>0</th>\n",
       "      <td>Kornhoff</td>\n",
       "      <td>2000</td>\n",
       "    </tr>\n",
       "    <tr>\n",
       "      <th>1</th>\n",
       "      <td>Ricahrd_B._Palmer家族</td>\n",
       "      <td>2001</td>\n",
       "    </tr>\n",
       "    <tr>\n",
       "      <th>2</th>\n",
       "      <td>一青和枝家族</td>\n",
       "      <td>2002</td>\n",
       "    </tr>\n",
       "    <tr>\n",
       "      <th>3</th>\n",
       "      <td>丁唯農家族</td>\n",
       "      <td>2003</td>\n",
       "    </tr>\n",
       "    <tr>\n",
       "      <th>4</th>\n",
       "      <td>丁守中家族</td>\n",
       "      <td>2004</td>\n",
       "    </tr>\n",
       "  </tbody>\n",
       "</table>\n",
       "</div>"
      ],
      "text/plain": [
       "            FamilyName    ID\n",
       "0             Kornhoff  2000\n",
       "1  Ricahrd_B._Palmer家族  2001\n",
       "2               一青和枝家族  2002\n",
       "3                丁唯農家族  2003\n",
       "4                丁守中家族  2004"
      ]
     },
     "execution_count": 15,
     "metadata": {},
     "output_type": "execute_result"
    }
   ],
   "source": [
    "familyDf = pd.DataFrame(familyList)\n",
    "familyDf = familyDf.rename(columns = {0:'FamilyName'})\n",
    "familyDf.sort_values(by=['FamilyName'], inplace=True)\n",
    "familyDf.reset_index(inplace=True, drop=True)\n",
    "familyDf['ID'] = familyDf.index + 2000\n",
    "familyDf.head()"
   ]
  },
  {
   "cell_type": "markdown",
   "metadata": {},
   "source": [
    "# map person/family to ids"
   ]
  },
  {
   "cell_type": "code",
   "execution_count": 16,
   "metadata": {},
   "outputs": [
    {
     "name": "stdout",
     "output_type": "stream",
     "text": [
      "3019 [[1317, 1344, 2089, 2507, 'Undirected', '吳芳英', '吳鴻麟', '吳伯雄家系', '桃園吳家家系', 'hasFather'], [1231, 1344, 2089, 2507, 'Undirected', '吳伯雄', '吳鴻麟', '吳伯雄家系', '桃園吳家家系', 'hasFather'], [1341, 1344, 2089, 2507, 'Undirected', '吳雪梅', '吳鴻麟', '吳伯雄家系', '桃園吳家家系', 'hasFather'], [1935, 1981, 2476, 2477, 'Undirected', '林國棟', '林平侯', '林維源家系', '林維讓家系', 'hasFather'], [1303, 1344, 2089, 2507, 'Undirected', '吳瑞枝', '吳鴻麟', '吳伯雄家系', '桃園吳家家系', 'hasFather']]\n"
     ]
    }
   ],
   "source": [
    "def getPersonID(INperson):\n",
    "    return personDf.loc[personDf['PersonName'] == INperson]['ID'].item()\n",
    "\n",
    "def getFamilyID(INfamily):\n",
    "    return familyDf.loc[familyDf['FamilyName'] == INfamily]['ID'].item()\n",
    "    \n",
    "finalList = []\n",
    "for res in resList:\n",
    "    sPerson = res[0]\n",
    "    relation = res[1]\n",
    "    tPerson = res[2]\n",
    "    sFamily = res[3]\n",
    "    tFamily = res[4]\n",
    "    \n",
    "    sPersonID = getPersonID(sPerson)\n",
    "    tPersonID = getPersonID(tPerson)\n",
    "    sFamilyID = getFamilyID(sFamily)\n",
    "    tFamilyID = getFamilyID(tFamily)\n",
    "\n",
    "    row = [sPersonID, tPersonID, sFamilyID, tFamilyID, 'Undirected', sPerson, tPerson, sFamily, tFamily, relation]\n",
    "    if row not in finalList:\n",
    "        finalList.append(row)\n",
    "\n",
    "print(len(finalList), finalList[0:5])"
   ]
  },
  {
   "cell_type": "code",
   "execution_count": 17,
   "metadata": {},
   "outputs": [
    {
     "data": {
      "text/html": [
       "<div>\n",
       "<style scoped>\n",
       "    .dataframe tbody tr th:only-of-type {\n",
       "        vertical-align: middle;\n",
       "    }\n",
       "\n",
       "    .dataframe tbody tr th {\n",
       "        vertical-align: top;\n",
       "    }\n",
       "\n",
       "    .dataframe thead th {\n",
       "        text-align: right;\n",
       "    }\n",
       "</style>\n",
       "<table border=\"1\" class=\"dataframe\">\n",
       "  <thead>\n",
       "    <tr style=\"text-align: right;\">\n",
       "      <th></th>\n",
       "      <th>SourcePersonID</th>\n",
       "      <th>TargetPersonID</th>\n",
       "      <th>SourceFamilyID</th>\n",
       "      <th>TargetFamilyID</th>\n",
       "      <th>Type</th>\n",
       "      <th>SourcePersonName</th>\n",
       "      <th>TargetPersonName</th>\n",
       "      <th>SourceFamilyName</th>\n",
       "      <th>TargetFamilyName</th>\n",
       "      <th>Relation</th>\n",
       "    </tr>\n",
       "  </thead>\n",
       "  <tbody>\n",
       "    <tr>\n",
       "      <th>0</th>\n",
       "      <td>1317</td>\n",
       "      <td>1344</td>\n",
       "      <td>2089</td>\n",
       "      <td>2507</td>\n",
       "      <td>Undirected</td>\n",
       "      <td>吳芳英</td>\n",
       "      <td>吳鴻麟</td>\n",
       "      <td>吳伯雄家系</td>\n",
       "      <td>桃園吳家家系</td>\n",
       "      <td>hasFather</td>\n",
       "    </tr>\n",
       "    <tr>\n",
       "      <th>1</th>\n",
       "      <td>1231</td>\n",
       "      <td>1344</td>\n",
       "      <td>2089</td>\n",
       "      <td>2507</td>\n",
       "      <td>Undirected</td>\n",
       "      <td>吳伯雄</td>\n",
       "      <td>吳鴻麟</td>\n",
       "      <td>吳伯雄家系</td>\n",
       "      <td>桃園吳家家系</td>\n",
       "      <td>hasFather</td>\n",
       "    </tr>\n",
       "    <tr>\n",
       "      <th>2</th>\n",
       "      <td>1341</td>\n",
       "      <td>1344</td>\n",
       "      <td>2089</td>\n",
       "      <td>2507</td>\n",
       "      <td>Undirected</td>\n",
       "      <td>吳雪梅</td>\n",
       "      <td>吳鴻麟</td>\n",
       "      <td>吳伯雄家系</td>\n",
       "      <td>桃園吳家家系</td>\n",
       "      <td>hasFather</td>\n",
       "    </tr>\n",
       "    <tr>\n",
       "      <th>3</th>\n",
       "      <td>1935</td>\n",
       "      <td>1981</td>\n",
       "      <td>2476</td>\n",
       "      <td>2477</td>\n",
       "      <td>Undirected</td>\n",
       "      <td>林國棟</td>\n",
       "      <td>林平侯</td>\n",
       "      <td>林維源家系</td>\n",
       "      <td>林維讓家系</td>\n",
       "      <td>hasFather</td>\n",
       "    </tr>\n",
       "    <tr>\n",
       "      <th>4</th>\n",
       "      <td>1303</td>\n",
       "      <td>1344</td>\n",
       "      <td>2089</td>\n",
       "      <td>2507</td>\n",
       "      <td>Undirected</td>\n",
       "      <td>吳瑞枝</td>\n",
       "      <td>吳鴻麟</td>\n",
       "      <td>吳伯雄家系</td>\n",
       "      <td>桃園吳家家系</td>\n",
       "      <td>hasFather</td>\n",
       "    </tr>\n",
       "  </tbody>\n",
       "</table>\n",
       "</div>"
      ],
      "text/plain": [
       "   SourcePersonID  TargetPersonID  SourceFamilyID  TargetFamilyID        Type  \\\n",
       "0            1317            1344            2089            2507  Undirected   \n",
       "1            1231            1344            2089            2507  Undirected   \n",
       "2            1341            1344            2089            2507  Undirected   \n",
       "3            1935            1981            2476            2477  Undirected   \n",
       "4            1303            1344            2089            2507  Undirected   \n",
       "\n",
       "  SourcePersonName TargetPersonName SourceFamilyName TargetFamilyName  \\\n",
       "0              吳芳英              吳鴻麟            吳伯雄家系           桃園吳家家系   \n",
       "1              吳伯雄              吳鴻麟            吳伯雄家系           桃園吳家家系   \n",
       "2              吳雪梅              吳鴻麟            吳伯雄家系           桃園吳家家系   \n",
       "3              林國棟              林平侯            林維源家系            林維讓家系   \n",
       "4              吳瑞枝              吳鴻麟            吳伯雄家系           桃園吳家家系   \n",
       "\n",
       "    Relation  \n",
       "0  hasFather  \n",
       "1  hasFather  \n",
       "2  hasFather  \n",
       "3  hasFather  \n",
       "4  hasFather  "
      ]
     },
     "execution_count": 17,
     "metadata": {},
     "output_type": "execute_result"
    }
   ],
   "source": [
    "finalDf = pd.DataFrame(finalList, columns=['SourcePersonID', 'TargetPersonID', 'SourceFamilyID', \n",
    "                                           'TargetFamilyID', 'Type', 'SourcePersonName',\n",
    "                                           'TargetPersonName', 'SourceFamilyName', 'TargetFamilyName',\n",
    "                                           'Relation'])\n",
    "finalDf.head()"
   ]
  },
  {
   "cell_type": "code",
   "execution_count": 18,
   "metadata": {},
   "outputs": [],
   "source": [
    "write_file_to = '{0}/{1}'.format(filepath, 'familyRelations_20190516_v4.xlsx')\n",
    "finalDf.to_excel(write_file_to, index=False)"
   ]
  },
  {
   "cell_type": "markdown",
   "metadata": {},
   "source": [
    "# Write Person/Family node IDs"
   ]
  },
  {
   "cell_type": "code",
   "execution_count": 19,
   "metadata": {},
   "outputs": [],
   "source": [
    "write_file_to = '{0}/{1}'.format(filepath, 'familyRelations_Node_20190516_v4.xlsx')\n",
    "with pd.ExcelWriter(write_file_to) as writer:\n",
    "    personDf.to_excel(writer, 'PersonNodes', index=False)\n",
    "    familyDf.to_excel(writer, 'FamilyNodes', index=False)\n",
    "    \n",
    "    writer.save()"
   ]
  },
  {
   "cell_type": "code",
   "execution_count": null,
   "metadata": {},
   "outputs": [],
   "source": []
  }
 ],
 "metadata": {
  "kernelspec": {
   "display_name": "Python 3",
   "language": "python",
   "name": "python3"
  },
  "language_info": {
   "codemirror_mode": {
    "name": "ipython",
    "version": 3
   },
   "file_extension": ".py",
   "mimetype": "text/x-python",
   "name": "python",
   "nbconvert_exporter": "python",
   "pygments_lexer": "ipython3",
   "version": "3.7.0"
  }
 },
 "nbformat": 4,
 "nbformat_minor": 2
}
