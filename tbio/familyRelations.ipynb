{
 "cells": [
  {
   "cell_type": "code",
   "execution_count": 1,
   "metadata": {},
   "outputs": [],
   "source": [
    "# SELECT DISTINCT ?personVal ?relationVal ?toPVal WHERE { \n",
    "#     ?s a tbio:Person .\n",
    "#     ?s ?p ?o .\n",
    "\n",
    "#     ?p rdfs:subPropertyOf ?familyOP .\n",
    "#     FILTER ( ?familyOP = tbio:hasFamilyRelation || ?familyOP = tbio:isFamilyRelationOf ) .\n",
    "\n",
    "#     BIND(STR(?s) AS ?personStr) .\n",
    "#     BIND(REPLACE(?personStr, \"http://tbio.orient.cas.cz#\", \"\") AS ?personVal) .\n",
    "#     BIND(STR(?p) AS ?relationStr) .\n",
    "#     BIND(REPLACE(?relationStr, \"http://tbio.orient.cas.cz#\", \"\") AS ?relationVal) .\n",
    "#     BIND(STR(?o) AS ?toPStr) .\n",
    "#     BIND(REPLACE(?toPStr, \"http://tbio.orient.cas.cz#\", \"\") AS ?toPVal) .\n",
    "# }"
   ]
  },
  {
   "cell_type": "code",
   "execution_count": 2,
   "metadata": {},
   "outputs": [],
   "source": [
    "import pandas as pd"
   ]
  },
  {
   "cell_type": "code",
   "execution_count": 3,
   "metadata": {},
   "outputs": [],
   "source": [
    "filepath = '/Volumes/backup_128G/z_repository/TBIO_data/RequestsFromTana/20190520'\n",
    "\n",
    "filename = 'familyRelations_20190516.tsv'\n",
    "\n",
    "read_filename = '{0}/{1}'.format(filepath, filename)"
   ]
  },
  {
   "cell_type": "code",
   "execution_count": 4,
   "metadata": {},
   "outputs": [
    {
     "data": {
      "text/plain": [
       "((34141, 3),   ?personVal ?relationVal    ?toPVal\n",
       " 0        丁瑞彬   isFatherOf    丁瑞彬的女子1\n",
       " 1        李文後   isFatherOf    李文後的男子3\n",
       " 2        李文後   isFatherOf    李文後的男子2\n",
       " 3        林劍清   isFatherOf        林希頂\n",
       " 4        林玉雕   isFatherOf  林玉雕的男、女子8)"
      ]
     },
     "execution_count": 4,
     "metadata": {},
     "output_type": "execute_result"
    }
   ],
   "source": [
    "workDf = pd.read_csv(read_filename, delimiter='\\t')\n",
    "workDf = workDf.fillna('')\n",
    "workDf.shape, workDf.head()"
   ]
  },
  {
   "cell_type": "markdown",
   "metadata": {},
   "source": [
    "# Assign all relations"
   ]
  },
  {
   "cell_type": "code",
   "execution_count": 5,
   "metadata": {},
   "outputs": [
    {
     "name": "stdout",
     "output_type": "stream",
     "text": [
      "34129\n"
     ]
    }
   ],
   "source": [
    "workList = []\n",
    "for idx in range(0, len(workDf)):\n",
    "    row = workDf.loc[idx]\n",
    "\n",
    "    sPerson = str(row['?personVal'])\n",
    "    relation = str(row['?relationVal'])\n",
    "    tPerson = str(row['?toPVal'])\n",
    "    \n",
    "    if sPerson == '' or tPerson == '':\n",
    "        continue\n",
    "        \n",
    "    toRow = [sPerson, relation, tPerson]\n",
    "\n",
    "    if toRow not in workList:\n",
    "        workList.append(toRow)\n",
    "    else:\n",
    "        print(\"DUP!\", toRow)\n",
    "    \n",
    "print(len(workList))"
   ]
  },
  {
   "cell_type": "markdown",
   "metadata": {},
   "source": [
    "# Filter out inverse relations"
   ]
  },
  {
   "cell_type": "code",
   "execution_count": 6,
   "metadata": {},
   "outputs": [
    {
     "name": "stdout",
     "output_type": "stream",
     "text": [
      "31684 [['辜顯榮', 'isFatherOf', '原配__辜顯榮長女'], ['吳運豐', 'hasFather', '吳鴻森'], ['林自炎', 'hasFather', '林歡邦'], ['吳芳英', 'hasFather', '吳鴻麟'], ['許碧瑜', 'hasFather', '許丙']]\n"
     ]
    }
   ],
   "source": [
    "def findInverse(INsPerson, INtPerson):\n",
    "    for work in workList:\n",
    "        sPerson = work[0]\n",
    "        relation = work[1]\n",
    "        tPerson = work[2]\n",
    "        \n",
    "#         if INsPerson == sPerson and INtPerson == tPerson:\n",
    "# #             print(INsPerson, INtPerson, work)\n",
    "#             return relation\n",
    "        if INsPerson == tPerson and INtPerson == sPerson:\n",
    "#             print(INsPerson, INtPerson, work)\n",
    "            return relation\n",
    "    return ''\n",
    "\n",
    "relationList = []\n",
    "for work in workList:\n",
    "    sPerson = work[0]\n",
    "    relation = work[1]\n",
    "    tPerson = work[2]\n",
    "\n",
    "    if 'has' in relation:\n",
    "        relationList.append(work)\n",
    "        continue\n",
    "    \n",
    "    OUTrelation = findInverse(sPerson, tPerson)\n",
    "    if OUTrelation == '':\n",
    "        relationList.append(work)\n",
    "        \n",
    "#     if 'has' in OUTrelation:\n",
    "#         resList.append([sPerson, OUTrelation, tPerson])\n",
    "#     elif OUTrelation != '':\n",
    "#         resList.append(work)\n",
    "\n",
    "print(len(relationList), relationList[0:5])"
   ]
  },
  {
   "cell_type": "code",
   "execution_count": 7,
   "metadata": {},
   "outputs": [],
   "source": [
    "# orgDf = pd.DataFrame(resList, columns=['SPerson', 'Relation', 'TPerson'])\n",
    "# orgDf.drop_duplicates(keep='first', inplace=True)\n",
    "# orgDf.sort_values(by=['SPerson', 'TPerson'], inplace=True)\n",
    "# orgDf.head()"
   ]
  },
  {
   "cell_type": "code",
   "execution_count": 8,
   "metadata": {},
   "outputs": [],
   "source": [
    "# orgDf.count()"
   ]
  },
  {
   "cell_type": "markdown",
   "metadata": {},
   "source": [
    "# Read person-family map table"
   ]
  },
  {
   "cell_type": "code",
   "execution_count": 9,
   "metadata": {},
   "outputs": [],
   "source": [
    "familymembers = 'Familymembers_20190521.xlsx'\n",
    "\n",
    "read_familymembers = '{0}/{1}'.format(filepath, familymembers)"
   ]
  },
  {
   "cell_type": "code",
   "execution_count": 10,
   "metadata": {},
   "outputs": [
    {
     "ename": "FileNotFoundError",
     "evalue": "[Errno 2] No such file or directory: '/Volumes/backup_128G/z_repository/TBIO_data/RequestsFromTana/20190520/Familymembers_20190521.xlsx'",
     "output_type": "error",
     "traceback": [
      "\u001b[0;31m---------------------------------------------------------------------------\u001b[0m",
      "\u001b[0;31mFileNotFoundError\u001b[0m                         Traceback (most recent call last)",
      "\u001b[0;32m<ipython-input-10-cd9920e572d5>\u001b[0m in \u001b[0;36m<module>\u001b[0;34m\u001b[0m\n\u001b[0;32m----> 1\u001b[0;31m \u001b[0mfmDf\u001b[0m \u001b[0;34m=\u001b[0m \u001b[0mpd\u001b[0m\u001b[0;34m.\u001b[0m\u001b[0mread_excel\u001b[0m\u001b[0;34m(\u001b[0m\u001b[0mread_familymembers\u001b[0m\u001b[0;34m)\u001b[0m\u001b[0;34m\u001b[0m\u001b[0m\n\u001b[0m\u001b[1;32m      2\u001b[0m \u001b[0mfmDf\u001b[0m\u001b[0;34m.\u001b[0m\u001b[0mshape\u001b[0m\u001b[0;34m,\u001b[0m \u001b[0mfmDf\u001b[0m\u001b[0;34m.\u001b[0m\u001b[0mhead\u001b[0m\u001b[0;34m(\u001b[0m\u001b[0;34m)\u001b[0m\u001b[0;34m\u001b[0m\u001b[0m\n",
      "\u001b[0;32m/usr/local/lib/python3.7/site-packages/pandas/util/_decorators.py\u001b[0m in \u001b[0;36mwrapper\u001b[0;34m(*args, **kwargs)\u001b[0m\n\u001b[1;32m    176\u001b[0m                 \u001b[0;32melse\u001b[0m\u001b[0;34m:\u001b[0m\u001b[0;34m\u001b[0m\u001b[0m\n\u001b[1;32m    177\u001b[0m                     \u001b[0mkwargs\u001b[0m\u001b[0;34m[\u001b[0m\u001b[0mnew_arg_name\u001b[0m\u001b[0;34m]\u001b[0m \u001b[0;34m=\u001b[0m \u001b[0mnew_arg_value\u001b[0m\u001b[0;34m\u001b[0m\u001b[0m\n\u001b[0;32m--> 178\u001b[0;31m             \u001b[0;32mreturn\u001b[0m \u001b[0mfunc\u001b[0m\u001b[0;34m(\u001b[0m\u001b[0;34m*\u001b[0m\u001b[0margs\u001b[0m\u001b[0;34m,\u001b[0m \u001b[0;34m**\u001b[0m\u001b[0mkwargs\u001b[0m\u001b[0;34m)\u001b[0m\u001b[0;34m\u001b[0m\u001b[0m\n\u001b[0m\u001b[1;32m    179\u001b[0m         \u001b[0;32mreturn\u001b[0m \u001b[0mwrapper\u001b[0m\u001b[0;34m\u001b[0m\u001b[0m\n\u001b[1;32m    180\u001b[0m     \u001b[0;32mreturn\u001b[0m \u001b[0m_deprecate_kwarg\u001b[0m\u001b[0;34m\u001b[0m\u001b[0m\n",
      "\u001b[0;32m/usr/local/lib/python3.7/site-packages/pandas/util/_decorators.py\u001b[0m in \u001b[0;36mwrapper\u001b[0;34m(*args, **kwargs)\u001b[0m\n\u001b[1;32m    176\u001b[0m                 \u001b[0;32melse\u001b[0m\u001b[0;34m:\u001b[0m\u001b[0;34m\u001b[0m\u001b[0m\n\u001b[1;32m    177\u001b[0m                     \u001b[0mkwargs\u001b[0m\u001b[0;34m[\u001b[0m\u001b[0mnew_arg_name\u001b[0m\u001b[0;34m]\u001b[0m \u001b[0;34m=\u001b[0m \u001b[0mnew_arg_value\u001b[0m\u001b[0;34m\u001b[0m\u001b[0m\n\u001b[0;32m--> 178\u001b[0;31m             \u001b[0;32mreturn\u001b[0m \u001b[0mfunc\u001b[0m\u001b[0;34m(\u001b[0m\u001b[0;34m*\u001b[0m\u001b[0margs\u001b[0m\u001b[0;34m,\u001b[0m \u001b[0;34m**\u001b[0m\u001b[0mkwargs\u001b[0m\u001b[0;34m)\u001b[0m\u001b[0;34m\u001b[0m\u001b[0m\n\u001b[0m\u001b[1;32m    179\u001b[0m         \u001b[0;32mreturn\u001b[0m \u001b[0mwrapper\u001b[0m\u001b[0;34m\u001b[0m\u001b[0m\n\u001b[1;32m    180\u001b[0m     \u001b[0;32mreturn\u001b[0m \u001b[0m_deprecate_kwarg\u001b[0m\u001b[0;34m\u001b[0m\u001b[0m\n",
      "\u001b[0;32m/usr/local/lib/python3.7/site-packages/pandas/io/excel.py\u001b[0m in \u001b[0;36mread_excel\u001b[0;34m(io, sheet_name, header, names, index_col, usecols, squeeze, dtype, engine, converters, true_values, false_values, skiprows, nrows, na_values, parse_dates, date_parser, thousands, comment, skipfooter, convert_float, **kwds)\u001b[0m\n\u001b[1;32m    305\u001b[0m \u001b[0;34m\u001b[0m\u001b[0m\n\u001b[1;32m    306\u001b[0m     \u001b[0;32mif\u001b[0m \u001b[0;32mnot\u001b[0m \u001b[0misinstance\u001b[0m\u001b[0;34m(\u001b[0m\u001b[0mio\u001b[0m\u001b[0;34m,\u001b[0m \u001b[0mExcelFile\u001b[0m\u001b[0;34m)\u001b[0m\u001b[0;34m:\u001b[0m\u001b[0;34m\u001b[0m\u001b[0m\n\u001b[0;32m--> 307\u001b[0;31m         \u001b[0mio\u001b[0m \u001b[0;34m=\u001b[0m \u001b[0mExcelFile\u001b[0m\u001b[0;34m(\u001b[0m\u001b[0mio\u001b[0m\u001b[0;34m,\u001b[0m \u001b[0mengine\u001b[0m\u001b[0;34m=\u001b[0m\u001b[0mengine\u001b[0m\u001b[0;34m)\u001b[0m\u001b[0;34m\u001b[0m\u001b[0m\n\u001b[0m\u001b[1;32m    308\u001b[0m \u001b[0;34m\u001b[0m\u001b[0m\n\u001b[1;32m    309\u001b[0m     return io.parse(\n",
      "\u001b[0;32m/usr/local/lib/python3.7/site-packages/pandas/io/excel.py\u001b[0m in \u001b[0;36m__init__\u001b[0;34m(self, io, **kwds)\u001b[0m\n\u001b[1;32m    392\u001b[0m             \u001b[0mself\u001b[0m\u001b[0;34m.\u001b[0m\u001b[0mbook\u001b[0m \u001b[0;34m=\u001b[0m \u001b[0mxlrd\u001b[0m\u001b[0;34m.\u001b[0m\u001b[0mopen_workbook\u001b[0m\u001b[0;34m(\u001b[0m\u001b[0mfile_contents\u001b[0m\u001b[0;34m=\u001b[0m\u001b[0mdata\u001b[0m\u001b[0;34m)\u001b[0m\u001b[0;34m\u001b[0m\u001b[0m\n\u001b[1;32m    393\u001b[0m         \u001b[0;32melif\u001b[0m \u001b[0misinstance\u001b[0m\u001b[0;34m(\u001b[0m\u001b[0mself\u001b[0m\u001b[0;34m.\u001b[0m\u001b[0m_io\u001b[0m\u001b[0;34m,\u001b[0m \u001b[0mcompat\u001b[0m\u001b[0;34m.\u001b[0m\u001b[0mstring_types\u001b[0m\u001b[0;34m)\u001b[0m\u001b[0;34m:\u001b[0m\u001b[0;34m\u001b[0m\u001b[0m\n\u001b[0;32m--> 394\u001b[0;31m             \u001b[0mself\u001b[0m\u001b[0;34m.\u001b[0m\u001b[0mbook\u001b[0m \u001b[0;34m=\u001b[0m \u001b[0mxlrd\u001b[0m\u001b[0;34m.\u001b[0m\u001b[0mopen_workbook\u001b[0m\u001b[0;34m(\u001b[0m\u001b[0mself\u001b[0m\u001b[0;34m.\u001b[0m\u001b[0m_io\u001b[0m\u001b[0;34m)\u001b[0m\u001b[0;34m\u001b[0m\u001b[0m\n\u001b[0m\u001b[1;32m    395\u001b[0m         \u001b[0;32melse\u001b[0m\u001b[0;34m:\u001b[0m\u001b[0;34m\u001b[0m\u001b[0m\n\u001b[1;32m    396\u001b[0m             raise ValueError('Must explicitly set engine if not passing in'\n",
      "\u001b[0;32m/usr/local/lib/python3.7/site-packages/xlrd/__init__.py\u001b[0m in \u001b[0;36mopen_workbook\u001b[0;34m(filename, logfile, verbosity, use_mmap, file_contents, encoding_override, formatting_info, on_demand, ragged_rows)\u001b[0m\n\u001b[1;32m    109\u001b[0m     \u001b[0;32melse\u001b[0m\u001b[0;34m:\u001b[0m\u001b[0;34m\u001b[0m\u001b[0m\n\u001b[1;32m    110\u001b[0m         \u001b[0mfilename\u001b[0m \u001b[0;34m=\u001b[0m \u001b[0mos\u001b[0m\u001b[0;34m.\u001b[0m\u001b[0mpath\u001b[0m\u001b[0;34m.\u001b[0m\u001b[0mexpanduser\u001b[0m\u001b[0;34m(\u001b[0m\u001b[0mfilename\u001b[0m\u001b[0;34m)\u001b[0m\u001b[0;34m\u001b[0m\u001b[0m\n\u001b[0;32m--> 111\u001b[0;31m         \u001b[0;32mwith\u001b[0m \u001b[0mopen\u001b[0m\u001b[0;34m(\u001b[0m\u001b[0mfilename\u001b[0m\u001b[0;34m,\u001b[0m \u001b[0;34m\"rb\"\u001b[0m\u001b[0;34m)\u001b[0m \u001b[0;32mas\u001b[0m \u001b[0mf\u001b[0m\u001b[0;34m:\u001b[0m\u001b[0;34m\u001b[0m\u001b[0m\n\u001b[0m\u001b[1;32m    112\u001b[0m             \u001b[0mpeek\u001b[0m \u001b[0;34m=\u001b[0m \u001b[0mf\u001b[0m\u001b[0;34m.\u001b[0m\u001b[0mread\u001b[0m\u001b[0;34m(\u001b[0m\u001b[0mpeeksz\u001b[0m\u001b[0;34m)\u001b[0m\u001b[0;34m\u001b[0m\u001b[0m\n\u001b[1;32m    113\u001b[0m     \u001b[0;32mif\u001b[0m \u001b[0mpeek\u001b[0m \u001b[0;34m==\u001b[0m \u001b[0;34mb\"PK\\x03\\x04\"\u001b[0m\u001b[0;34m:\u001b[0m \u001b[0;31m# a ZIP file\u001b[0m\u001b[0;34m\u001b[0m\u001b[0m\n",
      "\u001b[0;31mFileNotFoundError\u001b[0m: [Errno 2] No such file or directory: '/Volumes/backup_128G/z_repository/TBIO_data/RequestsFromTana/20190520/Familymembers_20190521.xlsx'"
     ]
    }
   ],
   "source": [
    "fmDf = pd.read_excel(read_familymembers)\n",
    "fmDf.shape, fmDf.head()"
   ]
  },
  {
   "cell_type": "code",
   "execution_count": null,
   "metadata": {},
   "outputs": [],
   "source": [
    "fmDic = {}\n",
    "# familiesDic = []\n",
    "for idx in range(0, len(fmDf)):\n",
    "    row = fmDf.loc[idx]\n",
    "\n",
    "    person = str(row['personStr'])\n",
    "    family = str(row['familyStr'])\n",
    "    \n",
    "    if person not in fmDic:\n",
    "        fmDic[person] = family\n",
    "    elif family != fmDic[person]:\n",
    "        print(\"Dup:\", person, family, fmDic[person])\n",
    "        \n",
    "#     if family not in familiesDic:\n",
    "#         familiesDic.append(family)\n",
    "\n",
    "# fmDic\n",
    "# print(len(familiesDic), familiesDic)"
   ]
  },
  {
   "cell_type": "code",
   "execution_count": null,
   "metadata": {},
   "outputs": [],
   "source": [
    "def getFamilyName(INperson):\n",
    "    if INperson not in fmDic:\n",
    "        return ''\n",
    "    return fmDic[INperson]\n",
    "\n",
    "relationFamilyList = []\n",
    "for row in relationList:\n",
    "    sPerson = row[0]\n",
    "    relation = row[1]\n",
    "    tPerson = row[2]\n",
    "\n",
    "    sFamily = getFamilyName(sPerson)\n",
    "    if sFamily == '':\n",
    "        continue\n",
    "        \n",
    "    tFamily = getFamilyName(tPerson)\n",
    "    if tFamily == '':\n",
    "        continue\n",
    "\n",
    "    if sFamily != tFamily:\n",
    "        relationFamilyList.append([sPerson, relation, tPerson, sFamily, tFamily])\n",
    "    \n",
    "print(len(relationFamilyList), relationFamilyList[0:5])"
   ]
  },
  {
   "cell_type": "markdown",
   "metadata": {},
   "source": [
    "# Remove parallel relations"
   ]
  },
  {
   "cell_type": "code",
   "execution_count": null,
   "metadata": {},
   "outputs": [],
   "source": [
    "# marriageList = []\n",
    "resList = []\n",
    "\n",
    "def duplicate(INsPerson, INtPerson):\n",
    "#     for row in marriageList:\n",
    "    for row in resList:\n",
    "        sPerson = row[0]\n",
    "        tPerson = row[2]\n",
    "        \n",
    "        if sPerson == INsPerson and INtPerson == tPerson:\n",
    "#             print(INsPerson, INtPerson)\n",
    "            return True\n",
    "\n",
    "        if tPerson == INsPerson and INtPerson == sPerson:\n",
    "#             print(INsPerson, INtPerson)\n",
    "            return True\n",
    "    return False\n",
    "            \n",
    "for row in relationFamilyList:\n",
    "    sPerson = row[0]\n",
    "    tPerson = row[2]\n",
    "    \n",
    "    if duplicate(sPerson, tPerson) == False:\n",
    "        resList.append(row)\n",
    "#         marriageList.append([sPerson, tPerson])\n",
    "    "
   ]
  },
  {
   "cell_type": "code",
   "execution_count": null,
   "metadata": {},
   "outputs": [],
   "source": [
    "personList = []\n",
    "familyList = []\n",
    "\n",
    "for res in resList:\n",
    "    sPerson = res[0]\n",
    "#     relation = res[1]\n",
    "    tPerson = res[2]\n",
    "    sFamily = res[3]\n",
    "    tFamily = res[4]\n",
    "    \n",
    "    if sPerson not in personList:\n",
    "        personList.append(sPerson)\n",
    "    \n",
    "    if tPerson not in personList:\n",
    "        personList.append(tPerson)\n",
    "        \n",
    "    if sFamily not in familyList:\n",
    "        familyList.append(sFamily)\n",
    "        \n",
    "    if tFamily not in familyList:\n",
    "        familyList.append(tFamily)\n",
    "        \n",
    "print(len(personList), personList[0:3])\n",
    "print(len(familyList), familyList[0:3])"
   ]
  },
  {
   "cell_type": "code",
   "execution_count": null,
   "metadata": {},
   "outputs": [],
   "source": [
    "personDf = pd.DataFrame(personList)\n",
    "personDf = personDf.rename(columns = {0:'PersonName'})\n",
    "personDf.sort_values(by=['PersonName'], inplace=True)\n",
    "personDf.reset_index(inplace=True, drop=True)\n",
    "personDf['ID'] = personDf.index + 1000\n",
    "personDf.head()"
   ]
  },
  {
   "cell_type": "code",
   "execution_count": null,
   "metadata": {},
   "outputs": [],
   "source": [
    "familyDf = pd.DataFrame(familyList)\n",
    "familyDf = familyDf.rename(columns = {0:'FamilyName'})\n",
    "familyDf.sort_values(by=['FamilyName'], inplace=True)\n",
    "familyDf.reset_index(inplace=True, drop=True)\n",
    "familyDf['ID'] = familyDf.index + 2000\n",
    "familyDf.head()"
   ]
  },
  {
   "cell_type": "markdown",
   "metadata": {},
   "source": [
    "# map person/family to ids"
   ]
  },
  {
   "cell_type": "code",
   "execution_count": null,
   "metadata": {},
   "outputs": [],
   "source": [
    "def getPersonID(INperson):\n",
    "    return personDf.loc[personDf['PersonName'] == INperson]['ID'].item()\n",
    "\n",
    "def getFamilyID(INfamily):\n",
    "    return familyDf.loc[familyDf['FamilyName'] == INfamily]['ID'].item()\n",
    "    \n",
    "finalList = []\n",
    "for res in resList:\n",
    "    sPerson = res[0]\n",
    "    relation = res[1]\n",
    "    tPerson = res[2]\n",
    "    sFamily = res[3]\n",
    "    tFamily = res[4]\n",
    "    \n",
    "    sPersonID = getPersonID(sPerson)\n",
    "    tPersonID = getPersonID(tPerson)\n",
    "    sFamilyID = getFamilyID(sFamily)\n",
    "    tFamilyID = getFamilyID(tFamily)\n",
    "\n",
    "    row = [sPersonID, tPersonID, sFamilyID, tFamilyID, 'Undirected', sPerson, tPerson, sFamily, tFamily, relation]\n",
    "    if row not in finalList:\n",
    "        finalList.append(row)\n",
    "\n",
    "print(len(finalList), finalList[0:5])"
   ]
  },
  {
   "cell_type": "code",
   "execution_count": null,
   "metadata": {},
   "outputs": [],
   "source": [
    "finalDf = pd.DataFrame(finalList, columns=['SourcePersonID', 'TargetPersonID', 'SourceFamilyID', \n",
    "                                           'TargetFamilyID', 'Type', 'SourcePersonName',\n",
    "                                           'TargetPersonName', 'SourceFamilyName', 'TargetFamilyName',\n",
    "                                           'Relation'])\n",
    "finalDf.head()"
   ]
  },
  {
   "cell_type": "code",
   "execution_count": null,
   "metadata": {},
   "outputs": [],
   "source": [
    "write_file_to = '{0}/{1}'.format(filepath, 'familyRelations_20190521_v6.xlsx')\n",
    "finalDf.to_excel(write_file_to, index=False)"
   ]
  },
  {
   "cell_type": "markdown",
   "metadata": {},
   "source": [
    "# Write Person/Family node IDs"
   ]
  },
  {
   "cell_type": "code",
   "execution_count": null,
   "metadata": {},
   "outputs": [],
   "source": [
    "write_file_to = '{0}/{1}'.format(filepath, 'familyRelations_Node_20190521_v6.xlsx')\n",
    "with pd.ExcelWriter(write_file_to) as writer:\n",
    "    personDf.to_excel(writer, 'PersonNodes', index=False)\n",
    "    familyDf.to_excel(writer, 'FamilyNodes', index=False)\n",
    "    \n",
    "    writer.save()"
   ]
  },
  {
   "cell_type": "code",
   "execution_count": null,
   "metadata": {},
   "outputs": [],
   "source": []
  }
 ],
 "metadata": {
  "kernelspec": {
   "display_name": "Python 3",
   "language": "python",
   "name": "python3"
  },
  "language_info": {
   "codemirror_mode": {
    "name": "ipython",
    "version": 3
   },
   "file_extension": ".py",
   "mimetype": "text/x-python",
   "name": "python",
   "nbconvert_exporter": "python",
   "pygments_lexer": "ipython3",
   "version": "3.7.0"
  }
 },
 "nbformat": 4,
 "nbformat_minor": 2
}
